{
 "cells": [
  {
   "cell_type": "code",
   "execution_count": 2,
   "id": "11bd5352-d80a-4d34-b74e-99d34191b376",
   "metadata": {},
   "outputs": [
    {
     "data": {
      "text/plain": [
       "10"
      ]
     },
     "execution_count": 2,
     "metadata": {},
     "output_type": "execute_result"
    }
   ],
   "source": [
    "a = 10\n",
    "a"
   ]
  },
  {
   "cell_type": "code",
   "execution_count": 3,
   "id": "4422289d-1ac9-4ef4-9fb5-8806a3acfb3b",
   "metadata": {},
   "outputs": [
    {
     "data": {
      "text/plain": [
       "10"
      ]
     },
     "execution_count": 3,
     "metadata": {},
     "output_type": "execute_result"
    }
   ],
   "source": [
    "a\n"
   ]
  },
  {
   "cell_type": "code",
   "execution_count": 107,
   "id": "a7fae8bc-6ce9-4557-8a97-cf9d11183fb2",
   "metadata": {},
   "outputs": [
    {
     "data": {
      "text/plain": [
       "int"
      ]
     },
     "execution_count": 107,
     "metadata": {},
     "output_type": "execute_result"
    }
   ],
   "source": [
    "type(a)"
   ]
  },
  {
   "cell_type": "code",
   "execution_count": 115,
   "id": "15fff663-cb23-4e29-aaa5-af8604fe23c7",
   "metadata": {},
   "outputs": [],
   "source": [
    "b = \"savith\""
   ]
  },
  {
   "cell_type": "code",
   "execution_count": 117,
   "id": "2e648f9f-95c8-410b-b82b-b6864936a3e0",
   "metadata": {},
   "outputs": [
    {
     "data": {
      "text/plain": [
       "'savith'"
      ]
     },
     "execution_count": 117,
     "metadata": {},
     "output_type": "execute_result"
    }
   ],
   "source": [
    "b"
   ]
  },
  {
   "cell_type": "code",
   "execution_count": 7,
   "id": "33065c55-0c39-4917-8691-284673b14bba",
   "metadata": {},
   "outputs": [
    {
     "data": {
      "text/plain": [
       "str"
      ]
     },
     "execution_count": 7,
     "metadata": {},
     "output_type": "execute_result"
    }
   ],
   "source": [
    "type(b)"
   ]
  },
  {
   "cell_type": "code",
   "execution_count": 8,
   "id": "afe812cf-f781-4fd4-87f3-fa0562a3b47c",
   "metadata": {},
   "outputs": [],
   "source": [
    "a = 45\n",
    "b = \"sudh\""
   ]
  },
  {
   "cell_type": "code",
   "execution_count": 9,
   "id": "d6af26ec-3b73-4426-8431-856e368b81f4",
   "metadata": {},
   "outputs": [],
   "source": [
    "a,b,s = 45,\"sudh\",\"this is my name\"\n"
   ]
  },
  {
   "cell_type": "code",
   "execution_count": 10,
   "id": "1cf288cb-aea5-42d4-9c28-373d2c076f8f",
   "metadata": {},
   "outputs": [
    {
     "data": {
      "text/plain": [
       "45"
      ]
     },
     "execution_count": 10,
     "metadata": {},
     "output_type": "execute_result"
    }
   ],
   "source": [
    "a\n"
   ]
  },
  {
   "cell_type": "code",
   "execution_count": 11,
   "id": "31367862-d3ac-41a7-bf60-80d8befdb664",
   "metadata": {},
   "outputs": [
    {
     "data": {
      "text/plain": [
       "'sudh'"
      ]
     },
     "execution_count": 11,
     "metadata": {},
     "output_type": "execute_result"
    }
   ],
   "source": [
    "b"
   ]
  },
  {
   "cell_type": "code",
   "execution_count": 12,
   "id": "f74c7256-e192-4445-8d2a-f14d6c1690cc",
   "metadata": {},
   "outputs": [
    {
     "data": {
      "text/plain": [
       "'this is my name'"
      ]
     },
     "execution_count": 12,
     "metadata": {},
     "output_type": "execute_result"
    }
   ],
   "source": [
    "s"
   ]
  },
  {
   "cell_type": "code",
   "execution_count": 13,
   "id": "90185f8a-0e59-4a8c-9be4-b800b58c6a0e",
   "metadata": {},
   "outputs": [
    {
     "data": {
      "text/plain": [
       "int"
      ]
     },
     "execution_count": 13,
     "metadata": {},
     "output_type": "execute_result"
    }
   ],
   "source": [
    "type(a)\n"
   ]
  },
  {
   "cell_type": "code",
   "execution_count": 14,
   "id": "90a0ec50-97f8-47d7-9654-6d2e89a91b9f",
   "metadata": {},
   "outputs": [
    {
     "data": {
      "text/plain": [
       "str"
      ]
     },
     "execution_count": 14,
     "metadata": {},
     "output_type": "execute_result"
    }
   ],
   "source": [
    "type(b)"
   ]
  },
  {
   "cell_type": "code",
   "execution_count": 15,
   "id": "a7e64e8f-d514-4bae-8a29-d1a75877e9de",
   "metadata": {},
   "outputs": [
    {
     "data": {
      "text/plain": [
       "str"
      ]
     },
     "execution_count": 15,
     "metadata": {},
     "output_type": "execute_result"
    }
   ],
   "source": [
    "type(s)"
   ]
  },
  {
   "cell_type": "code",
   "execution_count": 16,
   "id": "483ea7e0-5491-4ca9-acc2-cb67a31c5522",
   "metadata": {},
   "outputs": [
    {
     "name": "stdout",
     "output_type": "stream",
     "text": [
      "45 sudh this is my name\n"
     ]
    }
   ],
   "source": [
    "print(a,b,s)"
   ]
  },
  {
   "cell_type": "code",
   "execution_count": 17,
   "id": "9767f8e4-490e-4e0f-a1e2-98c282997996",
   "metadata": {},
   "outputs": [
    {
     "data": {
      "text/plain": [
       "4.65867"
      ]
     },
     "execution_count": 17,
     "metadata": {},
     "output_type": "execute_result"
    }
   ],
   "source": [
    "a = 4.65867\n",
    "a"
   ]
  },
  {
   "cell_type": "code",
   "execution_count": 18,
   "id": "9ccd406a-d484-4844-ba2a-489d42e6a86c",
   "metadata": {},
   "outputs": [
    {
     "data": {
      "text/plain": [
       "float"
      ]
     },
     "execution_count": 18,
     "metadata": {},
     "output_type": "execute_result"
    }
   ],
   "source": [
    "type(a)"
   ]
  },
  {
   "cell_type": "code",
   "execution_count": 19,
   "id": "0f4b5401-cc3c-4f37-ad6e-d2a61d134108",
   "metadata": {},
   "outputs": [
    {
     "data": {
      "text/plain": [
       "(True, False)"
      ]
     },
     "execution_count": 19,
     "metadata": {},
     "output_type": "execute_result"
    }
   ],
   "source": [
    "b = True\n",
    "c = False\n",
    "b,c"
   ]
  },
  {
   "cell_type": "code",
   "execution_count": 20,
   "id": "2935b4e6-5b15-4714-8a11-d79aed70b6d5",
   "metadata": {},
   "outputs": [
    {
     "data": {
      "text/plain": [
       "bool"
      ]
     },
     "execution_count": 20,
     "metadata": {},
     "output_type": "execute_result"
    }
   ],
   "source": [
    "type(b)\n"
   ]
  },
  {
   "cell_type": "code",
   "execution_count": 21,
   "id": "de580997-8f3d-4a14-88de-314de617b8a5",
   "metadata": {},
   "outputs": [
    {
     "data": {
      "text/plain": [
       "bool"
      ]
     },
     "execution_count": 21,
     "metadata": {},
     "output_type": "execute_result"
    }
   ],
   "source": [
    "type(c)"
   ]
  },
  {
   "cell_type": "code",
   "execution_count": 22,
   "id": "7f8e4bb8-8777-48c5-b2a2-ee63345f1ed2",
   "metadata": {},
   "outputs": [
    {
     "name": "stdout",
     "output_type": "stream",
     "text": [
      "4\n",
      "0\n"
     ]
    }
   ],
   "source": [
    "print(True+True+True+False+True)\n",
    "print(False-True+True)"
   ]
  },
  {
   "cell_type": "code",
   "execution_count": 23,
   "id": "cbe4ffad-8b82-46c4-b143-a7a49047ae0a",
   "metadata": {},
   "outputs": [
    {
     "data": {
      "text/plain": [
       "2"
      ]
     },
     "execution_count": 23,
     "metadata": {},
     "output_type": "execute_result"
    }
   ],
   "source": [
    "True+True-False"
   ]
  },
  {
   "cell_type": "code",
   "execution_count": 24,
   "id": "d1981411-e37c-480e-afc9-35eba53bef2c",
   "metadata": {},
   "outputs": [
    {
     "ename": "ZeroDivisionError",
     "evalue": "division by zero",
     "output_type": "error",
     "traceback": [
      "\u001b[0;31m---------------------------------------------------------------------------\u001b[0m",
      "\u001b[0;31mZeroDivisionError\u001b[0m                         Traceback (most recent call last)",
      "Cell \u001b[0;32mIn[24], line 1\u001b[0m\n\u001b[0;32m----> 1\u001b[0m \u001b[38;5;28;01mTrue\u001b[39;00m\u001b[38;5;241m/\u001b[39m\u001b[38;5;28;01mFalse\u001b[39;00m\n",
      "\u001b[0;31mZeroDivisionError\u001b[0m: division by zero"
     ]
    }
   ],
   "source": [
    "True/False"
   ]
  },
  {
   "cell_type": "code",
   "execution_count": null,
   "id": "3083a657-1d89-4562-be8d-237b0e30ddc2",
   "metadata": {},
   "outputs": [],
   "source": [
    "n = 45+6j"
   ]
  },
  {
   "cell_type": "code",
   "execution_count": null,
   "id": "acd6f2e1-57f9-451f-abf8-f6977269e00f",
   "metadata": {},
   "outputs": [],
   "source": [
    "type(n)\n"
   ]
  },
  {
   "cell_type": "code",
   "execution_count": null,
   "id": "2c3002c7-91c4-4c20-a49e-0995a52f2ef1",
   "metadata": {},
   "outputs": [],
   "source": [
    "n"
   ]
  },
  {
   "cell_type": "code",
   "execution_count": null,
   "id": "639401f9-078f-40e3-b7a4-ec561163e3b5",
   "metadata": {},
   "outputs": [],
   "source": [
    "n.real"
   ]
  },
  {
   "cell_type": "code",
   "execution_count": null,
   "id": "3ae0570c-a0e5-457e-868c-fd3a6064cc08",
   "metadata": {},
   "outputs": [],
   "source": [
    "n.imag"
   ]
  },
  {
   "cell_type": "code",
   "execution_count": null,
   "id": "3805dbab-a943-45b1-80ce-9af294464410",
   "metadata": {},
   "outputs": [],
   "source": [
    "b = \"sdf\"\n",
    "type(b)"
   ]
  },
  {
   "cell_type": "code",
   "execution_count": 23,
   "id": "01ff9b60-331d-45ec-9ba1-5606becb9f83",
   "metadata": {},
   "outputs": [
    {
     "ename": "TypeError",
     "evalue": "unsupported operand type(s) for +: 'int' and 'str'",
     "output_type": "error",
     "traceback": [
      "\u001b[0;31m---------------------------------------------------------------------------\u001b[0m",
      "\u001b[0;31mTypeError\u001b[0m                                 Traceback (most recent call last)",
      "Cell \u001b[0;32mIn[23], line 1\u001b[0m\n\u001b[0;32m----> 1\u001b[0m \u001b[38;5;241m1\u001b[39m \u001b[38;5;241m+\u001b[39m \u001b[38;5;124m\"\u001b[39m\u001b[38;5;124msudh\u001b[39m\u001b[38;5;124m\"\u001b[39m\n",
      "\u001b[0;31mTypeError\u001b[0m: unsupported operand type(s) for +: 'int' and 'str'"
     ]
    }
   ],
   "source": [
    "1 + \"sudh\""
   ]
  },
  {
   "cell_type": "code",
   "execution_count": 25,
   "id": "bf273451-35c6-4914-8ab8-fe68f438f02c",
   "metadata": {},
   "outputs": [
    {
     "data": {
      "text/plain": [
       "'1sudh'"
      ]
     },
     "execution_count": 25,
     "metadata": {},
     "output_type": "execute_result"
    }
   ],
   "source": [
    "\"1\"+\"sudh\""
   ]
  },
  {
   "cell_type": "code",
   "execution_count": 27,
   "id": "790d7ee2-0375-4e54-95dc-c1f33ef8396d",
   "metadata": {},
   "outputs": [
    {
     "data": {
      "text/plain": [
       "2.0"
      ]
     },
     "execution_count": 27,
     "metadata": {},
     "output_type": "execute_result"
    }
   ],
   "source": [
    "1+1.0"
   ]
  },
  {
   "cell_type": "code",
   "execution_count": 29,
   "id": "b6700cfd-80d0-4c86-ba75-923831a13f11",
   "metadata": {},
   "outputs": [
    {
     "data": {
      "text/plain": [
       "'sudhsudhsudh'"
      ]
     },
     "execution_count": 29,
     "metadata": {},
     "output_type": "execute_result"
    }
   ],
   "source": [
    "\"sudh\"*3"
   ]
  },
  {
   "cell_type": "code",
   "execution_count": 17,
   "id": "520b85c3-ab1c-4965-8c2c-a3a5c418c18f",
   "metadata": {},
   "outputs": [
    {
     "data": {
      "text/plain": [
       "(104+6j)"
      ]
     },
     "execution_count": 17,
     "metadata": {},
     "output_type": "execute_result"
    }
   ],
   "source": [
    "o = a+b/c\n",
    "o\n",
    "o1 = o+78+6j\n",
    "o1"
   ]
  },
  {
   "cell_type": "code",
   "execution_count": 19,
   "id": "baf11580-0a7d-4453-9dbd-96aeacbe401c",
   "metadata": {},
   "outputs": [
    {
     "data": {
      "text/plain": [
       "complex"
      ]
     },
     "execution_count": 19,
     "metadata": {},
     "output_type": "execute_result"
    }
   ],
   "source": [
    "type(o1)"
   ]
  },
  {
   "cell_type": "code",
   "execution_count": 21,
   "id": "ede8a4e4-7593-4284-867e-8cf5a29759eb",
   "metadata": {},
   "outputs": [
    {
     "data": {
      "text/plain": [
       "'(104+6j)raushan'"
      ]
     },
     "execution_count": 21,
     "metadata": {},
     "output_type": "execute_result"
    }
   ],
   "source": [
    "str(o1)+\"raushan\""
   ]
  },
  {
   "cell_type": "code",
   "execution_count": 75,
   "id": "76be97da-66e5-4069-ab6d-26a4e99219d7",
   "metadata": {},
   "outputs": [
    {
     "name": "stdin",
     "output_type": "stream",
     "text": [
      "this is my var a  12\n",
      "this is my var b  14\n",
      "this is my var c  2\n"
     ]
    },
    {
     "data": {
      "text/plain": [
       "(12, 14, 2)"
      ]
     },
     "execution_count": 75,
     "metadata": {},
     "output_type": "execute_result"
    }
   ],
   "source": [
    "a = int(input(\"this is my var a \"))\n",
    "b = int(input(\"this is my var b \"))\n",
    "c = int(input(\"this is my var c \"))\n",
    "a,b,c"
   ]
  },
  {
   "cell_type": "code",
   "execution_count": 42,
   "id": "933c0c07-2f6f-4770-b589-9b4dcee2445f",
   "metadata": {},
   "outputs": [
    {
     "data": {
      "text/plain": [
       "(12, 14, 2)"
      ]
     },
     "execution_count": 42,
     "metadata": {},
     "output_type": "execute_result"
    }
   ],
   "source": [
    "a,b,c"
   ]
  },
  {
   "cell_type": "code",
   "execution_count": 77,
   "id": "123ba7b3-64c0-479a-89d8-823c5af67823",
   "metadata": {},
   "outputs": [
    {
     "data": {
      "text/plain": [
       "19.0"
      ]
     },
     "execution_count": 77,
     "metadata": {},
     "output_type": "execute_result"
    }
   ],
   "source": [
    "o=a+b/c\n",
    "o"
   ]
  },
  {
   "cell_type": "code",
   "execution_count": 65,
   "id": "2cbaae75-488d-4360-801e-eaa37a27a33e",
   "metadata": {},
   "outputs": [
    {
     "name": "stdin",
     "output_type": "stream",
     "text": [
      "enter your salary 4\n"
     ]
    },
    {
     "name": "stdout",
     "output_type": "stream",
     "text": [
      "i will buy a car\n"
     ]
    }
   ],
   "source": [
    "salary = int(input(\"enter your salary\"))\n",
    "if salary < 1000:\n",
    "           print(\"i will buy a car\")\n",
    "elif salary < 500:\n",
    "           print(\"i will go for bike\")\n",
    "elif salary < 100:\n",
    "           print(\"i will not buy anything\")\n",
    "else :\n",
    "           print(\"i will go for saving\")\n",
    "\n",
    "           "
   ]
  },
  {
   "cell_type": "code",
   "execution_count": 67,
   "id": "779f6a57-7696-4bbb-8634-995fd6817a90",
   "metadata": {},
   "outputs": [
    {
     "name": "stdin",
     "output_type": "stream",
     "text": [
      "enter your salary 10056\n"
     ]
    },
    {
     "name": "stdout",
     "output_type": "stream",
     "text": [
      "your salary is good\n",
      "i will go with a nano car\n",
      "false code\n"
     ]
    }
   ],
   "source": [
    "salary = int(input(\"enter your salary\"))\n",
    "if( salary> 1000):\n",
    "    print(\"your salary is good\")\n",
    "    if salary > 5000:\n",
    "        print(\"i will go with a nano car\")\n",
    "        if True:\n",
    "            print(\"false code\")\n",
    "\n",
    "    elif salary > 10000:\n",
    "        print(\"i will go with maruti\")\n",
    "    elif salary > 50000:\n",
    "        print(\"i will go with toyota\")\n",
    "    else :\n",
    "        print(\"i will rent a car\")\n",
    "elif salary > 500:\n",
    "    print(\"i will go for bike\")\n",
    "elif salary > 100:\n",
    "    print(\" i will not buy anything\") \n",
    "else :\n",
    "    print(\"i will go for saving\")"
   ]
  },
  {
   "cell_type": "code",
   "execution_count": 83,
   "id": "bc27acde-f354-45d7-824e-3b14a391b60e",
   "metadata": {},
   "outputs": [
    {
     "name": "stdout",
     "output_type": "stream",
     "text": [
      "10\n",
      "hello world\n",
      "None\n",
      "5245284720\n"
     ]
    }
   ],
   "source": [
    "myVariable=10\n",
    "def my_function():\n",
    "  print(\"hello world\")\n",
    "class Myclass:\n",
    "    pass\n",
    "my_object=Myclass()\n",
    "print(myVariable)\n",
    "print(my_function())\n",
    "print(id(my_object))\n"
   ]
  },
  {
   "cell_type": "code",
   "execution_count": 89,
   "id": "7717f1e0-9bbe-4aa3-861c-3de21c492188",
   "metadata": {},
   "outputs": [
    {
     "name": "stdin",
     "output_type": "stream",
     "text": [
      "enter a number 13\n"
     ]
    },
    {
     "name": "stdout",
     "output_type": "stream",
     "text": [
      "odd\n"
     ]
    }
   ],
   "source": [
    "x=int(input(\"enter a number\"))\n",
    "if x%2==0:\n",
    "      print(\"even\")\n",
    "else:\n",
    "      print(\"odd\")"
   ]
  },
  {
   "cell_type": "code",
   "execution_count": 97,
   "id": "6aa588c9-084e-425c-a288-042c47aea859",
   "metadata": {},
   "outputs": [
    {
     "name": "stdin",
     "output_type": "stream",
     "text": [
      "enter your age 12\n"
     ]
    },
    {
     "name": "stdout",
     "output_type": "stream",
     "text": [
      "he can not vote\n"
     ]
    }
   ],
   "source": [
    "x=int(input(\"enter your age\"))\n",
    "age=0\n",
    "if age>=18:\n",
    "    print(\"he can vote\")\n",
    "else:\n",
    "    print(\"he can not vote\")\n",
    "\n",
    "      "
   ]
  },
  {
   "cell_type": "code",
   "execution_count": 101,
   "id": "5d3f0e84-b017-4aa6-ab57-f8fa21fa5d76",
   "metadata": {},
   "outputs": [
    {
     "name": "stdout",
     "output_type": "stream",
     "text": [
      "5242541776\n",
      "5248774032\n"
     ]
    },
    {
     "data": {
      "text/plain": [
       "False"
      ]
     },
     "execution_count": 101,
     "metadata": {},
     "output_type": "execute_result"
    }
   ],
   "source": [
    "c=30.0\n",
    "d=40.0\n",
    "print(id(c))\n",
    "print(id(d))\n",
    "id(c)==id(d)\n"
   ]
  },
  {
   "cell_type": "code",
   "execution_count": 103,
   "id": "641928c5-9388-4589-9ef0-ff05b0e72739",
   "metadata": {},
   "outputs": [
    {
     "name": "stdout",
     "output_type": "stream",
     "text": [
      "4301611912\n",
      "4301611912\n"
     ]
    },
    {
     "data": {
      "text/plain": [
       "True"
      ]
     },
     "execution_count": 103,
     "metadata": {},
     "output_type": "execute_result"
    }
   ],
   "source": [
    "a=10\n",
    "b=10\n",
    "print(id(a))\n",
    "print(id(b))\n",
    "id(a)==id(b)"
   ]
  },
  {
   "cell_type": "code",
   "execution_count": 105,
   "id": "6f880f3b-723e-4b9f-91c5-edb39664f4a7",
   "metadata": {},
   "outputs": [
    {
     "name": "stdout",
     "output_type": "stream",
     "text": [
      "4301612232\n"
     ]
    }
   ],
   "source": [
    "a=20\n",
    "b=30\n",
    "print(id(a))\n"
   ]
  },
  {
   "cell_type": "code",
   "execution_count": 107,
   "id": "39074842-e57e-431b-a3c4-0a57f0eba058",
   "metadata": {},
   "outputs": [
    {
     "name": "stdout",
     "output_type": "stream",
     "text": [
      "4301612552\n"
     ]
    }
   ],
   "source": [
    "print(id(b))"
   ]
  },
  {
   "cell_type": "code",
   "execution_count": 109,
   "id": "faab3d4d-2f38-4bed-bb2a-e4c77cc7a6d7",
   "metadata": {},
   "outputs": [
    {
     "data": {
      "text/plain": [
       "False"
      ]
     },
     "execution_count": 109,
     "metadata": {},
     "output_type": "execute_result"
    }
   ],
   "source": [
    "id(a)==id(b)"
   ]
  },
  {
   "cell_type": "code",
   "execution_count": 111,
   "id": "c5f4d5df-8b5d-4e81-8536-8f80cf2eff61",
   "metadata": {},
   "outputs": [
    {
     "data": {
      "text/plain": [
       "True"
      ]
     },
     "execution_count": 111,
     "metadata": {},
     "output_type": "execute_result"
    }
   ],
   "source": [
    "b=20\n",
    "id(a)==id(b)"
   ]
  },
  {
   "cell_type": "code",
   "execution_count": 5,
   "id": "c5819837-7a7c-4181-bb8d-0e416098dc16",
   "metadata": {},
   "outputs": [
    {
     "name": "stdout",
     "output_type": "stream",
     "text": [
      "this is a valid statement\n"
     ]
    }
   ],
   "source": [
    "a = 10\n",
    "b = 20\n",
    "if a == 10 and b == 20 :\n",
    "    print(\"this is a valid statement\")"
   ]
  },
  {
   "cell_type": "code",
   "execution_count": 7,
   "id": "e2141382-987c-4bf9-a183-3de17c3a5c7a",
   "metadata": {},
   "outputs": [
    {
     "name": "stdout",
     "output_type": "stream",
     "text": [
      "this ststement is valid inside elif\n"
     ]
    }
   ],
   "source": [
    "a = 10\n",
    "b = 20\n",
    "if a == 10 and b > 20 :\n",
    "    print(\"this is a valid statement\")\n",
    "elif a == 10 and b<=20:\n",
    "    print(\"this ststement is valid inside elif\")\n",
    "else :\n",
    "    print(\"condition is not valid\")\n"
   ]
  },
  {
   "cell_type": "code",
   "execution_count": 9,
   "id": "7c03ebad-29be-4b82-8235-f29bb5c39748",
   "metadata": {},
   "outputs": [
    {
     "data": {
      "text/plain": [
       "True"
      ]
     },
     "execution_count": 9,
     "metadata": {},
     "output_type": "execute_result"
    }
   ],
   "source": [
    "a==10"
   ]
  },
  {
   "cell_type": "code",
   "execution_count": 11,
   "id": "92c6b442-aae0-4087-aad5-42306d741ea3",
   "metadata": {},
   "outputs": [
    {
     "data": {
      "text/plain": [
       "True"
      ]
     },
     "execution_count": 11,
     "metadata": {},
     "output_type": "execute_result"
    }
   ],
   "source": [
    "b==20"
   ]
  },
  {
   "cell_type": "code",
   "execution_count": 13,
   "id": "2cf9ccd9-b6f0-47f1-ad66-b4cbb6bc6955",
   "metadata": {},
   "outputs": [
    {
     "data": {
      "text/plain": [
       "False"
      ]
     },
     "execution_count": 13,
     "metadata": {},
     "output_type": "execute_result"
    }
   ],
   "source": [
    "a==10 and b>20"
   ]
  },
  {
   "cell_type": "code",
   "execution_count": 15,
   "id": "25c86b57-3c61-4b26-8741-e6d442c40a96",
   "metadata": {},
   "outputs": [
    {
     "name": "stdout",
     "output_type": "stream",
     "text": [
      "valid\n"
     ]
    }
   ],
   "source": [
    "if a == 10:\n",
    "    print(\"valid\")"
   ]
  },
  {
   "cell_type": "code",
   "execution_count": 17,
   "id": "0f62f03b-27f9-4c27-8acf-e1f7c3071ef8",
   "metadata": {},
   "outputs": [
    {
     "name": "stdout",
     "output_type": "stream",
     "text": [
      "this is my speed\n",
      "this is my speed\n",
      "this is my speed\n",
      "this is my speed\n",
      "this is my speed\n",
      "this is my speed\n",
      "this is my speed\n",
      "this is my speed\n",
      "this is my speed\n"
     ]
    }
   ],
   "source": [
    "initial_speed = 0\n",
    "final_speed = 100\n",
    "count = 1\n",
    "while initial_speed<final_speed:\n",
    "    print(\"this is my speed\")\n",
    "    count = count +1\n",
    "    if count == 10 :\n",
    "        break"
   ]
  },
  {
   "cell_type": "code",
   "execution_count": 19,
   "id": "4694eb67-bc21-4954-a45e-f9f863948b78",
   "metadata": {},
   "outputs": [
    {
     "name": "stdout",
     "output_type": "stream",
     "text": [
      "1\n",
      "2\n",
      "3\n",
      "4\n"
     ]
    }
   ],
   "source": [
    "i = 1\n",
    "j = 5\n",
    "while i<j :\n",
    "    print(i)\n",
    "    i = i+1"
   ]
  },
  {
   "cell_type": "code",
   "execution_count": 21,
   "id": "712f3c32-946d-44f5-a0cf-9f6736c65b11",
   "metadata": {},
   "outputs": [
    {
     "name": "stdout",
     "output_type": "stream",
     "text": [
      "1\n",
      "2\n",
      "3\n",
      "4\n",
      "no 10 rs notes are available\n"
     ]
    }
   ],
   "source": [
    "notes = 5\n",
    "i = 1\n",
    "while i < notes:\n",
    "    print(i)\n",
    "    i += 1\n",
    "else :\n",
    "    print(\"no 10 rs notes are available\")"
   ]
  },
  {
   "cell_type": "code",
   "execution_count": 23,
   "id": "e04bc19d-073d-470f-b953-62b720e1f2dc",
   "metadata": {},
   "outputs": [],
   "source": [
    "s = \"sudh\""
   ]
  },
  {
   "cell_type": "code",
   "execution_count": 25,
   "id": "522b794a-a211-4e2b-8c30-d85e5cb94fe7",
   "metadata": {},
   "outputs": [
    {
     "data": {
      "text/plain": [
       "'sudh'"
      ]
     },
     "execution_count": 25,
     "metadata": {},
     "output_type": "execute_result"
    }
   ],
   "source": [
    "s"
   ]
  },
  {
   "cell_type": "code",
   "execution_count": 27,
   "id": "e2bdad07-3109-4ae4-acf0-c5703ba7272f",
   "metadata": {},
   "outputs": [
    {
     "data": {
      "text/plain": [
       "'s'"
      ]
     },
     "execution_count": 27,
     "metadata": {},
     "output_type": "execute_result"
    }
   ],
   "source": [
    "s[0]"
   ]
  },
  {
   "cell_type": "code",
   "execution_count": 29,
   "id": "3fa80301-fd8d-465e-b45d-5518bb7539a3",
   "metadata": {},
   "outputs": [
    {
     "data": {
      "text/plain": [
       "'d'"
      ]
     },
     "execution_count": 29,
     "metadata": {},
     "output_type": "execute_result"
    }
   ],
   "source": [
    "s[2]"
   ]
  },
  {
   "cell_type": "code",
   "execution_count": 31,
   "id": "800609c1-ea56-4a79-a5f9-ae0272ce44aa",
   "metadata": {},
   "outputs": [],
   "source": [
    "s = \"my name is sudhanshu\""
   ]
  },
  {
   "cell_type": "code",
   "execution_count": 33,
   "id": "edef6137-ed3a-487e-8024-a18b0186193f",
   "metadata": {},
   "outputs": [
    {
     "data": {
      "text/plain": [
       "'my name is sudhanshu'"
      ]
     },
     "execution_count": 33,
     "metadata": {},
     "output_type": "execute_result"
    }
   ],
   "source": [
    "s"
   ]
  },
  {
   "cell_type": "code",
   "execution_count": 35,
   "id": "d679e921-7e72-4ff9-b8fd-65b4b08184af",
   "metadata": {},
   "outputs": [
    {
     "data": {
      "text/plain": [
       "'name is'"
      ]
     },
     "execution_count": 35,
     "metadata": {},
     "output_type": "execute_result"
    }
   ],
   "source": [
    "s[3:10]"
   ]
  },
  {
   "cell_type": "code",
   "execution_count": 37,
   "id": "6378eacc-1f55-4380-b0d4-eee9a4f273c9",
   "metadata": {},
   "outputs": [
    {
     "data": {
      "text/plain": [
       "'nm s'"
      ]
     },
     "execution_count": 37,
     "metadata": {},
     "output_type": "execute_result"
    }
   ],
   "source": [
    "s[3:10:2]"
   ]
  },
  {
   "cell_type": "code",
   "execution_count": 39,
   "id": "8260e390-5d8e-4e55-ad35-438fa30400bd",
   "metadata": {},
   "outputs": [
    {
     "data": {
      "text/plain": [
       "''"
      ]
     },
     "execution_count": 39,
     "metadata": {},
     "output_type": "execute_result"
    }
   ],
   "source": [
    "s[10:3:1]"
   ]
  },
  {
   "cell_type": "code",
   "execution_count": 41,
   "id": "c050bc90-5fb1-427a-b786-1fdd468aa989",
   "metadata": {},
   "outputs": [
    {
     "data": {
      "text/plain": [
       "' si ema'"
      ]
     },
     "execution_count": 41,
     "metadata": {},
     "output_type": "execute_result"
    }
   ],
   "source": [
    "s[10:3:-1]"
   ]
  },
  {
   "cell_type": "code",
   "execution_count": 43,
   "id": "38b100d8-83b7-4e97-88d9-e74ec7e6039b",
   "metadata": {},
   "outputs": [
    {
     "data": {
      "text/plain": [
       "' si eman'"
      ]
     },
     "execution_count": 43,
     "metadata": {},
     "output_type": "execute_result"
    }
   ],
   "source": [
    "s[10:2:-1]"
   ]
  },
  {
   "cell_type": "code",
   "execution_count": 45,
   "id": "7a807e14-ab90-4086-989e-97751ad5fc64",
   "metadata": {},
   "outputs": [
    {
     "data": {
      "text/plain": [
       "'uhsnahdus si eman ym'"
      ]
     },
     "execution_count": 45,
     "metadata": {},
     "output_type": "execute_result"
    }
   ],
   "source": [
    "s[: :-1]"
   ]
  },
  {
   "cell_type": "code",
   "execution_count": 47,
   "id": "67b1b79a-ae2f-4074-b4ee-c320299746c1",
   "metadata": {},
   "outputs": [
    {
     "data": {
      "text/plain": [
       "' name is sud'"
      ]
     },
     "execution_count": 47,
     "metadata": {},
     "output_type": "execute_result"
    }
   ],
   "source": [
    "s[2:-6]"
   ]
  },
  {
   "cell_type": "code",
   "execution_count": 51,
   "id": "705a0fd0-f53b-4d51-8cd7-7e6b58323800",
   "metadata": {},
   "outputs": [
    {
     "name": "stdout",
     "output_type": "stream",
     "text": [
      "m\n",
      "y\n",
      " \n",
      "n\n",
      "a\n",
      "m\n",
      "e\n",
      " \n",
      "i\n",
      " i got s as a string\n",
      "s\n",
      " \n",
      " i got s as a string\n",
      "s\n",
      "u\n",
      "d\n",
      "h\n",
      "a\n",
      "n\n",
      " i got s as a string\n",
      "s\n",
      "h\n",
      "u\n"
     ]
    }
   ],
   "source": [
    "for i in s :\n",
    "    if i == 's':\n",
    "        print(\" i got s as a string\")\n",
    "    print(i)"
   ]
  },
  {
   "cell_type": "code",
   "execution_count": 53,
   "id": "c6ae4801-f6cf-4934-a911-422fc049aa12",
   "metadata": {},
   "outputs": [
    {
     "name": "stdout",
     "output_type": "stream",
     "text": [
      "m\n",
      "y\n",
      " \n"
     ]
    }
   ],
   "source": [
    "for i in s :\n",
    "    if i == \"n\":\n",
    "        break\n",
    "    print(i)\n",
    "else :\n",
    "    if i == 'u':\n",
    "        print(\"last char was u \")"
   ]
  },
  {
   "cell_type": "code",
   "execution_count": 55,
   "id": "508e8c4b-8ff7-4ba6-9da0-ee839ca3db88",
   "metadata": {},
   "outputs": [
    {
     "name": "stdout",
     "output_type": "stream",
     "text": [
      "m\n",
      "y\n",
      " \n",
      "a\n",
      "m\n",
      "e\n",
      " \n",
      "i\n",
      "s\n",
      " \n",
      "s\n",
      "u\n",
      "d\n",
      "h\n",
      "a\n",
      "s\n",
      "h\n",
      "u\n",
      "last char wa u \n",
      "this is a else condition \n"
     ]
    }
   ],
   "source": [
    "for i in s :\n",
    "    if i == \"n\" :\n",
    "        continue\n",
    "    print(i)\n",
    "else :\n",
    "    if i == 'u':\n",
    "        print(\"last char wa u \")\n",
    "    print(\"this is a else condition \")"
   ]
  },
  {
   "cell_type": "code",
   "execution_count": 67,
   "id": "b2116840-29a2-4838-9bfa-fa27dee5b2eb",
   "metadata": {},
   "outputs": [],
   "source": [
    "s = \"ineuron\"\n",
    "ss =\" \"\n",
    "for i in range(len(s)):\n",
    "    if s[i] == \"n\":\n",
    "        continue\n",
    "    else :\n",
    "        ss = ss + s[i]"
   ]
  },
  {
   "cell_type": "code",
   "execution_count": 69,
   "id": "0b61f3e7-4a20-4e65-b445-efedf9b23ee0",
   "metadata": {},
   "outputs": [
    {
     "data": {
      "text/plain": [
       "' ieuro'"
      ]
     },
     "execution_count": 69,
     "metadata": {},
     "output_type": "execute_result"
    }
   ],
   "source": [
    "ss"
   ]
  },
  {
   "cell_type": "code",
   "execution_count": 71,
   "id": "0a906bb5-7e28-4130-856d-6737f1b1e487",
   "metadata": {},
   "outputs": [
    {
     "data": {
      "text/plain": [
       "7"
      ]
     },
     "execution_count": 71,
     "metadata": {},
     "output_type": "execute_result"
    }
   ],
   "source": [
    "len(s)"
   ]
  },
  {
   "cell_type": "code",
   "execution_count": 73,
   "id": "7815c36b-2820-447d-838d-a58850640cef",
   "metadata": {},
   "outputs": [
    {
     "name": "stdout",
     "output_type": "stream",
     "text": [
      "+  \n",
      "+  +  \n",
      "+  +  +  \n",
      "+  +  +  +  \n",
      "+  +  +  +  +  \n",
      "+  +  +  +  +  +  \n",
      "+  +  +  +  +  +  +  \n"
     ]
    }
   ],
   "source": [
    "n = 7\n",
    "for i in range(0 ,n):\n",
    "    for j in range(0 ,i +1):\n",
    "        print(\"+ \" , end = \" \")\n",
    "    print(\"\\r\")"
   ]
  },
  {
   "cell_type": "code",
   "execution_count": 81,
   "id": "e1fe822e-136a-41cf-bb97-218f97a950c6",
   "metadata": {},
   "outputs": [
    {
     "name": "stdin",
     "output_type": "stream",
     "text": [
      "enter a number 20\n",
      "enter a number 10\n"
     ]
    },
    {
     "data": {
      "text/plain": [
       "30"
      ]
     },
     "execution_count": 81,
     "metadata": {},
     "output_type": "execute_result"
    }
   ],
   "source": [
    "a = int(input(\"enter a number\"))\n",
    "b = int(input(\"enter a number\"))\n",
    "a-b"
   ]
  },
  {
   "cell_type": "code",
   "execution_count": 83,
   "id": "e1c62b49-d936-45fc-bbea-4cad09cbffc2",
   "metadata": {},
   "outputs": [
    {
     "data": {
      "text/plain": [
       "30"
      ]
     },
     "execution_count": 83,
     "metadata": {},
     "output_type": "execute_result"
    }
   ],
   "source": [
    "a+b"
   ]
  },
  {
   "cell_type": "code",
   "execution_count": 85,
   "id": "84b525cb-a25e-4bfe-aec1-75510d687592",
   "metadata": {},
   "outputs": [
    {
     "data": {
      "text/plain": [
       "10"
      ]
     },
     "execution_count": 85,
     "metadata": {},
     "output_type": "execute_result"
    }
   ],
   "source": [
    "a-b"
   ]
  },
  {
   "cell_type": "code",
   "execution_count": 87,
   "id": "0b056842-0f19-4b1d-8c6c-35fd650f19dd",
   "metadata": {},
   "outputs": [
    {
     "name": "stdin",
     "output_type": "stream",
     "text": [
      "enter a number 10\n",
      "enter a number 20\n"
     ]
    },
    {
     "data": {
      "text/plain": [
       "30"
      ]
     },
     "execution_count": 87,
     "metadata": {},
     "output_type": "execute_result"
    }
   ],
   "source": [
    "a = int(input(\"enter a number\"))\n",
    "b = int(input(\"enter a number\"))\n",
    "a+b"
   ]
  },
  {
   "cell_type": "code",
   "execution_count": 91,
   "id": "8afc842a-e40f-4c2c-b6fa-adbb9dd673d4",
   "metadata": {},
   "outputs": [
    {
     "name": "stdin",
     "output_type": "stream",
     "text": [
      "enter a number 13\n",
      "enter a number 2\n"
     ]
    },
    {
     "data": {
      "text/plain": [
       "1"
      ]
     },
     "execution_count": 91,
     "metadata": {},
     "output_type": "execute_result"
    }
   ],
   "source": [
    "a = int(input(\"enter a number\"))\n",
    "b = int(input(\"enter a number\"))\n",
    "a%b"
   ]
  },
  {
   "cell_type": "code",
   "execution_count": 95,
   "id": "c3a20771-ee49-40de-b83b-f9c8a49d7ce8",
   "metadata": {},
   "outputs": [
    {
     "name": "stdin",
     "output_type": "stream",
     "text": [
      "enter a number 13\n",
      "enter a number 2\n"
     ]
    },
    {
     "data": {
      "text/plain": [
       "26"
      ]
     },
     "execution_count": 95,
     "metadata": {},
     "output_type": "execute_result"
    }
   ],
   "source": [
    "a = int(input(\"enter a number\"))\n",
    "b = int(input(\"enter a number\"))\n",
    "a*b\n"
   ]
  },
  {
   "cell_type": "code",
   "execution_count": 99,
   "id": "63eed257-c89a-44ff-b08c-fc84370a304e",
   "metadata": {},
   "outputs": [
    {
     "data": {
      "text/plain": [
       "False"
      ]
     },
     "execution_count": 99,
     "metadata": {},
     "output_type": "execute_result"
    }
   ],
   "source": [
    "a=5\n",
    "b=4\n",
    "a==b"
   ]
  },
  {
   "cell_type": "code",
   "execution_count": 101,
   "id": "c64f1d9c-841c-4033-85a8-0565c5b8acf7",
   "metadata": {},
   "outputs": [
    {
     "data": {
      "text/plain": [
       "True"
      ]
     },
     "execution_count": 101,
     "metadata": {},
     "output_type": "execute_result"
    }
   ],
   "source": [
    "a>=b\n"
   ]
  },
  {
   "cell_type": "code",
   "execution_count": 103,
   "id": "fe5b4555-99a1-4d72-a74d-3bfae022132c",
   "metadata": {},
   "outputs": [
    {
     "data": {
      "text/plain": [
       "False"
      ]
     },
     "execution_count": 103,
     "metadata": {},
     "output_type": "execute_result"
    }
   ],
   "source": [
    "a<=b\n"
   ]
  },
  {
   "cell_type": "code",
   "execution_count": 121,
   "id": "40953f63-7af4-45ee-ac20-769c67ae2209",
   "metadata": {},
   "outputs": [
    {
     "name": "stdout",
     "output_type": "stream",
     "text": [
      "        "
     ]
    },
    {
     "ename": "NameError",
     "evalue": "name 'o' is not defined",
     "output_type": "error",
     "traceback": [
      "\u001b[0;31m---------------------------------------------------------------------------\u001b[0m",
      "\u001b[0;31mNameError\u001b[0m                                 Traceback (most recent call last)",
      "Cell \u001b[0;32mIn[121], line 7\u001b[0m\n\u001b[1;32m      5\u001b[0m     \u001b[38;5;28mprint\u001b[39m(end\u001b[38;5;241m=\u001b[39m\u001b[38;5;124m\"\u001b[39m\u001b[38;5;124m \u001b[39m\u001b[38;5;124m\"\u001b[39m)\n\u001b[1;32m      6\u001b[0m m \u001b[38;5;241m=\u001b[39m m \u001b[38;5;241m+\u001b[39m \u001b[38;5;241m1\u001b[39m\n\u001b[0;32m----> 7\u001b[0m \u001b[38;5;28;01mfor\u001b[39;00m j \u001b[38;5;129;01min\u001b[39;00m \u001b[38;5;28mrange\u001b[39m(o, i \u001b[38;5;241m+\u001b[39m \u001b[38;5;241m1\u001b[39m):\n\u001b[1;32m      8\u001b[0m     \u001b[38;5;28mprint\u001b[39m(\u001b[38;5;124m\"\u001b[39m\u001b[38;5;124m*\u001b[39m\u001b[38;5;124m\"\u001b[39m, end\u001b[38;5;241m=\u001b[39m\u001b[38;5;124m\"\u001b[39m\u001b[38;5;124m \u001b[39m\u001b[38;5;124m\"\u001b[39m)\n\u001b[1;32m      9\u001b[0m \u001b[38;5;28mprint\u001b[39m(\u001b[38;5;124m\"\u001b[39m\u001b[38;5;124m \u001b[39m\u001b[38;5;124m\"\u001b[39m)\n",
      "\u001b[0;31mNameError\u001b[0m: name 'o' is not defined"
     ]
    }
   ],
   "source": [
    "num = 5\n",
    "m = 2 * num-2\n",
    "for i in range(num, -1, -1):\n",
    "    for j in range(m, 0, -1):\n",
    "        print(end=\" \")\n",
    "    m = m + 1\n",
    "    for j in range(o, i + 1):\n",
    "        print(\"*\", end=\" \")\n",
    "    print(\" \")\n",
    "    "
   ]
  },
  {
   "cell_type": "code",
   "execution_count": 124,
   "id": "f6dac5f2-215e-4072-8fa8-8f3af2f20e42",
   "metadata": {},
   "outputs": [
    {
     "name": "stdout",
     "output_type": "stream",
     "text": [
      "8\n",
      "7\n",
      "6\n",
      "5\n"
     ]
    }
   ],
   "source": [
    "for i in range(8,4,-1):\n",
    "    print(i)\n"
   ]
  },
  {
   "cell_type": "code",
   "execution_count": 126,
   "id": "b848e2bc-296c-473d-8a60-2dc8d2df77c2",
   "metadata": {},
   "outputs": [
    {
     "name": "stdout",
     "output_type": "stream",
     "text": [
      "0\n",
      "2\n",
      "4\n",
      "6\n",
      "8\n",
      "10\n",
      "12\n",
      "14\n",
      "16\n",
      "18\n",
      "20\n",
      "22\n",
      "24\n",
      "26\n",
      "28\n",
      "30\n",
      "32\n",
      "34\n",
      "36\n",
      "38\n",
      "40\n",
      "42\n",
      "44\n",
      "46\n",
      "48\n",
      "50\n",
      "52\n",
      "54\n",
      "56\n",
      "58\n",
      "60\n",
      "62\n",
      "64\n",
      "66\n",
      "68\n",
      "70\n",
      "72\n",
      "74\n",
      "76\n",
      "78\n",
      "80\n",
      "82\n",
      "84\n",
      "86\n",
      "88\n",
      "90\n",
      "92\n",
      "94\n",
      "96\n",
      "98\n"
     ]
    }
   ],
   "source": [
    "for i in range(0,100,2):\n",
    "    print(i)"
   ]
  },
  {
   "cell_type": "code",
   "execution_count": 7,
   "id": "9955a1ac-4722-4e25-9a75-df5dad74933d",
   "metadata": {},
   "outputs": [
    {
     "name": "stdin",
     "output_type": "stream",
     "text": [
      "enter number of rows required:  7\n"
     ]
    },
    {
     "name": "stdout",
     "output_type": "stream",
     "text": [
      "            * * * * * * * * * * * * * \n",
      "            * * * * * * * * * * * \n",
      "            * * * * * * * * * \n",
      "            * * * * * * * \n",
      "            * * * * * \n",
      "            * * * \n",
      "            * \n"
     ]
    }
   ],
   "source": [
    "n = int(input('enter number of rows required: '))\n",
    "\n",
    "for i in range(n,0,-1):\n",
    "    for j in range(n-1):\n",
    "        print(' ', end=' ')\n",
    "\n",
    "    for j in range(2*i-1):\n",
    "        print('*',end=' ')\n",
    "    print()\n",
    "    #doubt in this code"
   ]
  },
  {
   "cell_type": "code",
   "execution_count": 12,
   "id": "6efabca5-5210-42d0-a089-95e5e354a7e7",
   "metadata": {},
   "outputs": [
    {
     "data": {
      "text/plain": [
       "[0, 1, 2, 3, 4, 5, 6, 7, 8, 9]"
      ]
     },
     "execution_count": 12,
     "metadata": {},
     "output_type": "execute_result"
    }
   ],
   "source": [
    "list(range(10))"
   ]
  },
  {
   "cell_type": "code",
   "execution_count": 15,
   "id": "9c7000ef-3542-4821-b10c-62f3190f7e7b",
   "metadata": {},
   "outputs": [
    {
     "data": {
      "text/plain": [
       "range(0, 10)"
      ]
     },
     "execution_count": 15,
     "metadata": {},
     "output_type": "execute_result"
    }
   ],
   "source": [
    "range(10)"
   ]
  },
  {
   "cell_type": "code",
   "execution_count": 17,
   "id": "2468a070-f4d7-4dc8-abf0-56d866346ff0",
   "metadata": {},
   "outputs": [
    {
     "name": "stdout",
     "output_type": "stream",
     "text": [
      "eeee\n",
      "ssjijsi\n",
      "\n"
     ]
    }
   ],
   "source": [
    "print(\"eeee\\nssjijsi\\n\")"
   ]
  },
  {
   "cell_type": "code",
   "execution_count": 21,
   "id": "19f5b4c0-2370-4bc5-8309-ca2befc412ce",
   "metadata": {},
   "outputs": [
    {
     "name": "stdout",
     "output_type": "stream",
     "text": [
      "jjijijij\n"
     ]
    }
   ],
   "source": [
    "print(\"oooi\\rijcijij\\rjjijijij\\r\")"
   ]
  },
  {
   "cell_type": "code",
   "execution_count": 25,
   "id": "ac5ddfd1-9f45-46f7-a94c-433d0e9f51e1",
   "metadata": {},
   "outputs": [
    {
     "name": "stdout",
     "output_type": "stream",
     "text": [
      "krish"
     ]
    }
   ],
   "source": [
    "string= \"krish\"\n",
    "for i in string:\n",
    "    print(i,end=\"\")"
   ]
  },
  {
   "cell_type": "code",
   "execution_count": 27,
   "id": "cbdd270f-d110-4ab9-b3fa-d0825121d9e2",
   "metadata": {},
   "outputs": [
    {
     "name": "stdout",
     "output_type": "stream",
     "text": [
      "1\n",
      "2\n",
      "3\n",
      "4\n",
      "5\n",
      "i is no longer less than 6\n"
     ]
    }
   ],
   "source": [
    "i = 1\n",
    "while i < 6:\n",
    "    print(i)\n",
    "    i +=1\n",
    "else:\n",
    "    print(\"i is no longer less than 6\")"
   ]
  },
  {
   "cell_type": "code",
   "execution_count": 31,
   "id": "4f10343e-fd97-4c51-bc40-2cdec62d1fb4",
   "metadata": {},
   "outputs": [
    {
     "name": "stdout",
     "output_type": "stream",
     "text": [
      "*  *  *  *  *  *  *  *  *  *  "
     ]
    }
   ],
   "source": [
    "for i in range(10):\n",
    "    print(\"*\",end=\"  \")"
   ]
  },
  {
   "cell_type": "code",
   "execution_count": null,
   "id": "754c33ef-2876-4afa-bc8a-c93fd9d1a951",
   "metadata": {},
   "outputs": [],
   "source": []
  },
  {
   "cell_type": "code",
   "execution_count": 33,
   "id": "9749e503-ffd3-46f1-ab8e-5aeee735e8e2",
   "metadata": {},
   "outputs": [
    {
     "name": "stdout",
     "output_type": "stream",
     "text": [
      "*\n",
      "*\n",
      "*\n",
      "*\n",
      "*\n",
      "*\n",
      "*\n",
      "*\n",
      "*\n",
      "*\n"
     ]
    }
   ],
   "source": [
    "for i in range(10):\n",
    "    print(\"*\",end=\"\\n\")"
   ]
  },
  {
   "cell_type": "code",
   "execution_count": 36,
   "id": "d9a77316-d850-479a-8524-86ae0f14547a",
   "metadata": {},
   "outputs": [
    {
     "ename": "NameError",
     "evalue": "name 'lst' is not defined",
     "output_type": "error",
     "traceback": [
      "\u001b[0;31m---------------------------------------------------------------------------\u001b[0m",
      "\u001b[0;31mNameError\u001b[0m                                 Traceback (most recent call last)",
      "Cell \u001b[0;32mIn[36], line 1\u001b[0m\n\u001b[0;32m----> 1\u001b[0m lst[\u001b[38;5;241m5\u001b[39m]\n",
      "\u001b[0;31mNameError\u001b[0m: name 'lst' is not defined"
     ]
    }
   ],
   "source": [
    "lst[5]"
   ]
  },
  {
   "cell_type": "code",
   "execution_count": 38,
   "id": "6055ac0f-1eb7-46c5-95c5-6c508ff04bf8",
   "metadata": {},
   "outputs": [],
   "source": [
    "s = \"this is full stack class\""
   ]
  },
  {
   "cell_type": "code",
   "execution_count": 40,
   "id": "c6088d33-3e19-4f53-9001-dec77426aebe",
   "metadata": {},
   "outputs": [
    {
     "data": {
      "text/plain": [
       "'t'"
      ]
     },
     "execution_count": 40,
     "metadata": {},
     "output_type": "execute_result"
    }
   ],
   "source": [
    "s[0]"
   ]
  },
  {
   "cell_type": "code",
   "execution_count": 42,
   "id": "4834f695-f8a6-46cc-bc68-ddc319fa8442",
   "metadata": {},
   "outputs": [
    {
     "data": {
      "text/plain": [
       "'s'"
      ]
     },
     "execution_count": 42,
     "metadata": {},
     "output_type": "execute_result"
    }
   ],
   "source": [
    "s[-1]\n"
   ]
  },
  {
   "cell_type": "code",
   "execution_count": 63,
   "id": "46bee5d8-b641-4211-b90e-e46b3fcb128c",
   "metadata": {},
   "outputs": [
    {
     "ename": "TypeError",
     "evalue": "'str' object does not support item assignment",
     "output_type": "error",
     "traceback": [
      "\u001b[0;31m---------------------------------------------------------------------------\u001b[0m",
      "\u001b[0;31mTypeError\u001b[0m                                 Traceback (most recent call last)",
      "Cell \u001b[0;32mIn[63], line 1\u001b[0m\n\u001b[0;32m----> 1\u001b[0m s[\u001b[38;5;241m0\u001b[39m]\u001b[38;5;241m=\u001b[39m\u001b[38;5;124m\"\u001b[39m\u001b[38;5;124mx\u001b[39m\u001b[38;5;124m\"\u001b[39m\n",
      "\u001b[0;31mTypeError\u001b[0m: 'str' object does not support item assignment"
     ]
    }
   ],
   "source": [
    "s[0]=\"x\""
   ]
  },
  {
   "cell_type": "code",
   "execution_count": 44,
   "id": "95e3da47-dda4-4442-a851-332131fbcab3",
   "metadata": {},
   "outputs": [
    {
     "data": {
      "text/plain": [
       "24"
      ]
     },
     "execution_count": 44,
     "metadata": {},
     "output_type": "execute_result"
    }
   ],
   "source": [
    "len(s)"
   ]
  },
  {
   "cell_type": "code",
   "execution_count": 47,
   "id": "95b94c07-a780-4be8-a2ec-3fe2d380b96a",
   "metadata": {},
   "outputs": [
    {
     "ename": "IndexError",
     "evalue": "string index out of range",
     "output_type": "error",
     "traceback": [
      "\u001b[0;31m---------------------------------------------------------------------------\u001b[0m",
      "\u001b[0;31mIndexError\u001b[0m                                Traceback (most recent call last)",
      "Cell \u001b[0;32mIn[47], line 1\u001b[0m\n\u001b[0;32m----> 1\u001b[0m s[\u001b[38;5;241m100\u001b[39m]\n",
      "\u001b[0;31mIndexError\u001b[0m: string index out of range"
     ]
    }
   ],
   "source": [
    "s[100]"
   ]
  },
  {
   "cell_type": "code",
   "execution_count": 49,
   "id": "ad66c8ed-6926-4bda-9335-eb69c0d70e63",
   "metadata": {},
   "outputs": [
    {
     "data": {
      "text/plain": [
       "'his is fu'"
      ]
     },
     "execution_count": 49,
     "metadata": {},
     "output_type": "execute_result"
    }
   ],
   "source": [
    "s[1:10:1]"
   ]
  },
  {
   "cell_type": "code",
   "execution_count": 51,
   "id": "27b73120-e0cc-4b23-989d-19022be0a688",
   "metadata": {},
   "outputs": [
    {
     "name": "stdout",
     "output_type": "stream",
     "text": [
      "t\n",
      "h\n",
      "i\n",
      "s\n",
      " \n",
      "i\n",
      "s\n",
      " \n",
      "f\n",
      "u\n",
      "l\n",
      "l\n",
      " \n",
      "s\n",
      "t\n",
      "a\n",
      "c\n",
      "k\n",
      " \n",
      "c\n",
      "l\n",
      "a\n",
      "s\n",
      "s\n"
     ]
    }
   ],
   "source": [
    "for i in range(len(s)) :\n",
    "    print(s[i])"
   ]
  },
  {
   "cell_type": "code",
   "execution_count": 53,
   "id": "86e431f1-1cc8-48b7-b626-ddc055c5f067",
   "metadata": {},
   "outputs": [],
   "source": [
    "l = [\"sdfs\",234,345,45,True]"
   ]
  },
  {
   "cell_type": "code",
   "execution_count": 55,
   "id": "55ade74d-5e2b-4f51-9b7d-9f0d2cd00d32",
   "metadata": {},
   "outputs": [
    {
     "data": {
      "text/plain": [
       "'sdfs'"
      ]
     },
     "execution_count": 55,
     "metadata": {},
     "output_type": "execute_result"
    }
   ],
   "source": [
    "l[0]"
   ]
  },
  {
   "cell_type": "code",
   "execution_count": 59,
   "id": "0597729a-79e3-452d-806b-5d96370273c6",
   "metadata": {},
   "outputs": [],
   "source": [
    "l[0] = \"sudh\""
   ]
  },
  {
   "cell_type": "code",
   "execution_count": 61,
   "id": "55922176-921d-4450-8bdf-0e3589c205e1",
   "metadata": {},
   "outputs": [
    {
     "data": {
      "text/plain": [
       "'sudh'"
      ]
     },
     "execution_count": 61,
     "metadata": {},
     "output_type": "execute_result"
    }
   ],
   "source": [
    "l[0]"
   ]
  },
  {
   "cell_type": "code",
   "execution_count": 65,
   "id": "438ec6c2-f3d4-42fe-abcf-b4a4ef4faa3b",
   "metadata": {},
   "outputs": [
    {
     "data": {
      "text/plain": [
       "'ssalc kcats lluf si siht'"
      ]
     },
     "execution_count": 65,
     "metadata": {},
     "output_type": "execute_result"
    }
   ],
   "source": [
    "s[::-1]"
   ]
  },
  {
   "cell_type": "code",
   "execution_count": 67,
   "id": "90f46e51-a86d-49d3-9338-032c6fc4b2c8",
   "metadata": {},
   "outputs": [
    {
     "data": {
      "text/plain": [
       "'sudhkumar'"
      ]
     },
     "execution_count": 67,
     "metadata": {},
     "output_type": "execute_result"
    }
   ],
   "source": [
    "\"sudh\" + \"kumar\""
   ]
  },
  {
   "cell_type": "code",
   "execution_count": 69,
   "id": "2972c0a2-0ba0-43b3-a9e5-ddc0b6e1ee77",
   "metadata": {},
   "outputs": [
    {
     "ename": "TypeError",
     "evalue": "can only concatenate str (not \"int\") to str",
     "output_type": "error",
     "traceback": [
      "\u001b[0;31m---------------------------------------------------------------------------\u001b[0m",
      "\u001b[0;31mTypeError\u001b[0m                                 Traceback (most recent call last)",
      "Cell \u001b[0;32mIn[69], line 1\u001b[0m\n\u001b[0;32m----> 1\u001b[0m \u001b[38;5;124m\"\u001b[39m\u001b[38;5;124msudh\u001b[39m\u001b[38;5;124m\"\u001b[39m\u001b[38;5;241m+\u001b[39m\u001b[38;5;241m3\u001b[39m\n",
      "\u001b[0;31mTypeError\u001b[0m: can only concatenate str (not \"int\") to str"
     ]
    }
   ],
   "source": [
    "\"sudh\"+3\n"
   ]
  },
  {
   "cell_type": "code",
   "execution_count": 71,
   "id": "6ee8862f-9063-438a-b592-865409621f16",
   "metadata": {},
   "outputs": [
    {
     "data": {
      "text/plain": [
       "'sudh3'"
      ]
     },
     "execution_count": 71,
     "metadata": {},
     "output_type": "execute_result"
    }
   ],
   "source": [
    "\"sudh\"+\"3\""
   ]
  },
  {
   "cell_type": "code",
   "execution_count": 73,
   "id": "6b75b43c-a902-4ac4-a2a3-00018ef52226",
   "metadata": {},
   "outputs": [
    {
     "data": {
      "text/plain": [
       "'sudh3'"
      ]
     },
     "execution_count": 73,
     "metadata": {},
     "output_type": "execute_result"
    }
   ],
   "source": [
    "\"sudh\"+str(3)"
   ]
  },
  {
   "cell_type": "code",
   "execution_count": 75,
   "id": "caef40d6-b78d-44a8-a310-bb9a9cd6b04a",
   "metadata": {},
   "outputs": [],
   "source": [
    "s = \"my name is \""
   ]
  },
  {
   "cell_type": "code",
   "execution_count": 77,
   "id": "ec7af7c5-5122-4db6-9ebf-d706e739d54d",
   "metadata": {},
   "outputs": [
    {
     "data": {
      "text/plain": [
       "'my name is '"
      ]
     },
     "execution_count": 77,
     "metadata": {},
     "output_type": "execute_result"
    }
   ],
   "source": [
    "s"
   ]
  },
  {
   "cell_type": "code",
   "execution_count": 79,
   "id": "232f80bf-f059-4431-9055-b6cb3eb8f028",
   "metadata": {},
   "outputs": [
    {
     "data": {
      "text/plain": [
       "0"
      ]
     },
     "execution_count": 79,
     "metadata": {},
     "output_type": "execute_result"
    }
   ],
   "source": [
    "s.find(\"m\")"
   ]
  },
  {
   "cell_type": "code",
   "execution_count": 81,
   "id": "d1b96d9d-2685-4d47-9120-04149ecb2fa6",
   "metadata": {},
   "outputs": [
    {
     "data": {
      "text/plain": [
       "-1"
      ]
     },
     "execution_count": 81,
     "metadata": {},
     "output_type": "execute_result"
    }
   ],
   "source": [
    "s.find(\"mn\")"
   ]
  },
  {
   "cell_type": "code",
   "execution_count": 83,
   "id": "5032506f-e6b5-4a51-8838-1a67d090b4f2",
   "metadata": {},
   "outputs": [
    {
     "data": {
      "text/plain": [
       "-1"
      ]
     },
     "execution_count": 83,
     "metadata": {},
     "output_type": "execute_result"
    }
   ],
   "source": [
    "s.find(\"ihhihih\")"
   ]
  },
  {
   "cell_type": "code",
   "execution_count": 85,
   "id": "4ad05f3b-860f-49da-966b-4c997323a3d5",
   "metadata": {},
   "outputs": [
    {
     "data": {
      "text/plain": [
       "0"
      ]
     },
     "execution_count": 85,
     "metadata": {},
     "output_type": "execute_result"
    }
   ],
   "source": [
    "s.find(\"my\")"
   ]
  },
  {
   "cell_type": "code",
   "execution_count": 87,
   "id": "21f18d2e-8b62-4c8e-9cf4-f837fb93a176",
   "metadata": {},
   "outputs": [
    {
     "data": {
      "text/plain": [
       "3"
      ]
     },
     "execution_count": 87,
     "metadata": {},
     "output_type": "execute_result"
    }
   ],
   "source": [
    "s.find(\"name\")"
   ]
  },
  {
   "cell_type": "code",
   "execution_count": 99,
   "id": "ce85ea40-9e55-4da5-a292-035e77835546",
   "metadata": {},
   "outputs": [
    {
     "data": {
      "text/plain": [
       "'my name is sudhanshu kumar , name of org is ineuron'"
      ]
     },
     "execution_count": 99,
     "metadata": {},
     "output_type": "execute_result"
    }
   ],
   "source": [
    "s"
   ]
  },
  {
   "cell_type": "code",
   "execution_count": 89,
   "id": "c7e8d419-a378-41f6-84b4-7066c8549b71",
   "metadata": {},
   "outputs": [],
   "source": [
    "s = \"my name is sudhanshu kumar , name of org is ineuron\""
   ]
  },
  {
   "cell_type": "code",
   "execution_count": 91,
   "id": "7a1ddf81-7645-4a41-8e3b-9e71b2ee928c",
   "metadata": {},
   "outputs": [
    {
     "data": {
      "text/plain": [
       "'my name is sudhanshu kumar , name of org is ineuron'"
      ]
     },
     "execution_count": 91,
     "metadata": {},
     "output_type": "execute_result"
    }
   ],
   "source": [
    "s"
   ]
  },
  {
   "cell_type": "code",
   "execution_count": 93,
   "id": "5c6a2966-b46b-4838-bebf-a1d18640480e",
   "metadata": {},
   "outputs": [
    {
     "data": {
      "text/plain": [
       "3"
      ]
     },
     "execution_count": 93,
     "metadata": {},
     "output_type": "execute_result"
    }
   ],
   "source": [
    "s.find(\"name\")"
   ]
  },
  {
   "cell_type": "code",
   "execution_count": 97,
   "id": "516f07b4-dd9d-44d8-ba5b-d3bba7c08b81",
   "metadata": {},
   "outputs": [
    {
     "name": "stdout",
     "output_type": "stream",
     "text": [
      "3\n",
      "4\n",
      "5\n",
      "6\n"
     ]
    }
   ],
   "source": [
    "b = s.find(\"name\")\n",
    "for i in range(len(\"name\")):\n",
    "           print(b + i)\n"
   ]
  },
  {
   "cell_type": "code",
   "execution_count": 101,
   "id": "ed8e061a-aac0-43ce-9b15-a0b6ab9a6c77",
   "metadata": {},
   "outputs": [
    {
     "data": {
      "text/plain": [
       "4"
      ]
     },
     "execution_count": 101,
     "metadata": {},
     "output_type": "execute_result"
    }
   ],
   "source": [
    "s.count(\"m\")"
   ]
  },
  {
   "cell_type": "code",
   "execution_count": 103,
   "id": "8b128b9b-da6c-45e7-92d1-740a797fcfa2",
   "metadata": {},
   "outputs": [
    {
     "data": {
      "text/plain": [
       "1"
      ]
     },
     "execution_count": 103,
     "metadata": {},
     "output_type": "execute_result"
    }
   ],
   "source": [
    "s.count(\"my\")"
   ]
  },
  {
   "cell_type": "code",
   "execution_count": 107,
   "id": "3b490bdd-8d81-44fd-a89c-118d6dc5bc39",
   "metadata": {},
   "outputs": [
    {
     "data": {
      "text/plain": [
       "2"
      ]
     },
     "execution_count": 107,
     "metadata": {},
     "output_type": "execute_result"
    }
   ],
   "source": [
    "s.count(\"name\")"
   ]
  },
  {
   "cell_type": "code",
   "execution_count": 109,
   "id": "154cfc8a-2bf5-4273-a7ea-838e3d6917c2",
   "metadata": {},
   "outputs": [
    {
     "data": {
      "text/plain": [
       "0"
      ]
     },
     "execution_count": 109,
     "metadata": {},
     "output_type": "execute_result"
    }
   ],
   "source": [
    "s.count(\"Name\")"
   ]
  },
  {
   "cell_type": "code",
   "execution_count": 111,
   "id": "ad993e29-ae25-4eb5-92c4-23a6862496be",
   "metadata": {},
   "outputs": [
    {
     "data": {
      "text/plain": [
       "['my',\n",
       " 'name',\n",
       " 'is',\n",
       " 'sudhanshu',\n",
       " 'kumar',\n",
       " ',',\n",
       " 'name',\n",
       " 'of',\n",
       " 'org',\n",
       " 'is',\n",
       " 'ineuron']"
      ]
     },
     "execution_count": 111,
     "metadata": {},
     "output_type": "execute_result"
    }
   ],
   "source": [
    "s.split()\n"
   ]
  },
  {
   "cell_type": "code",
   "execution_count": 113,
   "id": "ecd37375-da27-4e12-9700-38af5380a446",
   "metadata": {},
   "outputs": [
    {
     "data": {
      "text/plain": [
       "['my name is sudhanshu kumar ', ' name of org is ineuron']"
      ]
     },
     "execution_count": 113,
     "metadata": {},
     "output_type": "execute_result"
    }
   ],
   "source": [
    "s.split(',')    "
   ]
  },
  {
   "cell_type": "code",
   "execution_count": 115,
   "id": "449930f6-b7d7-49b5-abd8-0d770e8c8b31",
   "metadata": {},
   "outputs": [
    {
     "data": {
      "text/plain": [
       "['my ', 'me is sudhanshu kumar , ', 'me of org is ineuron']"
      ]
     },
     "execution_count": 115,
     "metadata": {},
     "output_type": "execute_result"
    }
   ],
   "source": [
    "s.split('na')"
   ]
  },
  {
   "cell_type": "code",
   "execution_count": 117,
   "id": "7b24d380-97d5-4c88-a94f-5b3744649f7d",
   "metadata": {},
   "outputs": [
    {
     "data": {
      "text/plain": [
       "list"
      ]
     },
     "execution_count": 117,
     "metadata": {},
     "output_type": "execute_result"
    }
   ],
   "source": [
    "type(s.split())"
   ]
  },
  {
   "cell_type": "code",
   "execution_count": 119,
   "id": "7babe196-2b20-4a40-b72d-e04681d40371",
   "metadata": {},
   "outputs": [
    {
     "data": {
      "text/plain": [
       "'my name is sudhanshu kumar , name of org is ineuron'"
      ]
     },
     "execution_count": 119,
     "metadata": {},
     "output_type": "execute_result"
    }
   ],
   "source": [
    "s"
   ]
  },
  {
   "cell_type": "code",
   "execution_count": 121,
   "id": "b411a79e-885e-470e-9f53-e6a72086d2d0",
   "metadata": {},
   "outputs": [
    {
     "data": {
      "text/plain": [
       "'MY NAME IS SUDHANSHU KUMAR , NAME OF ORG IS INEURON'"
      ]
     },
     "execution_count": 121,
     "metadata": {},
     "output_type": "execute_result"
    }
   ],
   "source": [
    "s.upper()"
   ]
  },
  {
   "cell_type": "code",
   "execution_count": 123,
   "id": "b25380e7-26ec-4dde-a568-e59d2cc19634",
   "metadata": {},
   "outputs": [
    {
     "data": {
      "text/plain": [
       "'my name is sudhanshu kumar , name of org is ineuron'"
      ]
     },
     "execution_count": 123,
     "metadata": {},
     "output_type": "execute_result"
    }
   ],
   "source": [
    "s.lower()"
   ]
  },
  {
   "cell_type": "code",
   "execution_count": 127,
   "id": "5cfea316-5e2c-42d2-88f1-e63050f56e3b",
   "metadata": {},
   "outputs": [
    {
     "data": {
      "text/plain": [
       "'my name is sudhanshu kumar , name of org is ineuron'"
      ]
     },
     "execution_count": 127,
     "metadata": {},
     "output_type": "execute_result"
    }
   ],
   "source": [
    "s"
   ]
  },
  {
   "cell_type": "code",
   "execution_count": 129,
   "id": "17443d0d-6d16-4f5c-b715-b53c3c733d8d",
   "metadata": {},
   "outputs": [
    {
     "data": {
      "text/plain": [
       "'MY NAME IS SUDHANSHU KUMAR , NAME OF ORG IS INEURON'"
      ]
     },
     "execution_count": 129,
     "metadata": {},
     "output_type": "execute_result"
    }
   ],
   "source": [
    "s.swapcase()"
   ]
  },
  {
   "cell_type": "code",
   "execution_count": 131,
   "id": "0282373f-bd47-458f-af78-db79f425f4ef",
   "metadata": {},
   "outputs": [
    {
     "data": {
      "text/plain": [
       "'m y   n a m e   i s   s u d h a n s h u   k u m a r   ,   n a m e   o f   o r g   i s   i n e u r o n'"
      ]
     },
     "execution_count": 131,
     "metadata": {},
     "output_type": "execute_result"
    }
   ],
   "source": [
    "\" \" . join(s)"
   ]
  },
  {
   "cell_type": "code",
   "execution_count": 133,
   "id": "2eba41b8-c438-480d-9346-33fcc30ad727",
   "metadata": {},
   "outputs": [
    {
     "data": {
      "text/plain": [
       "'msys snsasmses sisss sssusdshsasnssshsus sksusmsasrs s,s snsasmses sosfs sosrsgs sisss sisnsesusrsosn'"
      ]
     },
     "execution_count": 133,
     "metadata": {},
     "output_type": "execute_result"
    }
   ],
   "source": [
    "\"s\".join(s)"
   ]
  },
  {
   "cell_type": "code",
   "execution_count": 135,
   "id": "eb89efd3-08dd-4bd7-9669-8076451ce45a",
   "metadata": {},
   "outputs": [
    {
     "data": {
      "text/plain": [
       "<reversed at 0x13a548190>"
      ]
     },
     "execution_count": 135,
     "metadata": {},
     "output_type": "execute_result"
    }
   ],
   "source": [
    "reversed(s)"
   ]
  },
  {
   "cell_type": "code",
   "execution_count": 137,
   "id": "364604f6-2027-4b97-8f0b-73c4b74c2405",
   "metadata": {},
   "outputs": [
    {
     "data": {
      "text/plain": [
       "['n',\n",
       " 'o',\n",
       " 'r',\n",
       " 'u',\n",
       " 'e',\n",
       " 'n',\n",
       " 'i',\n",
       " ' ',\n",
       " 's',\n",
       " 'i',\n",
       " ' ',\n",
       " 'g',\n",
       " 'r',\n",
       " 'o',\n",
       " ' ',\n",
       " 'f',\n",
       " 'o',\n",
       " ' ',\n",
       " 'e',\n",
       " 'm',\n",
       " 'a',\n",
       " 'n',\n",
       " ' ',\n",
       " ',',\n",
       " ' ',\n",
       " 'r',\n",
       " 'a',\n",
       " 'm',\n",
       " 'u',\n",
       " 'k',\n",
       " ' ',\n",
       " 'u',\n",
       " 'h',\n",
       " 's',\n",
       " 'n',\n",
       " 'a',\n",
       " 'h',\n",
       " 'd',\n",
       " 'u',\n",
       " 's',\n",
       " ' ',\n",
       " 's',\n",
       " 'i',\n",
       " ' ',\n",
       " 'e',\n",
       " 'm',\n",
       " 'a',\n",
       " 'n',\n",
       " ' ',\n",
       " 'y',\n",
       " 'm']"
      ]
     },
     "execution_count": 137,
     "metadata": {},
     "output_type": "execute_result"
    }
   ],
   "source": [
    "list(reversed(s))"
   ]
  },
  {
   "cell_type": "code",
   "execution_count": 139,
   "id": "5de86097-79ca-4785-8546-d7c2bde6246f",
   "metadata": {},
   "outputs": [
    {
     "name": "stdout",
     "output_type": "stream",
     "text": [
      "n\n",
      "o\n",
      "r\n",
      "u\n",
      "e\n",
      "n\n",
      "i\n",
      " \n",
      "s\n",
      "i\n",
      " \n",
      "g\n",
      "r\n",
      "o\n",
      " \n",
      "f\n",
      "o\n",
      " \n",
      "e\n",
      "m\n",
      "a\n",
      "n\n",
      " \n",
      ",\n",
      " \n",
      "r\n",
      "a\n",
      "m\n",
      "u\n",
      "k\n",
      " \n",
      "u\n",
      "h\n",
      "s\n",
      "n\n",
      "a\n",
      "h\n",
      "d\n",
      "u\n",
      "s\n",
      " \n",
      "s\n",
      "i\n",
      " \n",
      "e\n",
      "m\n",
      "a\n",
      "n\n",
      " \n",
      "y\n",
      "m\n"
     ]
    }
   ],
   "source": [
    "for i in reversed(s):\n",
    "    print(i)"
   ]
  },
  {
   "cell_type": "code",
   "execution_count": 141,
   "id": "feccf283-93ab-4e8d-b103-ec63becfcfa1",
   "metadata": {},
   "outputs": [
    {
     "data": {
      "text/plain": [
       "'norueni si gro fo eman , ramuk uhsnahdus si eman ym'"
      ]
     },
     "execution_count": 141,
     "metadata": {},
     "output_type": "execute_result"
    }
   ],
   "source": [
    "s[::-1]"
   ]
  },
  {
   "cell_type": "code",
   "execution_count": 143,
   "id": "b8fb43c6-3e34-4a8d-874b-0abc7e327e59",
   "metadata": {},
   "outputs": [],
   "source": [
    "s = \"   sudh    \""
   ]
  },
  {
   "cell_type": "code",
   "execution_count": 145,
   "id": "2d3342cc-7836-48ad-8dea-0921dcc13224",
   "metadata": {},
   "outputs": [
    {
     "data": {
      "text/plain": [
       "'sudh'"
      ]
     },
     "execution_count": 145,
     "metadata": {},
     "output_type": "execute_result"
    }
   ],
   "source": [
    "s.strip()"
   ]
  },
  {
   "cell_type": "code",
   "execution_count": 147,
   "id": "2f519330-c0a7-4f8c-b4a8-a9c3dc92f465",
   "metadata": {},
   "outputs": [],
   "source": [
    "s = \"     su   dh      \"     "
   ]
  },
  {
   "cell_type": "code",
   "execution_count": 149,
   "id": "39bf1b4d-be3b-4bd1-8383-aedd58ffb71d",
   "metadata": {},
   "outputs": [
    {
     "data": {
      "text/plain": [
       "'su   dh'"
      ]
     },
     "execution_count": 149,
     "metadata": {},
     "output_type": "execute_result"
    }
   ],
   "source": [
    "s.strip()"
   ]
  },
  {
   "cell_type": "code",
   "execution_count": 151,
   "id": "a37281e9-f8a1-4f32-b00b-e5ea359ff481",
   "metadata": {},
   "outputs": [
    {
     "data": {
      "text/plain": [
       "'su   dh      '"
      ]
     },
     "execution_count": 151,
     "metadata": {},
     "output_type": "execute_result"
    }
   ],
   "source": [
    "s.lstrip()"
   ]
  },
  {
   "cell_type": "code",
   "execution_count": 153,
   "id": "acfbad03-5e86-4cd7-8576-df8698c74966",
   "metadata": {},
   "outputs": [
    {
     "data": {
      "text/plain": [
       "'     su   dh'"
      ]
     },
     "execution_count": 153,
     "metadata": {},
     "output_type": "execute_result"
    }
   ],
   "source": [
    "s.rstrip()"
   ]
  },
  {
   "cell_type": "code",
   "execution_count": 155,
   "id": "7fe134ee-2475-4f66-8734-ae77167e12c3",
   "metadata": {},
   "outputs": [],
   "source": [
    "s = \"greeting from ineuron\""
   ]
  },
  {
   "cell_type": "code",
   "execution_count": 157,
   "id": "f0219069-e643-4e7d-ac1e-6d2244377dea",
   "metadata": {},
   "outputs": [
    {
     "data": {
      "text/plain": [
       "'sreetins from ineuron'"
      ]
     },
     "execution_count": 157,
     "metadata": {},
     "output_type": "execute_result"
    }
   ],
   "source": [
    "s.replace(\"g\" , 's')"
   ]
  },
  {
   "cell_type": "code",
   "execution_count": 159,
   "id": "25d01284-0d7d-478e-967c-9d3466578029",
   "metadata": {},
   "outputs": [],
   "source": [
    "s = s.replace(\"gr\" , 'swer')"
   ]
  },
  {
   "cell_type": "code",
   "execution_count": 161,
   "id": "e446a21d-117c-4edc-8f83-b879723aa140",
   "metadata": {},
   "outputs": [
    {
     "data": {
      "text/plain": [
       "'swereeting from ineuron'"
      ]
     },
     "execution_count": 161,
     "metadata": {},
     "output_type": "execute_result"
    }
   ],
   "source": [
    "s"
   ]
  },
  {
   "cell_type": "code",
   "execution_count": 163,
   "id": "925a8699-e874-4fb7-8ac6-6329abf981e8",
   "metadata": {},
   "outputs": [
    {
     "data": {
      "text/plain": [
       "'swereeting from ineuron'"
      ]
     },
     "execution_count": 163,
     "metadata": {},
     "output_type": "execute_result"
    }
   ],
   "source": [
    "s\n"
   ]
  },
  {
   "cell_type": "code",
   "execution_count": 165,
   "id": "d0f3a28d-5cc9-40f6-b08a-f858c016c5a7",
   "metadata": {},
   "outputs": [],
   "source": [
    "s = \"sudh\"\n"
   ]
  },
  {
   "cell_type": "code",
   "execution_count": 167,
   "id": "064b6550-f42d-488c-a802-f95b3416f084",
   "metadata": {},
   "outputs": [
    {
     "data": {
      "text/plain": [
       "'@@@@@@@@@@sudh@@@@@@@@@'"
      ]
     },
     "execution_count": 167,
     "metadata": {},
     "output_type": "execute_result"
    }
   ],
   "source": [
    "s.center(23 , '@')"
   ]
  },
  {
   "cell_type": "code",
   "execution_count": 169,
   "id": "764c846c-f28d-40d9-992f-a95dbfe51c6f",
   "metadata": {},
   "outputs": [],
   "source": [
    "s = \"sudh\\tkumar\""
   ]
  },
  {
   "cell_type": "code",
   "execution_count": 171,
   "id": "8d61cbfa-cee9-4694-a01e-cba173680493",
   "metadata": {},
   "outputs": [
    {
     "data": {
      "text/plain": [
       "'sudh\\tkumar'"
      ]
     },
     "execution_count": 171,
     "metadata": {},
     "output_type": "execute_result"
    }
   ],
   "source": [
    "s"
   ]
  },
  {
   "cell_type": "code",
   "execution_count": 173,
   "id": "7b0f3e9d-3143-4d5b-9053-57d0e090e63a",
   "metadata": {},
   "outputs": [
    {
     "data": {
      "text/plain": [
       "'sudh    kumar'"
      ]
     },
     "execution_count": 173,
     "metadata": {},
     "output_type": "execute_result"
    }
   ],
   "source": [
    "s.expandtabs()"
   ]
  },
  {
   "cell_type": "code",
   "execution_count": 175,
   "id": "f477db9f-13dc-47ba-882a-ed3666a2c32c",
   "metadata": {},
   "outputs": [],
   "source": [
    "a = \"we all are a part of full stack\""
   ]
  },
  {
   "cell_type": "code",
   "execution_count": 193,
   "id": "ea0009b6-9cd7-4601-a6d1-9b3442c7ba8d",
   "metadata": {},
   "outputs": [],
   "source": [
    "b=a.lower()"
   ]
  },
  {
   "cell_type": "code",
   "execution_count": 195,
   "id": "42f7c2d7-9568-4338-bdfa-2b36c8082440",
   "metadata": {},
   "outputs": [
    {
     "data": {
      "text/plain": [
       "'we all are a part of full stack'"
      ]
     },
     "execution_count": 195,
     "metadata": {},
     "output_type": "execute_result"
    }
   ],
   "source": [
    "b"
   ]
  },
  {
   "cell_type": "code",
   "execution_count": 197,
   "id": "3f59c911-b9b8-4c1e-84c1-0245a13f1408",
   "metadata": {},
   "outputs": [],
   "source": [
    "c =a.count(\"a\")"
   ]
  },
  {
   "cell_type": "code",
   "execution_count": 199,
   "id": "70235c39-1cc3-4539-95b7-b047e5443309",
   "metadata": {},
   "outputs": [
    {
     "data": {
      "text/plain": [
       "5"
      ]
     },
     "execution_count": 199,
     "metadata": {},
     "output_type": "execute_result"
    }
   ],
   "source": [
    "c"
   ]
  },
  {
   "cell_type": "code",
   "execution_count": 201,
   "id": "71f3d74d-24c9-49b8-a630-086c1312760e",
   "metadata": {},
   "outputs": [
    {
     "data": {
      "text/plain": [
       "'we ineuronll ineuronre ineuron pineuronrt of full stineuronck'"
      ]
     },
     "execution_count": 201,
     "metadata": {},
     "output_type": "execute_result"
    }
   ],
   "source": [
    "a.replace(\"a\" , 'ineuron')"
   ]
  },
  {
   "cell_type": "code",
   "execution_count": 203,
   "id": "b60e3cca-0297-406f-b628-8774910dfdd7",
   "metadata": {},
   "outputs": [
    {
     "name": "stdout",
     "output_type": "stream",
     "text": [
      "3\n",
      "7\n",
      "11\n",
      "14\n",
      "28\n"
     ]
    }
   ],
   "source": [
    "for i in range(len(a)):\n",
    "    if(a[i]==\"a\"):\n",
    "        print(i)"
   ]
  },
  {
   "cell_type": "code",
   "execution_count": 205,
   "id": "b9b8c83e-66f1-4d7e-8578-36e3d58c70de",
   "metadata": {},
   "outputs": [
    {
     "data": {
      "text/plain": [
       "['we', 'all', 'are', 'a', 'part', 'of', 'full', 'stack']"
      ]
     },
     "execution_count": 205,
     "metadata": {},
     "output_type": "execute_result"
    }
   ],
   "source": [
    "e = a.split()\n",
    "e"
   ]
  },
  {
   "cell_type": "code",
   "execution_count": 207,
   "id": "d67bbd31-f8c4-4b65-97ea-29926496e77f",
   "metadata": {},
   "outputs": [],
   "source": [
    "s=\"sudh\""
   ]
  },
  {
   "cell_type": "code",
   "execution_count": 209,
   "id": "680a53f0-c39b-4645-9b03-fd9e4a1baf8e",
   "metadata": {},
   "outputs": [
    {
     "data": {
      "text/plain": [
       "False"
      ]
     },
     "execution_count": 209,
     "metadata": {},
     "output_type": "execute_result"
    }
   ],
   "source": [
    "s.isupper()"
   ]
  },
  {
   "cell_type": "code",
   "execution_count": 211,
   "id": "c678c391-5d52-45ad-b27f-fc880d4b66b4",
   "metadata": {},
   "outputs": [
    {
     "data": {
      "text/plain": [
       "True"
      ]
     },
     "execution_count": 211,
     "metadata": {},
     "output_type": "execute_result"
    }
   ],
   "source": [
    "s.islower()"
   ]
  },
  {
   "cell_type": "code",
   "execution_count": 213,
   "id": "15aa08d5-cbe0-4ceb-b3ee-2b0ff605d9d5",
   "metadata": {},
   "outputs": [
    {
     "data": {
      "text/plain": [
       "False"
      ]
     },
     "execution_count": 213,
     "metadata": {},
     "output_type": "execute_result"
    }
   ],
   "source": [
    "s.isspace()"
   ]
  },
  {
   "cell_type": "code",
   "execution_count": 215,
   "id": "ad899ef4-ebda-4e91-b259-d29bfb2903d5",
   "metadata": {},
   "outputs": [],
   "source": [
    "s=\"   \""
   ]
  },
  {
   "cell_type": "code",
   "execution_count": 217,
   "id": "80236b14-b846-4afd-be56-0db6c76353b7",
   "metadata": {},
   "outputs": [
    {
     "data": {
      "text/plain": [
       "True"
      ]
     },
     "execution_count": 217,
     "metadata": {},
     "output_type": "execute_result"
    }
   ],
   "source": [
    "s.isspace()"
   ]
  },
  {
   "cell_type": "code",
   "execution_count": 219,
   "id": "350c9c53-b839-48f6-89b5-b0c7196a8b66",
   "metadata": {},
   "outputs": [
    {
     "data": {
      "text/plain": [
       "'   '"
      ]
     },
     "execution_count": 219,
     "metadata": {},
     "output_type": "execute_result"
    }
   ],
   "source": [
    "s"
   ]
  },
  {
   "cell_type": "code",
   "execution_count": 221,
   "id": "09870668-c6d4-4e10-a738-93ae99923143",
   "metadata": {},
   "outputs": [],
   "source": [
    "s=\"sudh\""
   ]
  },
  {
   "cell_type": "code",
   "execution_count": 223,
   "id": "3eeb6b08-12bc-477c-bd61-d836242db252",
   "metadata": {},
   "outputs": [
    {
     "data": {
      "text/plain": [
       "False"
      ]
     },
     "execution_count": 223,
     "metadata": {},
     "output_type": "execute_result"
    }
   ],
   "source": [
    "s.endswith('s')"
   ]
  },
  {
   "cell_type": "code",
   "execution_count": 227,
   "id": "ef6c2ff3-1074-419c-8550-8794b104f04c",
   "metadata": {},
   "outputs": [
    {
     "data": {
      "text/plain": [
       "True"
      ]
     },
     "execution_count": 227,
     "metadata": {},
     "output_type": "execute_result"
    }
   ],
   "source": [
    "s.startswith('s')"
   ]
  },
  {
   "cell_type": "code",
   "execution_count": 229,
   "id": "b4f91703-6172-4ab2-80cc-0dd71c00aac9",
   "metadata": {},
   "outputs": [
    {
     "data": {
      "text/plain": [
       "True"
      ]
     },
     "execution_count": 229,
     "metadata": {},
     "output_type": "execute_result"
    }
   ],
   "source": [
    "s.isalnum()"
   ]
  },
  {
   "cell_type": "code",
   "execution_count": 233,
   "id": "7a79ebe3-ce07-4be8-ab88-c19fedfea720",
   "metadata": {},
   "outputs": [
    {
     "data": {
      "text/plain": [
       "True"
      ]
     },
     "execution_count": 233,
     "metadata": {},
     "output_type": "execute_result"
    }
   ],
   "source": [
    "s.isalpha()"
   ]
  },
  {
   "cell_type": "code",
   "execution_count": 235,
   "id": "61cad578-35fb-4ffb-926d-e848cc0f2351",
   "metadata": {},
   "outputs": [
    {
     "data": {
      "text/plain": [
       "False"
      ]
     },
     "execution_count": 235,
     "metadata": {},
     "output_type": "execute_result"
    }
   ],
   "source": [
    "s.istitle()"
   ]
  },
  {
   "cell_type": "code",
   "execution_count": 239,
   "id": "ef51daf9-a985-4e90-a66a-81c57423cfc5",
   "metadata": {},
   "outputs": [],
   "source": [
    "s = \"this is a full stack batch\""
   ]
  },
  {
   "cell_type": "code",
   "execution_count": 243,
   "id": "9be26838-4407-41eb-bed9-b7d71e9b35c9",
   "metadata": {},
   "outputs": [
    {
     "name": "stdout",
     "output_type": "stream",
     "text": [
      "26\n"
     ]
    }
   ],
   "source": [
    "count=0\n",
    "for i in s :\n",
    "    count=count+1\n",
    "print(count)"
   ]
  },
  {
   "cell_type": "code",
   "execution_count": 245,
   "id": "8cff7314-385a-4d22-9e47-56d8cf8200f0",
   "metadata": {},
   "outputs": [
    {
     "name": "stdout",
     "output_type": "stream",
     "text": [
      "h\n",
      "c\n",
      "t\n",
      "a\n",
      "b\n",
      " \n",
      "k\n",
      "c\n",
      "a\n",
      "t\n",
      "s\n",
      " \n",
      "l\n",
      "l\n",
      "u\n",
      "f\n",
      " \n",
      "a\n",
      " \n",
      "s\n",
      "i\n",
      " \n",
      "s\n",
      "i\n",
      "h\n"
     ]
    }
   ],
   "source": [
    "for i in range(1, len(s)) :\n",
    "    print(s[-i])"
   ]
  },
  {
   "cell_type": "code",
   "execution_count": 249,
   "id": "9cf7157d-9535-41c1-98dc-47eab5c7bf01",
   "metadata": {},
   "outputs": [
    {
     "name": "stdout",
     "output_type": "stream",
     "text": [
      "h\n",
      "d\n",
      "u\n",
      "s\n"
     ]
    }
   ],
   "source": [
    "s='sudh'\n",
    "ch=len(s)-1\n",
    "while ch >= 0:\n",
    "    print(s[ch])\n",
    "    ch=ch-1"
   ]
  },
  {
   "cell_type": "code",
   "execution_count": null,
   "id": "7a594bd5-8465-4838-af53-d8b02b030dd5",
   "metadata": {},
   "outputs": [],
   "source": [
    "a=int(input(\"enter a no\"))\n"
   ]
  },
  {
   "cell_type": "code",
   "execution_count": 257,
   "id": "968280e7-e242-49ea-a6fc-86be0276ae15",
   "metadata": {},
   "outputs": [
    {
     "name": "stdout",
     "output_type": "stream",
     "text": [
      "i is a vowel\n",
      "n is not a vowel\n",
      "e is a vowel\n",
      "u is a vowel\n",
      "r is not a vowel\n",
      "o is a vowel\n",
      "n is not a vowel\n"
     ]
    }
   ],
   "source": [
    "name=\"ineuron\"\n",
    "vowels=\"AaEeIiOoUu\"\n",
    "for i in name:\n",
    "    if i in vowels:\n",
    "        print(\"{} is a vowel\".format(i))\n",
    "    else :\n",
    "        print(\"{} is not a vowel\".format(i))"
   ]
  },
  {
   "cell_type": "code",
   "execution_count": 3,
   "id": "144d6a88-fff2-4043-be51-92d096691149",
   "metadata": {},
   "outputs": [
    {
     "data": {
      "text/plain": [
       "'my name is sudh'"
      ]
     },
     "execution_count": 3,
     "metadata": {},
     "output_type": "execute_result"
    }
   ],
   "source": [
    "\"{} name is sudh\".format(\"my\")"
   ]
  },
  {
   "cell_type": "code",
   "execution_count": 263,
   "id": "708f19b0-2466-47b8-bbe1-ce4c9d348c65",
   "metadata": {},
   "outputs": [
    {
     "name": "stdin",
     "output_type": "stream",
     "text": [
      " gjhfuyfuyf\n",
      " uhuigg\n"
     ]
    }
   ],
   "source": [
    "a = input()\n",
    "b = input()"
   ]
  },
  {
   "cell_type": "code",
   "execution_count": 265,
   "id": "a9c02b26-7465-420f-b7b4-6ca691d26012",
   "metadata": {},
   "outputs": [],
   "source": [
    "a = \"xyz\"\n",
    "b = 2002\n",
    "c = \"eye\"\n",
    "d = \"nitin\""
   ]
  },
  {
   "cell_type": "code",
   "execution_count": 1,
   "id": "a0776967-32e5-4ce1-adb0-00b2e34fbeae",
   "metadata": {},
   "outputs": [
    {
     "name": "stdin",
     "output_type": "stream",
     "text": [
      "enter a data for which you would like to check palindrom  xyx\n"
     ]
    },
    {
     "name": "stdout",
     "output_type": "stream",
     "text": [
      "its a same \n"
     ]
    }
   ],
   "source": [
    "s = input(\"enter a data for which you would like to check palindrom \")\n",
    "s1 = s[::-1]\n",
    "if s==s1:\n",
    "    print(\"its a same \")\n",
    "else:\n",
    "    print(\"its not a same\")"
   ]
  },
  {
   "cell_type": "code",
   "execution_count": 7,
   "id": "3398c0af-3c6d-448b-b24a-0a0ff949d347",
   "metadata": {},
   "outputs": [],
   "source": [
    "l = [\"sudh\" , 34,34,45,[34,45]]"
   ]
  },
  {
   "cell_type": "code",
   "execution_count": 11,
   "id": "ea605b26-197e-4ce0-aba1-e1448b3af6a3",
   "metadata": {},
   "outputs": [],
   "source": [
    "l = [3]"
   ]
  },
  {
   "cell_type": "code",
   "execution_count": 13,
   "id": "cb21b243-ef26-4292-b356-b832723e5659",
   "metadata": {},
   "outputs": [
    {
     "name": "stdout",
     "output_type": "stream",
     "text": [
      "<class 'float'>\n"
     ]
    }
   ],
   "source": [
    "c = 3.14\n",
    "print(type(c))"
   ]
  },
  {
   "cell_type": "code",
   "execution_count": 15,
   "id": "451b4d46-f554-4a3c-b738-a49eca01d77d",
   "metadata": {},
   "outputs": [
    {
     "name": "stdout",
     "output_type": "stream",
     "text": [
      "<class 'str'>\n"
     ]
    }
   ],
   "source": [
    "text = \"hello,world!\"\n",
    "print(type(text))"
   ]
  },
  {
   "cell_type": "code",
   "execution_count": 17,
   "id": "a24a7852-fa70-4b69-a644-9e53bc847c74",
   "metadata": {},
   "outputs": [
    {
     "name": "stdout",
     "output_type": "stream",
     "text": [
      "<class 'int'>\n"
     ]
    }
   ],
   "source": [
    "number = 100\n",
    "print(type(number))"
   ]
  },
  {
   "cell_type": "code",
   "execution_count": 19,
   "id": "0fa0e8be-3b3c-4234-9cf3-4e0564d46206",
   "metadata": {},
   "outputs": [
    {
     "name": "stdout",
     "output_type": "stream",
     "text": [
      "<class 'complex'>\n"
     ]
    }
   ],
   "source": [
    "complex_num=2+3j\n",
    "print(type(complex_num))"
   ]
  },
  {
   "cell_type": "code",
   "execution_count": 21,
   "id": "8656a8b7-e6aa-47b9-9235-ee709fbb5e05",
   "metadata": {},
   "outputs": [
    {
     "name": "stdout",
     "output_type": "stream",
     "text": [
      "<class 'bool'>\n"
     ]
    }
   ],
   "source": [
    "is_active=True\n",
    "print(type(is_active))"
   ]
  },
  {
   "cell_type": "code",
   "execution_count": 33,
   "id": "866cfd45-967d-485a-92df-cf085eee2317",
   "metadata": {},
   "outputs": [
    {
     "data": {
      "text/plain": [
       "'hello world!'"
      ]
     },
     "execution_count": 33,
     "metadata": {},
     "output_type": "execute_result"
    }
   ],
   "source": [
    "str=\"hello world!\"\n",
    "str"
   ]
  },
  {
   "cell_type": "code",
   "execution_count": 35,
   "id": "495a9145-f196-4a2f-ae1b-ced381de7925",
   "metadata": {},
   "outputs": [
    {
     "data": {
      "text/plain": [
       "'e'"
      ]
     },
     "execution_count": 35,
     "metadata": {},
     "output_type": "execute_result"
    }
   ],
   "source": [
    "str[0]\n"
   ]
  },
  {
   "cell_type": "code",
   "execution_count": 37,
   "id": "d24674fd-1717-4f13-8dd2-a7d3b2941001",
   "metadata": {},
   "outputs": [
    {
     "data": {
      "text/plain": [
       "'e'"
      ]
     },
     "execution_count": 37,
     "metadata": {},
     "output_type": "execute_result"
    }
   ],
   "source": [
    "str[1]\n"
   ]
  },
  {
   "cell_type": "code",
   "execution_count": 39,
   "id": "f2f54b52-3ef3-4545-98d5-575d0a321eec",
   "metadata": {},
   "outputs": [
    {
     "data": {
      "text/plain": [
       "'l'"
      ]
     },
     "execution_count": 39,
     "metadata": {},
     "output_type": "execute_result"
    }
   ],
   "source": [
    "str[2]\n"
   ]
  },
  {
   "cell_type": "code",
   "execution_count": 41,
   "id": "dd663da3-0c53-4a57-a01a-3dac6101c049",
   "metadata": {},
   "outputs": [
    {
     "data": {
      "text/plain": [
       "'l'"
      ]
     },
     "execution_count": 41,
     "metadata": {},
     "output_type": "execute_result"
    }
   ],
   "source": [
    "str[3]"
   ]
  },
  {
   "cell_type": "code",
   "execution_count": 43,
   "id": "1aac9340-b304-45da-9b0c-f5a5dab482ba",
   "metadata": {},
   "outputs": [
    {
     "data": {
      "text/plain": [
       "'o'"
      ]
     },
     "execution_count": 43,
     "metadata": {},
     "output_type": "execute_result"
    }
   ],
   "source": [
    "str[4]"
   ]
  },
  {
   "cell_type": "code",
   "execution_count": 45,
   "id": "b391067a-489f-420e-8d14-822d5fa809b6",
   "metadata": {},
   "outputs": [
    {
     "data": {
      "text/plain": [
       "'!'"
      ]
     },
     "execution_count": 45,
     "metadata": {},
     "output_type": "execute_result"
    }
   ],
   "source": [
    "str[-1]\n"
   ]
  },
  {
   "cell_type": "code",
   "execution_count": 47,
   "id": "3de01935-7e2f-4a80-ad64-b5cc9ed5afee",
   "metadata": {},
   "outputs": [],
   "source": [
    "str3=\"hello world\"\n"
   ]
  },
  {
   "cell_type": "code",
   "execution_count": 55,
   "id": "16065652-87f8-487c-a127-e4105206bbe4",
   "metadata": {},
   "outputs": [],
   "source": [
    "l=[3,4,5,5,6,78,45.67]"
   ]
  },
  {
   "cell_type": "code",
   "execution_count": 59,
   "id": "ef46ec6a-7eaa-404b-bf9e-75fe10350701",
   "metadata": {},
   "outputs": [
    {
     "data": {
      "text/plain": [
       "[3, 4, 5, 5, 6, 45.67, 78]"
      ]
     },
     "execution_count": 59,
     "metadata": {},
     "output_type": "execute_result"
    }
   ],
   "source": [
    "l.sort()\n",
    "l\n"
   ]
  },
  {
   "cell_type": "code",
   "execution_count": 61,
   "id": "2a1c4010-f538-4cf2-9cb2-d388a4f96e40",
   "metadata": {},
   "outputs": [
    {
     "data": {
      "text/plain": [
       "'my name is sudh'"
      ]
     },
     "execution_count": 61,
     "metadata": {},
     "output_type": "execute_result"
    }
   ],
   "source": [
    "\"{} name is sudh\" .format(\"my\")"
   ]
  },
  {
   "cell_type": "code",
   "execution_count": 65,
   "id": "67a2ea13-836d-42d7-9603-c47ffadeaf5d",
   "metadata": {},
   "outputs": [
    {
     "name": "stdin",
     "output_type": "stream",
     "text": [
      "enter a data for which you would like to check palindrome mym\n"
     ]
    },
    {
     "name": "stdout",
     "output_type": "stream",
     "text": [
      "its same\n"
     ]
    }
   ],
   "source": [
    "s=input(\"enter a data for which you would like to check palindrome\")\n",
    "s1=s[::-1]\n",
    "if s==s1:\n",
    "    print(\"its same\")\n",
    "else:\n",
    "    print(\"its not same\")\n",
    "    "
   ]
  },
  {
   "cell_type": "code",
   "execution_count": 67,
   "id": "1d798e3b-7210-4f40-87ca-b102bbb0ab48",
   "metadata": {},
   "outputs": [
    {
     "name": "stdout",
     "output_type": "stream",
     "text": [
      "my first name is krish and last name is Naik\n"
     ]
    }
   ],
   "source": [
    "print(\"my first name is {a} and last name is {b}\".format(b=\"Naik\",a=\"krish\"))"
   ]
  },
  {
   "cell_type": "code",
   "execution_count": 69,
   "id": "d6ba050a-447c-4b46-b5d4-542645f8f926",
   "metadata": {},
   "outputs": [
    {
     "data": {
      "text/plain": [
       "4"
      ]
     },
     "execution_count": 69,
     "metadata": {},
     "output_type": "execute_result"
    }
   ],
   "source": [
    "8 and 4"
   ]
  },
  {
   "cell_type": "code",
   "execution_count": 71,
   "id": "8e831a1d-7314-44ec-8f42-acdd78fc2afa",
   "metadata": {},
   "outputs": [
    {
     "data": {
      "text/plain": [
       "8"
      ]
     },
     "execution_count": 71,
     "metadata": {},
     "output_type": "execute_result"
    }
   ],
   "source": [
    "8 or 4\n"
   ]
  },
  {
   "cell_type": "code",
   "execution_count": null,
   "id": "aba03c5f-7af3-4206-a7a6-0d41ada5cf86",
   "metadata": {},
   "outputs": [],
   "source": []
  }
 ],
 "metadata": {
  "kernelspec": {
   "display_name": "Python 3 (ipykernel)",
   "language": "python",
   "name": "python3"
  },
  "language_info": {
   "codemirror_mode": {
    "name": "ipython",
    "version": 3
   },
   "file_extension": ".py",
   "mimetype": "text/x-python",
   "name": "python",
   "nbconvert_exporter": "python",
   "pygments_lexer": "ipython3",
   "version": "3.12.4"
  }
 },
 "nbformat": 4,
 "nbformat_minor": 5
}
