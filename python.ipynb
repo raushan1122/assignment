{
 "cells": [
  {
   "cell_type": "code",
   "execution_count": 28,
   "id": "58ea831e-1852-4989-ac1b-519f34aba146",
   "metadata": {},
   "outputs": [
    {
     "data": {
      "text/plain": [
       "[1, 2, 3, 4]"
      ]
     },
     "execution_count": 28,
     "metadata": {},
     "output_type": "execute_result"
    }
   ],
   "source": [
    "\n",
    "l =[1,2,3,4]\n",
    "l"
   ]
  },
  {
   "cell_type": "code",
   "execution_count": 31,
   "id": "8c70bec7-4dbd-4aaf-8362-283dd53022f2",
   "metadata": {},
   "outputs": [],
   "source": [
    "l.append(\"sudh\")"
   ]
  },
  {
   "cell_type": "code",
   "execution_count": 34,
   "id": "70045783-54fd-424e-a033-dc78806defc7",
   "metadata": {},
   "outputs": [
    {
     "data": {
      "text/plain": [
       "[1, 2, 3, 4, 'sudh']"
      ]
     },
     "execution_count": 34,
     "metadata": {},
     "output_type": "execute_result"
    }
   ],
   "source": [
    "l"
   ]
  },
  {
   "cell_type": "code",
   "execution_count": 36,
   "id": "500af2d4-d85e-495d-87b2-962b187f37b4",
   "metadata": {},
   "outputs": [],
   "source": [
    "l.append([1,2,3,4,56])"
   ]
  },
  {
   "cell_type": "code",
   "execution_count": 38,
   "id": "d8cb284b-426b-4476-a011-7cd882b96749",
   "metadata": {},
   "outputs": [
    {
     "data": {
      "text/plain": [
       "[1, 2, 3, 4, 'sudh', [1, 2, 3, 4, 56]]"
      ]
     },
     "execution_count": 38,
     "metadata": {},
     "output_type": "execute_result"
    }
   ],
   "source": [
    "l"
   ]
  },
  {
   "cell_type": "code",
   "execution_count": 40,
   "id": "0fc48573-2c3e-4fd1-852b-1ec840b735ba",
   "metadata": {},
   "outputs": [],
   "source": [
    "l.extend(\"test1\")"
   ]
  },
  {
   "cell_type": "code",
   "execution_count": 42,
   "id": "a4d646a9-bc3f-4a9b-9284-644d53cb4ea5",
   "metadata": {},
   "outputs": [
    {
     "data": {
      "text/plain": [
       "[1, 2, 3, 4, 'sudh', [1, 2, 3, 4, 56], 't', 'e', 's', 't', '1']"
      ]
     },
     "execution_count": 42,
     "metadata": {},
     "output_type": "execute_result"
    }
   ],
   "source": [
    "l"
   ]
  },
  {
   "cell_type": "code",
   "execution_count": 44,
   "id": "728e9bff-7fae-41f9-b991-c05f6ae0f904",
   "metadata": {},
   "outputs": [
    {
     "data": {
      "text/plain": [
       "'1'"
      ]
     },
     "execution_count": 44,
     "metadata": {},
     "output_type": "execute_result"
    }
   ],
   "source": [
    "l.pop()"
   ]
  },
  {
   "cell_type": "code",
   "execution_count": 46,
   "id": "21e62bbf-8e8f-46e8-b780-6f683f27ff18",
   "metadata": {},
   "outputs": [
    {
     "data": {
      "text/plain": [
       "1"
      ]
     },
     "execution_count": 46,
     "metadata": {},
     "output_type": "execute_result"
    }
   ],
   "source": [
    "l.pop(0)"
   ]
  },
  {
   "cell_type": "code",
   "execution_count": 48,
   "id": "b47ceb74-965d-4105-8dd1-6075981c551f",
   "metadata": {},
   "outputs": [],
   "source": [
    "l1=[1,2,6,6,6,7]"
   ]
  },
  {
   "cell_type": "code",
   "execution_count": 50,
   "id": "1ffcdc51-9127-490b-a1c8-d31560673931",
   "metadata": {},
   "outputs": [],
   "source": [
    "l1.remove(6)"
   ]
  },
  {
   "cell_type": "code",
   "execution_count": 52,
   "id": "29ec8cf1-904a-4038-aa09-6339e6cadf72",
   "metadata": {},
   "outputs": [
    {
     "data": {
      "text/plain": [
       "[1, 2, 6, 6, 7]"
      ]
     },
     "execution_count": 52,
     "metadata": {},
     "output_type": "execute_result"
    }
   ],
   "source": [
    "l1"
   ]
  },
  {
   "cell_type": "code",
   "execution_count": 54,
   "id": "9df82bd3-abf1-4971-bbcb-dfd2991d3b9a",
   "metadata": {},
   "outputs": [],
   "source": [
    "l.reverse()"
   ]
  },
  {
   "cell_type": "code",
   "execution_count": 56,
   "id": "4ff5fec6-f68c-45aa-8095-163a50414bb1",
   "metadata": {},
   "outputs": [
    {
     "data": {
      "text/plain": [
       "['t', 's', 'e', 't', [1, 2, 3, 4, 56], 'sudh', 4, 3, 2]"
      ]
     },
     "execution_count": 56,
     "metadata": {},
     "output_type": "execute_result"
    }
   ],
   "source": [
    "l"
   ]
  },
  {
   "cell_type": "code",
   "execution_count": 58,
   "id": "b520e307-621a-4a1a-b1eb-f171b411aea4",
   "metadata": {},
   "outputs": [
    {
     "ename": "TypeError",
     "evalue": "'<' not supported between instances of 'list' and 'str'",
     "output_type": "error",
     "traceback": [
      "\u001b[0;31m---------------------------------------------------------------------------\u001b[0m",
      "\u001b[0;31mTypeError\u001b[0m                                 Traceback (most recent call last)",
      "Cell \u001b[0;32mIn[58], line 1\u001b[0m\n\u001b[0;32m----> 1\u001b[0m l\u001b[38;5;241m.\u001b[39msort()\n",
      "\u001b[0;31mTypeError\u001b[0m: '<' not supported between instances of 'list' and 'str'"
     ]
    }
   ],
   "source": [
    "l.sort()"
   ]
  },
  {
   "cell_type": "code",
   "execution_count": 60,
   "id": "e7ab9afb-cdb5-4fcd-aa65-27e6d781baa3",
   "metadata": {},
   "outputs": [],
   "source": [
    "l1.sort()"
   ]
  },
  {
   "cell_type": "code",
   "execution_count": 62,
   "id": "551bec69-b191-4bdf-8764-06c6ba991ff0",
   "metadata": {},
   "outputs": [
    {
     "data": {
      "text/plain": [
       "[1, 2, 6, 6, 7]"
      ]
     },
     "execution_count": 62,
     "metadata": {},
     "output_type": "execute_result"
    }
   ],
   "source": [
    "l1"
   ]
  },
  {
   "cell_type": "code",
   "execution_count": 2,
   "id": "25540853-9b23-47b3-a437-ff005f056ec3",
   "metadata": {},
   "outputs": [
    {
     "name": "stdin",
     "output_type": "stream",
     "text": [
      " 45\n",
      " 56\n",
      " 67\n",
      " 78\n",
      " 78\n"
     ]
    },
    {
     "name": "stdout",
     "output_type": "stream",
     "text": [
      "[45, 56, 67, 78, 78]\n"
     ]
    }
   ],
   "source": [
    "l=[]\n",
    "for i in range(5):\n",
    "    l.append(int(input()))\n",
    "print(l)"
   ]
  },
  {
   "cell_type": "code",
   "execution_count": 4,
   "id": "5cdc6d2f-8bd7-4cb4-b582-2fb79074c944",
   "metadata": {},
   "outputs": [
    {
     "name": "stdin",
     "output_type": "stream",
     "text": [
      " 23\n"
     ]
    },
    {
     "data": {
      "text/plain": [
       "'23'"
      ]
     },
     "execution_count": 4,
     "metadata": {},
     "output_type": "execute_result"
    }
   ],
   "source": [
    "input()"
   ]
  },
  {
   "cell_type": "code",
   "execution_count": 6,
   "id": "b431c454-5cd2-4e0b-8bb5-fb0b03df0e0b",
   "metadata": {},
   "outputs": [
    {
     "name": "stdin",
     "output_type": "stream",
     "text": [
      " 22\n"
     ]
    },
    {
     "data": {
      "text/plain": [
       "['2', '2']"
      ]
     },
     "execution_count": 6,
     "metadata": {},
     "output_type": "execute_result"
    }
   ],
   "source": [
    "list(input())"
   ]
  },
  {
   "cell_type": "code",
   "execution_count": 73,
   "id": "7438ebb8-0128-42f6-bb8a-035b37a3c02b",
   "metadata": {},
   "outputs": [],
   "source": [
    "l=[1,2,3,4,5]"
   ]
  },
  {
   "cell_type": "code",
   "execution_count": 75,
   "id": "8fb9e55f-f62a-4e3e-8c09-de46b055ce37",
   "metadata": {},
   "outputs": [],
   "source": [
    "l1=[]"
   ]
  },
  {
   "cell_type": "code",
   "execution_count": 77,
   "id": "04883d27-1455-43ff-8b42-8f041964fe9b",
   "metadata": {},
   "outputs": [],
   "source": [
    "for i in \"sudh\":\n",
    "    l1.append(i)"
   ]
  },
  {
   "cell_type": "code",
   "execution_count": 79,
   "id": "97cb7226-1751-4e90-9501-67d5e3c1d58c",
   "metadata": {},
   "outputs": [
    {
     "data": {
      "text/plain": [
       "['s', 'u', 'd', 'h']"
      ]
     },
     "execution_count": 79,
     "metadata": {},
     "output_type": "execute_result"
    }
   ],
   "source": [
    "l1"
   ]
  },
  {
   "cell_type": "code",
   "execution_count": 81,
   "id": "84292b4d-c85d-4fc4-9d2a-07e79ca5a931",
   "metadata": {},
   "outputs": [
    {
     "data": {
      "text/plain": [
       "['s', 'u', 'd', 'h']"
      ]
     },
     "execution_count": 81,
     "metadata": {},
     "output_type": "execute_result"
    }
   ],
   "source": [
    "[i for i in \"sudh\"]"
   ]
  },
  {
   "cell_type": "code",
   "execution_count": 83,
   "id": "ded4b5aa-0d34-46dd-9bb6-a6da915e9272",
   "metadata": {},
   "outputs": [
    {
     "data": {
      "text/plain": [
       "[['s'], ['u'], ['d'], ['h']]"
      ]
     },
     "execution_count": 83,
     "metadata": {},
     "output_type": "execute_result"
    }
   ],
   "source": [
    "[[i] for i in \"sudh\"]"
   ]
  },
  {
   "cell_type": "code",
   "execution_count": 93,
   "id": "7680ee0c-f5f7-4fc7-8c2d-a45421310125",
   "metadata": {},
   "outputs": [],
   "source": [
    "l = []\n",
    "for i in range(10):\n",
    "    if i%2==0:\n",
    "        l.append(i)\n",
    "        "
   ]
  },
  {
   "cell_type": "code",
   "execution_count": 95,
   "id": "4a9619ba-5a1b-42b1-86b1-dca29f268958",
   "metadata": {},
   "outputs": [
    {
     "data": {
      "text/plain": [
       "[0, 2, 4, 6, 8]"
      ]
     },
     "execution_count": 95,
     "metadata": {},
     "output_type": "execute_result"
    }
   ],
   "source": [
    "l"
   ]
  },
  {
   "cell_type": "code",
   "execution_count": 97,
   "id": "22053bc0-bce2-46ee-a364-06749ffbb8ee",
   "metadata": {},
   "outputs": [
    {
     "data": {
      "text/plain": [
       "1"
      ]
     },
     "execution_count": 97,
     "metadata": {},
     "output_type": "execute_result"
    }
   ],
   "source": [
    "5%2"
   ]
  },
  {
   "cell_type": "code",
   "execution_count": 99,
   "id": "62ef85f0-fb89-4a6e-8e33-60b63655dc2f",
   "metadata": {},
   "outputs": [
    {
     "data": {
      "text/plain": [
       "2"
      ]
     },
     "execution_count": 99,
     "metadata": {},
     "output_type": "execute_result"
    }
   ],
   "source": [
    "8%3"
   ]
  },
  {
   "cell_type": "code",
   "execution_count": 101,
   "id": "808b31fd-b5ce-4d87-a584-f1bafbc01966",
   "metadata": {},
   "outputs": [
    {
     "data": {
      "text/plain": [
       "0"
      ]
     },
     "execution_count": 101,
     "metadata": {},
     "output_type": "execute_result"
    }
   ],
   "source": [
    "6%2"
   ]
  },
  {
   "cell_type": "code",
   "execution_count": 103,
   "id": "ccf0f7f0-8401-4704-b87a-f525aae752e3",
   "metadata": {},
   "outputs": [
    {
     "data": {
      "text/plain": [
       "[0, 2, 4, 6, 8]"
      ]
     },
     "execution_count": 103,
     "metadata": {},
     "output_type": "execute_result"
    }
   ],
   "source": [
    "[i for i in range(10) if i%2==0]"
   ]
  },
  {
   "cell_type": "code",
   "execution_count": 109,
   "id": "6425a5af-5ecd-4e98-a79b-74e97b5aaa95",
   "metadata": {},
   "outputs": [],
   "source": [
    "l=[]\n",
    "for i in range(10):\n",
    "    if i % 2 !=0:\n",
    "        l.append(\"odd\")\n",
    "    else:\n",
    "        l.append(\"even\")"
   ]
  },
  {
   "cell_type": "code",
   "execution_count": 112,
   "id": "885e3f36-9eb3-45a6-9ee8-6b62274131a0",
   "metadata": {},
   "outputs": [
    {
     "data": {
      "text/plain": [
       "['even', 'odd', 'even', 'odd', 'even', 'odd', 'even', 'odd', 'even', 'odd']"
      ]
     },
     "execution_count": 112,
     "metadata": {},
     "output_type": "execute_result"
    }
   ],
   "source": [
    "l"
   ]
  },
  {
   "cell_type": "code",
   "execution_count": 114,
   "id": "bd79c38c-e339-4933-b7f5-723d126a1440",
   "metadata": {},
   "outputs": [
    {
     "data": {
      "text/plain": [
       "['even', 'odd', 'even', 'odd', 'even', 'odd', 'even', 'odd', 'even', 'odd']"
      ]
     },
     "execution_count": 114,
     "metadata": {},
     "output_type": "execute_result"
    }
   ],
   "source": [
    "[\"odd\" if i%2!=0 else \"even\" for i in range(10)]"
   ]
  },
  {
   "cell_type": "code",
   "execution_count": 116,
   "id": "5edd7d44-6bd6-4fb4-8043-905858d6b6aa",
   "metadata": {},
   "outputs": [
    {
     "data": {
      "text/plain": [
       "[[0, 1, 2], [0, 1, 2], [0, 1, 2]]"
      ]
     },
     "execution_count": 116,
     "metadata": {},
     "output_type": "execute_result"
    }
   ],
   "source": [
    "mat=[]\n",
    "for i in range(3):\n",
    "    mat.append([])\n",
    "    for j  in range(3):\n",
    "        mat[i].append(j)\n",
    "mat"
   ]
  },
  {
   "cell_type": "code",
   "execution_count": 118,
   "id": "e13a098e-8a19-49c1-ab8e-70a56820dc25",
   "metadata": {},
   "outputs": [
    {
     "data": {
      "text/plain": [
       "[[0, 1, 2], [0, 1, 2], [0, 1, 2]]"
      ]
     },
     "execution_count": 118,
     "metadata": {},
     "output_type": "execute_result"
    }
   ],
   "source": [
    "[[j for j in range(3)]for i in range(3)]"
   ]
  },
  {
   "cell_type": "code",
   "execution_count": 120,
   "id": "e829a8de-f3c2-4eb9-84d0-ac802a915411",
   "metadata": {},
   "outputs": [
    {
     "data": {
      "text/plain": [
       "[0, 1, 2, 3, 4, 5, 6, 7, 8, 9]"
      ]
     },
     "execution_count": 120,
     "metadata": {},
     "output_type": "execute_result"
    }
   ],
   "source": [
    "[i for i in range(10)]"
   ]
  },
  {
   "cell_type": "code",
   "execution_count": 122,
   "id": "c8811e38-d66d-4ef8-9903-e61762e3023a",
   "metadata": {},
   "outputs": [
    {
     "data": {
      "text/plain": [
       "[0, 6]"
      ]
     },
     "execution_count": 122,
     "metadata": {},
     "output_type": "execute_result"
    }
   ],
   "source": [
    "[i for i in range(8) if i%2==0 if i%3==0]"
   ]
  },
  {
   "cell_type": "code",
   "execution_count": 151,
   "id": "579b662d-d3c8-4cee-9e11-0a660c37a737",
   "metadata": {},
   "outputs": [
    {
     "name": "stdout",
     "output_type": "stream",
     "text": [
      "CPU times: user 11 μs, sys: 6 μs, total: 17 μs\n",
      "Wall time: 20 μs\n"
     ]
    }
   ],
   "source": [
    "%%time\n",
    "l=[]\n",
    "for i in range(8):\n",
    "    if i%2==0:\n",
    "        if i%3==0:\n",
    "            l.append(i)\n",
    "            "
   ]
  },
  {
   "cell_type": "code",
   "execution_count": 128,
   "id": "9a90686a-f19c-4334-a8f9-0e89a91b2781",
   "metadata": {},
   "outputs": [
    {
     "data": {
      "text/plain": [
       "[0, 6]"
      ]
     },
     "execution_count": 128,
     "metadata": {},
     "output_type": "execute_result"
    }
   ],
   "source": [
    "l"
   ]
  },
  {
   "cell_type": "code",
   "execution_count": 130,
   "id": "3cd0fef1-e5a5-4333-a269-70b51172a2c8",
   "metadata": {},
   "outputs": [],
   "source": [
    "l=[]\n",
    "for i in range(10):\n",
    "    l.append(i)"
   ]
  },
  {
   "cell_type": "code",
   "execution_count": 8,
   "id": "c6e52308-e5c7-4793-bb64-11a36ad808f8",
   "metadata": {},
   "outputs": [
    {
     "name": "stdout",
     "output_type": "stream",
     "text": [
      "a\n",
      "c\n"
     ]
    }
   ],
   "source": [
    "x=['a','b','c']\n",
    "for i in x:\n",
    "    print(i)\n",
    "    x.remove(i)\n",
    "    #first go through a and remove and then b come to a index so it go to next and remove c\n",
    "    #doubt"
   ]
  },
  {
   "cell_type": "code",
   "execution_count": 136,
   "id": "639e1e01-ec29-436e-8ff9-55a0ee30c494",
   "metadata": {},
   "outputs": [
    {
     "data": {
      "text/plain": [
       "['test', 'yes', 'no', 'test', 'test', 'test', 'test', 'test', 'test', 'test']"
      ]
     },
     "execution_count": 136,
     "metadata": {},
     "output_type": "execute_result"
    }
   ],
   "source": [
    "[\"yes\" if i == 1 else \"no\" if i==2  else \"test\" for i in l]"
   ]
  },
  {
   "cell_type": "code",
   "execution_count": 138,
   "id": "725f8240-3fed-4487-9e40-84aa1a9b5b5d",
   "metadata": {},
   "outputs": [],
   "source": [
    "res=[]\n",
    "for i in l:\n",
    "    if i==1:\n",
    "        res.append(\"yes\")\n",
    "    elif i==2:\n",
    "        res.append(\"no\")\n",
    "    else:\n",
    "        res.append(\"test\")"
   ]
  },
  {
   "cell_type": "code",
   "execution_count": 140,
   "id": "fb9059a9-45fe-4d3e-bf29-e49900aa1a41",
   "metadata": {},
   "outputs": [
    {
     "data": {
      "text/plain": [
       "['test', 'yes', 'no', 'test', 'test', 'test', 'test', 'test', 'test', 'test']"
      ]
     },
     "execution_count": 140,
     "metadata": {},
     "output_type": "execute_result"
    }
   ],
   "source": [
    "res"
   ]
  },
  {
   "cell_type": "code",
   "execution_count": 142,
   "id": "92c04c77-da2e-4064-a4de-5f84c8266dbd",
   "metadata": {},
   "outputs": [
    {
     "data": {
      "text/plain": [
       "range(0, 10, 3)"
      ]
     },
     "execution_count": 142,
     "metadata": {},
     "output_type": "execute_result"
    }
   ],
   "source": [
    "range(0,10,3)"
   ]
  },
  {
   "cell_type": "code",
   "execution_count": 144,
   "id": "313c5645-7c66-45d1-a1c2-436cc6ae4d4b",
   "metadata": {},
   "outputs": [
    {
     "data": {
      "text/plain": [
       "4"
      ]
     },
     "execution_count": 144,
     "metadata": {},
     "output_type": "execute_result"
    }
   ],
   "source": [
    "len(range(0,10,3))"
   ]
  },
  {
   "cell_type": "code",
   "execution_count": 149,
   "id": "72984ffc-2681-4830-a667-3f2b65305733",
   "metadata": {},
   "outputs": [
    {
     "name": "stdout",
     "output_type": "stream",
     "text": [
      "5\n",
      "8\n",
      "11\n",
      "14\n"
     ]
    }
   ],
   "source": [
    "for i in range(0,10,3):\n",
    "    i=i+5\n",
    "    print(i)"
   ]
  },
  {
   "cell_type": "code",
   "execution_count": 157,
   "id": "8e6ad97e-5b54-49e3-b735-7d63a62ad2a8",
   "metadata": {},
   "outputs": [],
   "source": [
    "t=()\n"
   ]
  },
  {
   "cell_type": "code",
   "execution_count": 159,
   "id": "10384376-57a7-4169-ab8a-deff3ab476e8",
   "metadata": {},
   "outputs": [
    {
     "data": {
      "text/plain": [
       "tuple"
      ]
     },
     "execution_count": 159,
     "metadata": {},
     "output_type": "execute_result"
    }
   ],
   "source": [
    "type(t)"
   ]
  },
  {
   "cell_type": "code",
   "execution_count": 163,
   "id": "9d80c096-a2c7-4b74-ab5b-61d4d55e1493",
   "metadata": {},
   "outputs": [
    {
     "data": {
      "text/plain": [
       "list"
      ]
     },
     "execution_count": 163,
     "metadata": {},
     "output_type": "execute_result"
    }
   ],
   "source": [
    "l=[]\n",
    "type(l)"
   ]
  },
  {
   "cell_type": "code",
   "execution_count": 175,
   "id": "cc875d33-6e85-4390-9e45-991ee7382c85",
   "metadata": {},
   "outputs": [],
   "source": [
    "t1=(234,34,\"sudh\",3.45,True)\n"
   ]
  },
  {
   "cell_type": "code",
   "execution_count": 177,
   "id": "27052034-3528-47c9-a660-bea694b5e2f2",
   "metadata": {},
   "outputs": [],
   "source": [
    "l1=[234,34,\"sudh\",3.45,True]"
   ]
  },
  {
   "cell_type": "code",
   "execution_count": 179,
   "id": "a3971818-0aea-47cb-97bf-5bb269f41a55",
   "metadata": {},
   "outputs": [
    {
     "data": {
      "text/plain": [
       "234"
      ]
     },
     "execution_count": 179,
     "metadata": {},
     "output_type": "execute_result"
    }
   ],
   "source": [
    "t1[0]"
   ]
  },
  {
   "cell_type": "code",
   "execution_count": 181,
   "id": "807ad893-5587-416d-b9dc-e20bd4cb2c27",
   "metadata": {},
   "outputs": [
    {
     "ename": "IndexError",
     "evalue": "tuple index out of range",
     "output_type": "error",
     "traceback": [
      "\u001b[0;31m---------------------------------------------------------------------------\u001b[0m",
      "\u001b[0;31mIndexError\u001b[0m                                Traceback (most recent call last)",
      "Cell \u001b[0;32mIn[181], line 1\u001b[0m\n\u001b[0;32m----> 1\u001b[0m t1[\u001b[38;5;241m5\u001b[39m]\n",
      "\u001b[0;31mIndexError\u001b[0m: tuple index out of range"
     ]
    }
   ],
   "source": [
    "t1[5]"
   ]
  },
  {
   "cell_type": "code",
   "execution_count": 185,
   "id": "89bedcb7-4422-4842-9431-214feb4085e3",
   "metadata": {},
   "outputs": [
    {
     "data": {
      "text/plain": [
       "(234, 34, 'sudh', 3.45, True)"
      ]
     },
     "execution_count": 185,
     "metadata": {},
     "output_type": "execute_result"
    }
   ],
   "source": [
    "t1[0:5]"
   ]
  },
  {
   "cell_type": "code",
   "execution_count": 187,
   "id": "058c804d-419d-449a-9364-68013e772c2d",
   "metadata": {},
   "outputs": [
    {
     "data": {
      "text/plain": [
       "(True, 3.45, 'sudh', 34, 234)"
      ]
     },
     "execution_count": 187,
     "metadata": {},
     "output_type": "execute_result"
    }
   ],
   "source": [
    "t1[::-1]"
   ]
  },
  {
   "cell_type": "code",
   "execution_count": 189,
   "id": "2345d05b-6b09-4345-9775-da531ce097ea",
   "metadata": {},
   "outputs": [
    {
     "data": {
      "text/plain": [
       "True"
      ]
     },
     "execution_count": 189,
     "metadata": {},
     "output_type": "execute_result"
    }
   ],
   "source": [
    "t1[-1]"
   ]
  },
  {
   "cell_type": "code",
   "execution_count": 191,
   "id": "08f0a6c5-981a-4c90-b918-7f7f1464b799",
   "metadata": {},
   "outputs": [],
   "source": [
    "l1[0]=\"kumar\""
   ]
  },
  {
   "cell_type": "code",
   "execution_count": 193,
   "id": "d9a741a8-6253-4dc0-b852-b5bfba3e1ec8",
   "metadata": {},
   "outputs": [
    {
     "data": {
      "text/plain": [
       "['kumar', 34, 'sudh', 3.45, True]"
      ]
     },
     "execution_count": 193,
     "metadata": {},
     "output_type": "execute_result"
    }
   ],
   "source": [
    "l1"
   ]
  },
  {
   "cell_type": "code",
   "execution_count": 195,
   "id": "467158f7-b8a9-4658-8b25-fa142b0cd09b",
   "metadata": {},
   "outputs": [
    {
     "ename": "TypeError",
     "evalue": "'tuple' object does not support item assignment",
     "output_type": "error",
     "traceback": [
      "\u001b[0;31m---------------------------------------------------------------------------\u001b[0m",
      "\u001b[0;31mTypeError\u001b[0m                                 Traceback (most recent call last)",
      "Cell \u001b[0;32mIn[195], line 1\u001b[0m\n\u001b[0;32m----> 1\u001b[0m t1[\u001b[38;5;241m0\u001b[39m]\u001b[38;5;241m=\u001b[39m\u001b[38;5;124m\"\u001b[39m\u001b[38;5;124mdsss\u001b[39m\u001b[38;5;124m\"\u001b[39m\n",
      "\u001b[0;31mTypeError\u001b[0m: 'tuple' object does not support item assignment"
     ]
    }
   ],
   "source": [
    "t1[0]=\"dsss\""
   ]
  },
  {
   "cell_type": "code",
   "execution_count": 197,
   "id": "1b3a3334-4dae-4a76-b85d-e9d9579b31f6",
   "metadata": {},
   "outputs": [],
   "source": [
    "t2=(234,54,565)"
   ]
  },
  {
   "cell_type": "code",
   "execution_count": 199,
   "id": "7a4398d8-d202-4b2e-a172-1fe5da1d7851",
   "metadata": {},
   "outputs": [
    {
     "data": {
      "text/plain": [
       "(234, 34, 'sudh', 3.45, True, 234, 54, 565)"
      ]
     },
     "execution_count": 199,
     "metadata": {},
     "output_type": "execute_result"
    }
   ],
   "source": [
    "t1+t2"
   ]
  },
  {
   "cell_type": "code",
   "execution_count": 201,
   "id": "9ad475a9-0cbc-4d0c-a825-4cc12d166991",
   "metadata": {},
   "outputs": [
    {
     "data": {
      "text/plain": [
       "True"
      ]
     },
     "execution_count": 201,
     "metadata": {},
     "output_type": "execute_result"
    }
   ],
   "source": [
    "34 in t1"
   ]
  },
  {
   "cell_type": "code",
   "execution_count": 203,
   "id": "5ed28a85-8bf7-4c08-9e4f-88b9a69a1c74",
   "metadata": {},
   "outputs": [
    {
     "ename": "TypeError",
     "evalue": "'>' not supported between instances of 'str' and 'int'",
     "output_type": "error",
     "traceback": [
      "\u001b[0;31m---------------------------------------------------------------------------\u001b[0m",
      "\u001b[0;31mTypeError\u001b[0m                                 Traceback (most recent call last)",
      "Cell \u001b[0;32mIn[203], line 1\u001b[0m\n\u001b[0;32m----> 1\u001b[0m \u001b[38;5;28mmax\u001b[39m(t1)\n",
      "\u001b[0;31mTypeError\u001b[0m: '>' not supported between instances of 'str' and 'int'"
     ]
    }
   ],
   "source": [
    "max(t1)"
   ]
  },
  {
   "cell_type": "code",
   "execution_count": 205,
   "id": "a59d0620-37ff-4c13-8ce1-1e082f12325a",
   "metadata": {},
   "outputs": [],
   "source": [
    "t3=(1,4,2,5)"
   ]
  },
  {
   "cell_type": "code",
   "execution_count": 207,
   "id": "852d08ec-0697-4c20-a3ab-2fd6c9612e6d",
   "metadata": {},
   "outputs": [
    {
     "data": {
      "text/plain": [
       "5"
      ]
     },
     "execution_count": 207,
     "metadata": {},
     "output_type": "execute_result"
    }
   ],
   "source": [
    "max(t3)"
   ]
  },
  {
   "cell_type": "code",
   "execution_count": 209,
   "id": "d72eb669-469e-4e0f-950f-63ced458a9c2",
   "metadata": {},
   "outputs": [],
   "source": [
    "t4=(\"iii\",\"hihih\")"
   ]
  },
  {
   "cell_type": "code",
   "execution_count": 211,
   "id": "dc36a65a-44ca-420a-a0ee-15499e769775",
   "metadata": {},
   "outputs": [
    {
     "data": {
      "text/plain": [
       "'iii'"
      ]
     },
     "execution_count": 211,
     "metadata": {},
     "output_type": "execute_result"
    }
   ],
   "source": [
    "max(t4)"
   ]
  },
  {
   "cell_type": "code",
   "execution_count": 213,
   "id": "ad5accd8-cf9f-4839-bde5-54d36f60fcdf",
   "metadata": {},
   "outputs": [
    {
     "data": {
      "text/plain": [
       "1"
      ]
     },
     "execution_count": 213,
     "metadata": {},
     "output_type": "execute_result"
    }
   ],
   "source": [
    "t1.index(34)"
   ]
  },
  {
   "cell_type": "code",
   "execution_count": 217,
   "id": "261b91b4-cea2-413d-b62d-1d1c99d6c020",
   "metadata": {},
   "outputs": [
    {
     "ename": "ValueError",
     "evalue": "tuple.index(x): x not in tuple",
     "output_type": "error",
     "traceback": [
      "\u001b[0;31m---------------------------------------------------------------------------\u001b[0m",
      "\u001b[0;31mValueError\u001b[0m                                Traceback (most recent call last)",
      "Cell \u001b[0;32mIn[217], line 1\u001b[0m\n\u001b[0;32m----> 1\u001b[0m t1\u001b[38;5;241m.\u001b[39mindex(\u001b[38;5;241m6\u001b[39m)\n",
      "\u001b[0;31mValueError\u001b[0m: tuple.index(x): x not in tuple"
     ]
    }
   ],
   "source": [
    "t1.index(6)"
   ]
  },
  {
   "cell_type": "code",
   "execution_count": 219,
   "id": "4ab34e07-dd5f-4e08-8c6b-9ae82736366a",
   "metadata": {},
   "outputs": [
    {
     "data": {
      "text/plain": [
       "1"
      ]
     },
     "execution_count": 219,
     "metadata": {},
     "output_type": "execute_result"
    }
   ],
   "source": [
    "t1.count(34)"
   ]
  },
  {
   "cell_type": "code",
   "execution_count": 221,
   "id": "a0bbadac-e361-446b-86b2-42d75c7bda78",
   "metadata": {},
   "outputs": [
    {
     "data": {
      "text/plain": [
       "1"
      ]
     },
     "execution_count": 221,
     "metadata": {},
     "output_type": "execute_result"
    }
   ],
   "source": [
    "min(t3)"
   ]
  },
  {
   "cell_type": "code",
   "execution_count": 225,
   "id": "f2af4358-a765-4cdd-8c56-db858790a96c",
   "metadata": {},
   "outputs": [],
   "source": [
    "t6=(234,34,\"sudh\",3.45,34,34,34,True)"
   ]
  },
  {
   "cell_type": "code",
   "execution_count": 227,
   "id": "f96e8773-38cb-435b-a391-bdd0892bed44",
   "metadata": {},
   "outputs": [],
   "source": [
    "t7=(90,45)"
   ]
  },
  {
   "cell_type": "code",
   "execution_count": 229,
   "id": "99c0e258-3ba9-4e76-901f-f316bfd3d867",
   "metadata": {},
   "outputs": [
    {
     "data": {
      "text/plain": [
       "(234, 34, 'sudh', 3.45, 34, 34, 34, True, 90, 45)"
      ]
     },
     "execution_count": 229,
     "metadata": {},
     "output_type": "execute_result"
    }
   ],
   "source": [
    "t6+t7"
   ]
  },
  {
   "cell_type": "code",
   "execution_count": 231,
   "id": "060bbe36-31da-4dce-9e8e-ceba441e56c2",
   "metadata": {},
   "outputs": [],
   "source": [
    "t8=56"
   ]
  },
  {
   "cell_type": "code",
   "execution_count": 233,
   "id": "a94211e8-1bc4-4467-8749-35a08fdf8c46",
   "metadata": {},
   "outputs": [],
   "source": [
    "l5=list(t1)"
   ]
  },
  {
   "cell_type": "code",
   "execution_count": 237,
   "id": "f16c0aae-9823-40f8-8753-828d771dd422",
   "metadata": {},
   "outputs": [],
   "source": [
    "l5.insert(3,t8)"
   ]
  },
  {
   "cell_type": "code",
   "execution_count": 239,
   "id": "86897a39-f9a8-4ef0-a988-08fca7fcf0ed",
   "metadata": {},
   "outputs": [
    {
     "data": {
      "text/plain": [
       "[234, 34, 'sudh', 56, 3.45, True]"
      ]
     },
     "execution_count": 239,
     "metadata": {},
     "output_type": "execute_result"
    }
   ],
   "source": [
    "l5"
   ]
  },
  {
   "cell_type": "code",
   "execution_count": 241,
   "id": "43436671-2fb9-45eb-974b-72163c58b974",
   "metadata": {},
   "outputs": [
    {
     "data": {
      "text/plain": [
       "(234, 34, 'sudh', 56, 3.45, True)"
      ]
     },
     "execution_count": 241,
     "metadata": {},
     "output_type": "execute_result"
    }
   ],
   "source": [
    "tuple(l5)"
   ]
  },
  {
   "cell_type": "code",
   "execution_count": 243,
   "id": "6387c84d-0f58-46f7-a83e-a0329471d802",
   "metadata": {},
   "outputs": [],
   "source": [
    "t=((3,4,5,6,7),(\"ygyg\",45,45),[6,7,77])"
   ]
  },
  {
   "cell_type": "code",
   "execution_count": 245,
   "id": "2e94daaf-c363-4dd0-902e-95695f49736a",
   "metadata": {},
   "outputs": [
    {
     "data": {
      "text/plain": [
       "[6, 7, 77]"
      ]
     },
     "execution_count": 245,
     "metadata": {},
     "output_type": "execute_result"
    }
   ],
   "source": [
    "t[2]"
   ]
  },
  {
   "cell_type": "code",
   "execution_count": 247,
   "id": "443d8a97-1a9f-46e0-be92-ec388e71ca9f",
   "metadata": {},
   "outputs": [
    {
     "data": {
      "text/plain": [
       "[7]"
      ]
     },
     "execution_count": 247,
     "metadata": {},
     "output_type": "execute_result"
    }
   ],
   "source": [
    "t[2][1:2]"
   ]
  },
  {
   "cell_type": "code",
   "execution_count": 249,
   "id": "2011505a-2478-4f77-b1d0-714ea2cb8054",
   "metadata": {},
   "outputs": [
    {
     "data": {
      "text/plain": [
       "'ygyg'"
      ]
     },
     "execution_count": 249,
     "metadata": {},
     "output_type": "execute_result"
    }
   ],
   "source": [
    "t[1][0]"
   ]
  },
  {
   "cell_type": "raw",
   "id": "ef4b199b-8ad6-4953-a858-f71e914907d2",
   "metadata": {},
   "source": []
  },
  {
   "cell_type": "code",
   "execution_count": 253,
   "id": "d05a25ee-6696-4990-a546-4e3f14ac8936",
   "metadata": {},
   "outputs": [
    {
     "name": "stdout",
     "output_type": "stream",
     "text": [
      "((3, 4, 5, 6, 7), ('ygyg', 45, 45), [6, 7, 77])\n",
      "((3, 4, 5, 6, 7), ('ygyg', 45, 45), [6, 7, 77])\n",
      "((3, 4, 5, 6, 7), ('ygyg', 45, 45), [6, 7, 77])\n"
     ]
    }
   ],
   "source": [
    "for i in t:\n",
    "    print(t)"
   ]
  },
  {
   "cell_type": "code",
   "execution_count": 255,
   "id": "c0807d3e-492e-4153-b60c-c0b6532ea13b",
   "metadata": {},
   "outputs": [
    {
     "name": "stdout",
     "output_type": "stream",
     "text": [
      "3\n",
      "ygyg\n"
     ]
    }
   ],
   "source": [
    "for i in t:\n",
    "    if type(i)==tuple:\n",
    "        print(i[0])"
   ]
  },
  {
   "cell_type": "code",
   "execution_count": 257,
   "id": "d6f20c9d-931e-4ad3-b31a-f0eb818a9881",
   "metadata": {},
   "outputs": [
    {
     "name": "stdout",
     "output_type": "stream",
     "text": [
      "not same\n"
     ]
    }
   ],
   "source": [
    "if len(t1)==len(t2):\n",
    "    print(\"its same\")\n",
    "else:\n",
    "    print(\"not same\")\n"
   ]
  },
  {
   "cell_type": "code",
   "execution_count": 3,
   "id": "24b173a0-11ff-4878-937e-fb753ed79acf",
   "metadata": {},
   "outputs": [],
   "source": [
    "t=(234,34,\"sudh\",3.45,34,34,34,True,\"kumar\")"
   ]
  },
  {
   "cell_type": "code",
   "execution_count": 7,
   "id": "e92f53f5-6d8f-4047-af9e-fa0e2158204a",
   "metadata": {},
   "outputs": [
    {
     "name": "stdin",
     "output_type": "stream",
     "text": [
      "take a user input 34\n"
     ]
    },
    {
     "name": "stdout",
     "output_type": "stream",
     "text": [
      "your name is not available\n"
     ]
    }
   ],
   "source": [
    "i=input(\"take a user input\")\n",
    "if i in t:\n",
    "    print(\"yes your name is available\")\n",
    "else:\n",
    "    print(\"your name is not available\")"
   ]
  },
  {
   "cell_type": "code",
   "execution_count": 263,
   "id": "45be7245-2277-472d-b45c-450eb441a052",
   "metadata": {},
   "outputs": [
    {
     "data": {
      "text/plain": [
       "(234, 34, 'sudh', 3.45, 34, 34, 34, True, 'kumar')"
      ]
     },
     "execution_count": 263,
     "metadata": {},
     "output_type": "execute_result"
    }
   ],
   "source": [
    "t"
   ]
  },
  {
   "cell_type": "code",
   "execution_count": 265,
   "id": "d41160fa-224d-42cc-8896-5d1edbff5de4",
   "metadata": {},
   "outputs": [
    {
     "data": {
      "text/plain": [
       "['kumar', 34, 'sudh', 3.45, True]"
      ]
     },
     "execution_count": 265,
     "metadata": {},
     "output_type": "execute_result"
    }
   ],
   "source": [
    "l1"
   ]
  },
  {
   "cell_type": "code",
   "execution_count": 267,
   "id": "89b6fb86-1cc7-4d69-86c5-6ebd1cef97d0",
   "metadata": {},
   "outputs": [],
   "source": [
    "t1=(34)"
   ]
  },
  {
   "cell_type": "code",
   "execution_count": 269,
   "id": "7aaea5d3-cccd-4f28-a614-e2f09631fddd",
   "metadata": {},
   "outputs": [],
   "source": [
    "del(t1)"
   ]
  },
  {
   "cell_type": "code",
   "execution_count": 271,
   "id": "e73ba775-75dd-43e0-89a1-67671bb7c3fc",
   "metadata": {},
   "outputs": [
    {
     "ename": "NameError",
     "evalue": "name 't1' is not defined",
     "output_type": "error",
     "traceback": [
      "\u001b[0;31m---------------------------------------------------------------------------\u001b[0m",
      "\u001b[0;31mNameError\u001b[0m                                 Traceback (most recent call last)",
      "Cell \u001b[0;32mIn[271], line 1\u001b[0m\n\u001b[0;32m----> 1\u001b[0m t1\n",
      "\u001b[0;31mNameError\u001b[0m: name 't1' is not defined"
     ]
    }
   ],
   "source": [
    "t1"
   ]
  },
  {
   "cell_type": "code",
   "execution_count": 9,
   "id": "07528742-940d-4f6a-a394-3af368dc9b49",
   "metadata": {},
   "outputs": [],
   "source": [
    "l=[34,45,45,45,45,67,34,56,78,\"sudh\",\"sudh\",\"sudh\",\"kumar\"]"
   ]
  },
  {
   "cell_type": "code",
   "execution_count": 11,
   "id": "f242fa49-b823-41c6-afd9-2e3a3a1a7792",
   "metadata": {},
   "outputs": [],
   "source": [
    "s=set(l)"
   ]
  },
  {
   "cell_type": "code",
   "execution_count": 13,
   "id": "4cb06f53-5a06-4e9d-b736-ae357f8423d5",
   "metadata": {},
   "outputs": [
    {
     "data": {
      "text/plain": [
       "{34, 45, 56, 67, 78, 'kumar', 'sudh'}"
      ]
     },
     "execution_count": 13,
     "metadata": {},
     "output_type": "execute_result"
    }
   ],
   "source": [
    "s"
   ]
  },
  {
   "cell_type": "code",
   "execution_count": 15,
   "id": "09aca987-fdb2-46ec-bc7d-3c9a3f7bc5ce",
   "metadata": {},
   "outputs": [
    {
     "name": "stdout",
     "output_type": "stream",
     "text": [
      "34\n",
      "67\n",
      "45\n",
      "78\n",
      "sudh\n",
      "kumar\n",
      "56\n"
     ]
    }
   ],
   "source": [
    "for i in s :\n",
    "    print(i)"
   ]
  },
  {
   "cell_type": "code",
   "execution_count": 17,
   "id": "e6446f75-7cb3-4e5c-94ab-a81bc816fc55",
   "metadata": {},
   "outputs": [
    {
     "data": {
      "text/plain": [
       "True"
      ]
     },
     "execution_count": 17,
     "metadata": {},
     "output_type": "execute_result"
    }
   ],
   "source": [
    "34 in s\n"
   ]
  },
  {
   "cell_type": "code",
   "execution_count": 19,
   "id": "eccefe3f-1c40-4d8d-83aa-33a25dcd86b2",
   "metadata": {},
   "outputs": [
    {
     "ename": "TypeError",
     "evalue": "'set' object is not subscriptable",
     "output_type": "error",
     "traceback": [
      "\u001b[0;31m---------------------------------------------------------------------------\u001b[0m",
      "\u001b[0;31mTypeError\u001b[0m                                 Traceback (most recent call last)",
      "Cell \u001b[0;32mIn[19], line 1\u001b[0m\n\u001b[0;32m----> 1\u001b[0m s[\u001b[38;5;241m0\u001b[39m]\n",
      "\u001b[0;31mTypeError\u001b[0m: 'set' object is not subscriptable"
     ]
    }
   ],
   "source": [
    "s[0]"
   ]
  },
  {
   "cell_type": "code",
   "execution_count": 21,
   "id": "ca7777d5-150e-48e7-bab3-3a1c867d7b57",
   "metadata": {},
   "outputs": [],
   "source": [
    "l=[34,45,45,45,45,67,34,56,78,\"sudh\",\"sudh\",\"sudh\",\"kumar\",45,4545454,545,4545,545,[3,45,6]]"
   ]
  },
  {
   "cell_type": "code",
   "execution_count": 23,
   "id": "2424bbf5-9cbc-44fb-84ec-ae8a9835c7b7",
   "metadata": {},
   "outputs": [
    {
     "ename": "TypeError",
     "evalue": "unhashable type: 'list'",
     "output_type": "error",
     "traceback": [
      "\u001b[0;31m---------------------------------------------------------------------------\u001b[0m",
      "\u001b[0;31mTypeError\u001b[0m                                 Traceback (most recent call last)",
      "Cell \u001b[0;32mIn[23], line 1\u001b[0m\n\u001b[0;32m----> 1\u001b[0m s\u001b[38;5;241m=\u001b[39m\u001b[38;5;28mset\u001b[39m(l)\n",
      "\u001b[0;31mTypeError\u001b[0m: unhashable type: 'list'"
     ]
    }
   ],
   "source": [
    "s=set(l)"
   ]
  },
  {
   "cell_type": "code",
   "execution_count": 25,
   "id": "9161eb54-30b2-46fa-8859-bda041ced6cb",
   "metadata": {},
   "outputs": [
    {
     "data": {
      "text/plain": [
       "{34, 45, 56, 67, 78, 'kumar', 'sudh'}"
      ]
     },
     "execution_count": 25,
     "metadata": {},
     "output_type": "execute_result"
    }
   ],
   "source": [
    "s"
   ]
  },
  {
   "cell_type": "code",
   "execution_count": 27,
   "id": "c15727be-521c-4d11-8534-eb0b9bf7884e",
   "metadata": {},
   "outputs": [
    {
     "data": {
      "text/plain": [
       "set()"
      ]
     },
     "execution_count": 27,
     "metadata": {},
     "output_type": "execute_result"
    }
   ],
   "source": [
    "s=set()\n",
    "s"
   ]
  },
  {
   "cell_type": "code",
   "execution_count": 29,
   "id": "ce018266-a9f5-4e4e-bb47-cf28926718c2",
   "metadata": {},
   "outputs": [],
   "source": [
    "s.add(45)"
   ]
  },
  {
   "cell_type": "code",
   "execution_count": 31,
   "id": "6fe74661-4fd0-4151-868c-d92f0c8656a0",
   "metadata": {},
   "outputs": [
    {
     "data": {
      "text/plain": [
       "{45}"
      ]
     },
     "execution_count": 31,
     "metadata": {},
     "output_type": "execute_result"
    }
   ],
   "source": [
    "s"
   ]
  },
  {
   "cell_type": "code",
   "execution_count": 33,
   "id": "2f29b140-81ba-4694-a5dd-70872319aec7",
   "metadata": {},
   "outputs": [],
   "source": [
    "s.add(\"sudh\")"
   ]
  },
  {
   "cell_type": "code",
   "execution_count": 35,
   "id": "e879c039-dd67-4ad1-b323-d59a2f1cb8d9",
   "metadata": {},
   "outputs": [
    {
     "data": {
      "text/plain": [
       "{45, 'sudh'}"
      ]
     },
     "execution_count": 35,
     "metadata": {},
     "output_type": "execute_result"
    }
   ],
   "source": [
    "s"
   ]
  },
  {
   "cell_type": "code",
   "execution_count": 37,
   "id": "cb6469e4-fc21-4a0f-b263-3a30127ddb83",
   "metadata": {},
   "outputs": [],
   "source": [
    "s.add(\"fsfsfs\")"
   ]
  },
  {
   "cell_type": "code",
   "execution_count": 39,
   "id": "2f2963c2-f51d-4442-911d-21b7325f9f7e",
   "metadata": {},
   "outputs": [
    {
     "data": {
      "text/plain": [
       "{45, 'fsfsfs', 'sudh'}"
      ]
     },
     "execution_count": 39,
     "metadata": {},
     "output_type": "execute_result"
    }
   ],
   "source": [
    "s"
   ]
  },
  {
   "cell_type": "code",
   "execution_count": 41,
   "id": "3987eef1-b15a-4c99-8584-52af541281b5",
   "metadata": {},
   "outputs": [],
   "source": [
    "s.add(45)"
   ]
  },
  {
   "cell_type": "code",
   "execution_count": 43,
   "id": "ddf3b1a8-4f32-4dd7-ae01-f1bfaf689de5",
   "metadata": {},
   "outputs": [
    {
     "data": {
      "text/plain": [
       "{45, 'fsfsfs', 'sudh'}"
      ]
     },
     "execution_count": 43,
     "metadata": {},
     "output_type": "execute_result"
    }
   ],
   "source": [
    "s"
   ]
  },
  {
   "cell_type": "code",
   "execution_count": 45,
   "id": "64330336-bd14-426e-8035-1fded450ef4d",
   "metadata": {},
   "outputs": [],
   "source": [
    "s.remove(45)"
   ]
  },
  {
   "cell_type": "code",
   "execution_count": 47,
   "id": "e9f6faa9-d22b-46a1-90bf-4c86d5010aab",
   "metadata": {},
   "outputs": [
    {
     "data": {
      "text/plain": [
       "{'fsfsfs', 'sudh'}"
      ]
     },
     "execution_count": 47,
     "metadata": {},
     "output_type": "execute_result"
    }
   ],
   "source": [
    "s"
   ]
  },
  {
   "cell_type": "code",
   "execution_count": 49,
   "id": "5e48acbc-1368-4f29-a132-82883460daf2",
   "metadata": {},
   "outputs": [
    {
     "data": {
      "text/plain": [
       "False"
      ]
     },
     "execution_count": 49,
     "metadata": {},
     "output_type": "execute_result"
    }
   ],
   "source": [
    "45 in s"
   ]
  },
  {
   "cell_type": "code",
   "execution_count": 55,
   "id": "7c64078a-0a74-475d-af3a-53441e229556",
   "metadata": {},
   "outputs": [],
   "source": [
    "s.clear()"
   ]
  },
  {
   "cell_type": "code",
   "execution_count": 57,
   "id": "bc28023d-2dce-4750-b78e-5572ecaf99fa",
   "metadata": {},
   "outputs": [
    {
     "data": {
      "text/plain": [
       "set()"
      ]
     },
     "execution_count": 57,
     "metadata": {},
     "output_type": "execute_result"
    }
   ],
   "source": [
    "s"
   ]
  },
  {
   "cell_type": "code",
   "execution_count": 59,
   "id": "a87968c7-ba9a-4eed-9483-7432ea89f771",
   "metadata": {},
   "outputs": [],
   "source": [
    "s.add(\"yfuyg\")\n"
   ]
  },
  {
   "cell_type": "code",
   "execution_count": 61,
   "id": "8b64105b-9d18-46c5-a333-c2fe98df4c69",
   "metadata": {},
   "outputs": [],
   "source": [
    "s.add(234)"
   ]
  },
  {
   "cell_type": "code",
   "execution_count": 63,
   "id": "a437ca00-0aeb-40f6-a7e5-fdadbfb4426e",
   "metadata": {},
   "outputs": [],
   "source": [
    "s.add(345)"
   ]
  },
  {
   "cell_type": "code",
   "execution_count": 65,
   "id": "717c0876-610c-49fd-9fb1-8e9c16be3c21",
   "metadata": {},
   "outputs": [],
   "source": [
    "s.add(\"wer\")"
   ]
  },
  {
   "cell_type": "code",
   "execution_count": 67,
   "id": "120e00d0-8752-481d-841d-b71f3c222fde",
   "metadata": {},
   "outputs": [
    {
     "data": {
      "text/plain": [
       "{234, 345, 'wer', 'yfuyg'}"
      ]
     },
     "execution_count": 67,
     "metadata": {},
     "output_type": "execute_result"
    }
   ],
   "source": [
    "s"
   ]
  },
  {
   "cell_type": "code",
   "execution_count": 73,
   "id": "70c3fcac-dfba-4cd4-b09a-ab336e258aa7",
   "metadata": {},
   "outputs": [],
   "source": [
    "s1=set(l)"
   ]
  },
  {
   "cell_type": "code",
   "execution_count": 75,
   "id": "62a82e64-eec7-462a-a27f-65e5d9001f40",
   "metadata": {},
   "outputs": [],
   "source": [
    "l=[345,343535,234354,234343,654,6]\n"
   ]
  },
  {
   "cell_type": "code",
   "execution_count": 77,
   "id": "4b65df0d-c824-467e-82ed-189bed9aeab7",
   "metadata": {},
   "outputs": [
    {
     "data": {
      "text/plain": [
       "{6, 345, 654, 234343, 234354, 343535}"
      ]
     },
     "execution_count": 77,
     "metadata": {},
     "output_type": "execute_result"
    }
   ],
   "source": [
    "s1"
   ]
  },
  {
   "cell_type": "code",
   "execution_count": 79,
   "id": "2cc04f87-6eaf-4fb5-bbb9-55f6c688bdf3",
   "metadata": {},
   "outputs": [
    {
     "ename": "TypeError",
     "evalue": "unsupported operand type(s) for +: 'set' and 'set'",
     "output_type": "error",
     "traceback": [
      "\u001b[0;31m---------------------------------------------------------------------------\u001b[0m",
      "\u001b[0;31mTypeError\u001b[0m                                 Traceback (most recent call last)",
      "Cell \u001b[0;32mIn[79], line 1\u001b[0m\n\u001b[0;32m----> 1\u001b[0m s\u001b[38;5;241m+\u001b[39ms1\n",
      "\u001b[0;31mTypeError\u001b[0m: unsupported operand type(s) for +: 'set' and 'set'"
     ]
    }
   ],
   "source": [
    "s+s1"
   ]
  },
  {
   "cell_type": "code",
   "execution_count": 81,
   "id": "9f785caf-455e-4efb-b8cd-d9f9714d0e2a",
   "metadata": {},
   "outputs": [
    {
     "ename": "TypeError",
     "evalue": "unsupported operand type(s) for *: 'set' and 'int'",
     "output_type": "error",
     "traceback": [
      "\u001b[0;31m---------------------------------------------------------------------------\u001b[0m",
      "\u001b[0;31mTypeError\u001b[0m                                 Traceback (most recent call last)",
      "Cell \u001b[0;32mIn[81], line 1\u001b[0m\n\u001b[0;32m----> 1\u001b[0m s\u001b[38;5;241m*\u001b[39m\u001b[38;5;241m4\u001b[39m\n",
      "\u001b[0;31mTypeError\u001b[0m: unsupported operand type(s) for *: 'set' and 'int'"
     ]
    }
   ],
   "source": [
    "s*4"
   ]
  },
  {
   "cell_type": "code",
   "execution_count": 84,
   "id": "f465c310-43e9-4860-a1ba-32effede563f",
   "metadata": {},
   "outputs": [
    {
     "data": {
      "text/plain": [
       "{234, 345, 'wer', 'yfuyg'}"
      ]
     },
     "execution_count": 84,
     "metadata": {},
     "output_type": "execute_result"
    }
   ],
   "source": [
    "s"
   ]
  },
  {
   "cell_type": "code",
   "execution_count": 90,
   "id": "2be40177-da01-4984-a39a-96ee1fcabed0",
   "metadata": {},
   "outputs": [],
   "source": [
    "l4=list(s)"
   ]
  },
  {
   "cell_type": "code",
   "execution_count": 92,
   "id": "75ab4363-3eb1-4c12-8f12-f450221f4972",
   "metadata": {},
   "outputs": [],
   "source": [
    "l4.append(345)"
   ]
  },
  {
   "cell_type": "code",
   "execution_count": 94,
   "id": "45260f49-7fff-4a75-bc9e-519879f9b692",
   "metadata": {},
   "outputs": [
    {
     "data": {
      "text/plain": [
       "[345, 234, 'yfuyg', 'wer', 345]"
      ]
     },
     "execution_count": 94,
     "metadata": {},
     "output_type": "execute_result"
    }
   ],
   "source": [
    "l4"
   ]
  },
  {
   "cell_type": "code",
   "execution_count": 97,
   "id": "115b3bbd-832f-45a8-9c4f-fbe18eccf7c3",
   "metadata": {},
   "outputs": [],
   "source": [
    "t4=tuple(s)"
   ]
  },
  {
   "cell_type": "code",
   "execution_count": 99,
   "id": "fb8694e3-66b5-4130-a234-7fbf061e4b57",
   "metadata": {},
   "outputs": [
    {
     "data": {
      "text/plain": [
       "(345, 234, 'yfuyg', 'wer')"
      ]
     },
     "execution_count": 99,
     "metadata": {},
     "output_type": "execute_result"
    }
   ],
   "source": [
    "t4"
   ]
  },
  {
   "cell_type": "code",
   "execution_count": 101,
   "id": "c3060705-a8e1-4110-b5b8-948b4eb51c49",
   "metadata": {},
   "outputs": [
    {
     "data": {
      "text/plain": [
       "{234, 345, 'wer', 'yfuyg'}"
      ]
     },
     "execution_count": 101,
     "metadata": {},
     "output_type": "execute_result"
    }
   ],
   "source": [
    "set(t4)"
   ]
  },
  {
   "cell_type": "code",
   "execution_count": 103,
   "id": "fc76d74f-1b3a-4331-8a03-bc33ca18f116",
   "metadata": {},
   "outputs": [],
   "source": [
    "x={}"
   ]
  },
  {
   "cell_type": "code",
   "execution_count": 105,
   "id": "566807e5-de0c-4927-9389-667dd7a11a32",
   "metadata": {},
   "outputs": [
    {
     "data": {
      "text/plain": [
       "dict"
      ]
     },
     "execution_count": 105,
     "metadata": {},
     "output_type": "execute_result"
    }
   ],
   "source": [
    "type(x)"
   ]
  },
  {
   "cell_type": "code",
   "execution_count": 107,
   "id": "6f8f5684-9515-4338-ade4-040586bba78e",
   "metadata": {},
   "outputs": [],
   "source": [
    "x1={34,56}"
   ]
  },
  {
   "cell_type": "code",
   "execution_count": 109,
   "id": "2b6c6f72-b178-4262-af4b-884a8712f389",
   "metadata": {},
   "outputs": [
    {
     "data": {
      "text/plain": [
       "set"
      ]
     },
     "execution_count": 109,
     "metadata": {},
     "output_type": "execute_result"
    }
   ],
   "source": [
    "type(x1)"
   ]
  },
  {
   "cell_type": "code",
   "execution_count": 113,
   "id": "c48e31e8-7bb9-42d5-8613-3c4fb995adc6",
   "metadata": {},
   "outputs": [],
   "source": [
    "x2= {\"name\":\"sudh\",\"age\":23}"
   ]
  },
  {
   "cell_type": "code",
   "execution_count": 115,
   "id": "54f40809-5f51-4f84-9e25-3f11d525e555",
   "metadata": {},
   "outputs": [
    {
     "data": {
      "text/plain": [
       "dict"
      ]
     },
     "execution_count": 115,
     "metadata": {},
     "output_type": "execute_result"
    }
   ],
   "source": [
    "type(x2)"
   ]
  },
  {
   "cell_type": "code",
   "execution_count": 117,
   "id": "0296fda8-60a6-4373-8ead-001bc5b03604",
   "metadata": {},
   "outputs": [],
   "source": [
    "x3={\"name\":\"sudh\",\"age\":3455,\"name\":\"ffuyutu\",True:\"dddtydt\",\"key\":False,6575:686}"
   ]
  },
  {
   "cell_type": "code",
   "execution_count": 121,
   "id": "417c9b49-a51d-4232-951d-8b090391fee9",
   "metadata": {},
   "outputs": [
    {
     "data": {
      "text/plain": [
       "{'name': 'ffuyutu', 'age': 3455, True: 'dddtydt', 'key': False, 6575: 686}"
      ]
     },
     "execution_count": 121,
     "metadata": {},
     "output_type": "execute_result"
    }
   ],
   "source": [
    "x3"
   ]
  },
  {
   "cell_type": "code",
   "execution_count": 123,
   "id": "6288f6e0-93b1-4390-8028-54ef358d0164",
   "metadata": {},
   "outputs": [
    {
     "data": {
      "text/plain": [
       "False"
      ]
     },
     "execution_count": 123,
     "metadata": {},
     "output_type": "execute_result"
    }
   ],
   "source": [
    "x3[\"key\"]"
   ]
  },
  {
   "cell_type": "code",
   "execution_count": 125,
   "id": "e492a554-ab5e-43cd-b314-58426947851d",
   "metadata": {},
   "outputs": [
    {
     "data": {
      "text/plain": [
       "686"
      ]
     },
     "execution_count": 125,
     "metadata": {},
     "output_type": "execute_result"
    }
   ],
   "source": [
    "x3[6575]"
   ]
  },
  {
   "cell_type": "code",
   "execution_count": 127,
   "id": "cfc18b4a-5001-41c1-881d-35bd56259551",
   "metadata": {},
   "outputs": [],
   "source": [
    "x4={5:\"wer\",\"k4\":[345,534535,534]}"
   ]
  },
  {
   "cell_type": "code",
   "execution_count": 129,
   "id": "580794cf-3e69-48d1-9a89-63bf3cbd67ee",
   "metadata": {},
   "outputs": [
    {
     "data": {
      "text/plain": [
       "{5: 'wer', 'k4': [345, 534535, 534]}"
      ]
     },
     "execution_count": 129,
     "metadata": {},
     "output_type": "execute_result"
    }
   ],
   "source": [
    "x4"
   ]
  },
  {
   "cell_type": "code",
   "execution_count": 131,
   "id": "9113d378-acec-4b06-adbf-6fb4dd1e1b79",
   "metadata": {},
   "outputs": [],
   "source": [
    "x4[\"k4\"]=\"sudh\""
   ]
  },
  {
   "cell_type": "code",
   "execution_count": 133,
   "id": "c0837894-0dba-4f28-a342-66d4be565596",
   "metadata": {},
   "outputs": [
    {
     "data": {
      "text/plain": [
       "{5: 'wer', 'k4': 'sudh'}"
      ]
     },
     "execution_count": 133,
     "metadata": {},
     "output_type": "execute_result"
    }
   ],
   "source": [
    "x4"
   ]
  },
  {
   "cell_type": "code",
   "execution_count": 135,
   "id": "a1418f32-7576-49fe-9aef-71edb70064fa",
   "metadata": {},
   "outputs": [],
   "source": [
    "x4[\"k4\"]=456"
   ]
  },
  {
   "cell_type": "code",
   "execution_count": 137,
   "id": "7f2dad31-4cb0-4a1d-8fc8-cdf8d9fe9bfd",
   "metadata": {},
   "outputs": [
    {
     "data": {
      "text/plain": [
       "{5: 'wer', 'k4': 456}"
      ]
     },
     "execution_count": 137,
     "metadata": {},
     "output_type": "execute_result"
    }
   ],
   "source": [
    "x4"
   ]
  },
  {
   "cell_type": "code",
   "execution_count": 139,
   "id": "7a47f5c0-80f2-4b85-adce-cb7e8d3388a0",
   "metadata": {},
   "outputs": [],
   "source": [
    "x4[\"k4\"]-=10"
   ]
  },
  {
   "cell_type": "code",
   "execution_count": 141,
   "id": "d9e67621-2d17-432f-b7fd-639c46a7f5bc",
   "metadata": {},
   "outputs": [
    {
     "data": {
      "text/plain": [
       "{5: 'wer', 'k4': 446}"
      ]
     },
     "execution_count": 141,
     "metadata": {},
     "output_type": "execute_result"
    }
   ],
   "source": [
    "x4"
   ]
  },
  {
   "cell_type": "code",
   "execution_count": 143,
   "id": "dfe46b1a-bd7e-4fe0-a197-d41ed90a1c3c",
   "metadata": {},
   "outputs": [
    {
     "data": {
      "text/plain": [
       "dict_keys([5, 'k4'])"
      ]
     },
     "execution_count": 143,
     "metadata": {},
     "output_type": "execute_result"
    }
   ],
   "source": [
    "x4.keys()"
   ]
  },
  {
   "cell_type": "code",
   "execution_count": 145,
   "id": "5a06f981-4a3d-4047-8d30-88a2a0c1f82e",
   "metadata": {},
   "outputs": [
    {
     "data": {
      "text/plain": [
       "True"
      ]
     },
     "execution_count": 145,
     "metadata": {},
     "output_type": "execute_result"
    }
   ],
   "source": [
    "\"k4\" in x4.keys()"
   ]
  },
  {
   "cell_type": "code",
   "execution_count": 147,
   "id": "0b868d6c-f42e-4bde-8435-84a8a5e586aa",
   "metadata": {},
   "outputs": [
    {
     "name": "stdout",
     "output_type": "stream",
     "text": [
      "5\n",
      "k4\n"
     ]
    }
   ],
   "source": [
    "for i in x4:\n",
    "    print(i)"
   ]
  },
  {
   "cell_type": "code",
   "execution_count": 149,
   "id": "96b32aea-f4e2-42bd-8d5f-44e8b3fc1966",
   "metadata": {},
   "outputs": [
    {
     "name": "stdout",
     "output_type": "stream",
     "text": [
      "wer\n",
      "446\n"
     ]
    }
   ],
   "source": [
    "for i in x4.keys():\n",
    "    print(x4[i])"
   ]
  },
  {
   "cell_type": "code",
   "execution_count": 151,
   "id": "ac24416f-48df-4e64-a42e-7f0afa65e1c0",
   "metadata": {},
   "outputs": [
    {
     "data": {
      "text/plain": [
       "{5: 'wer', 'k4': 446}"
      ]
     },
     "execution_count": 151,
     "metadata": {},
     "output_type": "execute_result"
    }
   ],
   "source": [
    "x4"
   ]
  },
  {
   "cell_type": "code",
   "execution_count": 153,
   "id": "ce6be947-df2c-44d7-9cbd-90b37b9afdd7",
   "metadata": {},
   "outputs": [
    {
     "data": {
      "text/plain": [
       "{'name': 'sudh', 'age': 23}"
      ]
     },
     "execution_count": 153,
     "metadata": {},
     "output_type": "execute_result"
    }
   ],
   "source": [
    "x2"
   ]
  },
  {
   "cell_type": "code",
   "execution_count": 155,
   "id": "f54c8ba6-7371-417c-86fb-b8f4603a7612",
   "metadata": {},
   "outputs": [
    {
     "data": {
      "text/plain": [
       "dict_keys(['name', 'age'])"
      ]
     },
     "execution_count": 155,
     "metadata": {},
     "output_type": "execute_result"
    }
   ],
   "source": [
    "x2.keys()"
   ]
  },
  {
   "cell_type": "code",
   "execution_count": 159,
   "id": "18686a04-0057-45e0-91b2-40df8677e724",
   "metadata": {},
   "outputs": [
    {
     "name": "stdout",
     "output_type": "stream",
     "text": [
      "<class 'str'>\n",
      "<class 'int'>\n"
     ]
    }
   ],
   "source": [
    "for i in x2.keys():\n",
    "    print(type(x2[i]))"
   ]
  },
  {
   "cell_type": "code",
   "execution_count": 161,
   "id": "20d3b05b-5e24-4a25-ba0d-0f075499c6ec",
   "metadata": {},
   "outputs": [
    {
     "data": {
      "text/plain": [
       "dict_items([('name', 'sudh'), ('age', 23)])"
      ]
     },
     "execution_count": 161,
     "metadata": {},
     "output_type": "execute_result"
    }
   ],
   "source": [
    "x2.items()"
   ]
  },
  {
   "cell_type": "code",
   "execution_count": 163,
   "id": "ac3206cc-fec5-428b-8af3-f48fb35f309f",
   "metadata": {},
   "outputs": [
    {
     "name": "stdout",
     "output_type": "stream",
     "text": [
      "sudh\n",
      "23\n"
     ]
    }
   ],
   "source": [
    "for i in x2.items():\n",
    "    print(i[1])"
   ]
  },
  {
   "cell_type": "code",
   "execution_count": 165,
   "id": "455a70a9-94e7-4312-a49e-523f0d0be2a7",
   "metadata": {},
   "outputs": [],
   "source": [
    "x5={(34,56,56):\"yfuyuy\"}"
   ]
  },
  {
   "cell_type": "code",
   "execution_count": 167,
   "id": "942725de-0981-4d7c-9deb-d6acc993c29f",
   "metadata": {},
   "outputs": [
    {
     "data": {
      "text/plain": [
       "'yfuyuy'"
      ]
     },
     "execution_count": 167,
     "metadata": {},
     "output_type": "execute_result"
    }
   ],
   "source": [
    "x5[(34,56,56)]"
   ]
  },
  {
   "cell_type": "code",
   "execution_count": 169,
   "id": "42d5fbd9-1c8a-4882-9b22-579860a3a53b",
   "metadata": {},
   "outputs": [
    {
     "data": {
      "text/plain": [
       "{'name': 'sudh', 'age': 23}"
      ]
     },
     "execution_count": 169,
     "metadata": {},
     "output_type": "execute_result"
    }
   ],
   "source": [
    "x2"
   ]
  },
  {
   "cell_type": "code",
   "execution_count": 171,
   "id": "755272ec-a432-4acf-ad2c-3db95ff9c70d",
   "metadata": {},
   "outputs": [
    {
     "data": {
      "text/plain": [
       "2"
      ]
     },
     "execution_count": 171,
     "metadata": {},
     "output_type": "execute_result"
    }
   ],
   "source": [
    "len(x2)"
   ]
  },
  {
   "cell_type": "code",
   "execution_count": 184,
   "id": "fbc13bed-ff73-4bcb-b7fb-9b6e80daf4a1",
   "metadata": {},
   "outputs": [
    {
     "data": {
      "text/plain": [
       "{45, 78, 89}"
      ]
     },
     "execution_count": 184,
     "metadata": {},
     "output_type": "execute_result"
    }
   ],
   "source": [
    "e={56:{45,78,89}}\n",
    "e[56]"
   ]
  },
  {
   "cell_type": "code",
   "execution_count": 195,
   "id": "a7947cf3-6937-468e-825e-037db2baac16",
   "metadata": {},
   "outputs": [
    {
     "data": {
      "text/plain": [
       "89"
      ]
     },
     "execution_count": 195,
     "metadata": {},
     "output_type": "execute_result"
    }
   ],
   "source": [
    "list(e[56])[0]"
   ]
  },
  {
   "cell_type": "code",
   "execution_count": 202,
   "id": "15ef47f9-3271-42a3-a192-432e79a1080b",
   "metadata": {},
   "outputs": [
    {
     "name": "stdin",
     "output_type": "stream",
     "text": [
      "enter a paragraph Wikipedia's purpose is to benefit readers by presenting information on all branches of knowledge. Hosted by the Wikimedia Foundation, Wikipedia consists of freely editable content, with articles that usually contain numerous links guiding readers to more information.  Written collaboratively by volunteers known as Wikipedians, Wikipedia articles can be edited by anyone with Internet access, except in limited cases in which editing is restricted to prevent disruption or vandalism. Since its creation on January 15, 2001, it has grown into the world's largest reference website, attracting over a billion visitors each month\n"
     ]
    }
   ],
   "source": [
    "x=input(\"enter a paragraph\")"
   ]
  },
  {
   "cell_type": "code",
   "execution_count": 214,
   "id": "aafe987b-1607-491a-890a-88e2e21a0ad6",
   "metadata": {},
   "outputs": [],
   "source": [
    "s=x.split()"
   ]
  },
  {
   "cell_type": "code",
   "execution_count": 216,
   "id": "a44cf1a9-f72e-4e25-a15f-f71b050fec33",
   "metadata": {},
   "outputs": [
    {
     "data": {
      "text/plain": [
       "[\"Wikipedia's\",\n",
       " 'purpose',\n",
       " 'is',\n",
       " 'to',\n",
       " 'benefit',\n",
       " 'readers',\n",
       " 'by',\n",
       " 'presenting',\n",
       " 'information',\n",
       " 'on',\n",
       " 'all',\n",
       " 'branches',\n",
       " 'of',\n",
       " 'knowledge.',\n",
       " 'Hosted',\n",
       " 'by',\n",
       " 'the',\n",
       " 'Wikimedia',\n",
       " 'Foundation,',\n",
       " 'Wikipedia',\n",
       " 'consists',\n",
       " 'of',\n",
       " 'freely',\n",
       " 'editable',\n",
       " 'content,',\n",
       " 'with',\n",
       " 'articles',\n",
       " 'that',\n",
       " 'usually',\n",
       " 'contain',\n",
       " 'numerous',\n",
       " 'links',\n",
       " 'guiding',\n",
       " 'readers',\n",
       " 'to',\n",
       " 'more',\n",
       " 'information.',\n",
       " 'Written',\n",
       " 'collaboratively',\n",
       " 'by',\n",
       " 'volunteers',\n",
       " 'known',\n",
       " 'as',\n",
       " 'Wikipedians,',\n",
       " 'Wikipedia',\n",
       " 'articles',\n",
       " 'can',\n",
       " 'be',\n",
       " 'edited',\n",
       " 'by',\n",
       " 'anyone',\n",
       " 'with',\n",
       " 'Internet',\n",
       " 'access,',\n",
       " 'except',\n",
       " 'in',\n",
       " 'limited',\n",
       " 'cases',\n",
       " 'in',\n",
       " 'which',\n",
       " 'editing',\n",
       " 'is',\n",
       " 'restricted',\n",
       " 'to',\n",
       " 'prevent',\n",
       " 'disruption',\n",
       " 'or',\n",
       " 'vandalism.',\n",
       " 'Since',\n",
       " 'its',\n",
       " 'creation',\n",
       " 'on',\n",
       " 'January',\n",
       " '15,',\n",
       " '2001,',\n",
       " 'it',\n",
       " 'has',\n",
       " 'grown',\n",
       " 'into',\n",
       " 'the',\n",
       " \"world's\",\n",
       " 'largest',\n",
       " 'reference',\n",
       " 'website,',\n",
       " 'attracting',\n",
       " 'over',\n",
       " 'a',\n",
       " 'billion',\n",
       " 'visitors',\n",
       " 'each',\n",
       " 'month']"
      ]
     },
     "execution_count": 216,
     "metadata": {},
     "output_type": "execute_result"
    }
   ],
   "source": [
    "s"
   ]
  },
  {
   "cell_type": "code",
   "execution_count": 208,
   "id": "fe39b075-896d-43af-a20f-e9324424efc0",
   "metadata": {},
   "outputs": [],
   "source": [
    "d=set(s)"
   ]
  },
  {
   "cell_type": "code",
   "execution_count": 210,
   "id": "16fc82c0-1e93-4da4-affb-73e19b88cf57",
   "metadata": {},
   "outputs": [
    {
     "data": {
      "text/plain": [
       "{' ',\n",
       " \"'\",\n",
       " ',',\n",
       " '.',\n",
       " '0',\n",
       " '1',\n",
       " '2',\n",
       " '5',\n",
       " 'F',\n",
       " 'H',\n",
       " 'I',\n",
       " 'J',\n",
       " 'S',\n",
       " 'W',\n",
       " 'a',\n",
       " 'b',\n",
       " 'c',\n",
       " 'd',\n",
       " 'e',\n",
       " 'f',\n",
       " 'g',\n",
       " 'h',\n",
       " 'i',\n",
       " 'k',\n",
       " 'l',\n",
       " 'm',\n",
       " 'n',\n",
       " 'o',\n",
       " 'p',\n",
       " 'r',\n",
       " 's',\n",
       " 't',\n",
       " 'u',\n",
       " 'v',\n",
       " 'w',\n",
       " 'x',\n",
       " 'y'}"
      ]
     },
     "execution_count": 210,
     "metadata": {},
     "output_type": "execute_result"
    }
   ],
   "source": [
    "d"
   ]
  },
  {
   "cell_type": "code",
   "execution_count": 220,
   "id": "f9c3cf03-d89b-477f-90e2-a688936f0668",
   "metadata": {},
   "outputs": [],
   "source": [
    "my_dict={}\n",
    "for i in d :\n",
    "    my_dict[i]=\"akshat\""
   ]
  },
  {
   "cell_type": "code",
   "execution_count": 222,
   "id": "4fc81e93-b473-484d-bf24-93e20f8ac85f",
   "metadata": {},
   "outputs": [
    {
     "data": {
      "text/plain": [
       "{'h': 'akshat',\n",
       " 'W': 'akshat',\n",
       " 'H': 'akshat',\n",
       " 'f': 'akshat',\n",
       " '1': 'akshat',\n",
       " 'm': 'akshat',\n",
       " ' ': 'akshat',\n",
       " 'J': 'akshat',\n",
       " 'e': 'akshat',\n",
       " 'n': 'akshat',\n",
       " 'g': 'akshat',\n",
       " 'w': 'akshat',\n",
       " 'S': 'akshat',\n",
       " 'd': 'akshat',\n",
       " 'F': 'akshat',\n",
       " ',': 'akshat',\n",
       " 'i': 'akshat',\n",
       " 's': 'akshat',\n",
       " 'I': 'akshat',\n",
       " 't': 'akshat',\n",
       " 'l': 'akshat',\n",
       " '0': 'akshat',\n",
       " 'x': 'akshat',\n",
       " 'c': 'akshat',\n",
       " '5': 'akshat',\n",
       " '2': 'akshat',\n",
       " 'v': 'akshat',\n",
       " 'u': 'akshat',\n",
       " 'p': 'akshat',\n",
       " 'o': 'akshat',\n",
       " 'r': 'akshat',\n",
       " 'y': 'akshat',\n",
       " 'k': 'akshat',\n",
       " 'a': 'akshat',\n",
       " \"'\": 'akshat',\n",
       " '.': 'akshat',\n",
       " 'b': 'akshat'}"
      ]
     },
     "execution_count": 222,
     "metadata": {},
     "output_type": "execute_result"
    }
   ],
   "source": [
    "my_dict"
   ]
  },
  {
   "cell_type": "code",
   "execution_count": 228,
   "id": "d2f4cc2c-56d0-4de2-8f6b-07f15be921f5",
   "metadata": {},
   "outputs": [
    {
     "name": "stdout",
     "output_type": "stream",
     "text": [
      "tuple_list--> ('akshat', 'akshat', 'akshat', 'akshat', 'akshat', 'akshat', 'akshat', 'akshat', 'akshat', 'akshat', 'akshat', 'akshat', 'akshat', 'akshat', 'akshat', 'akshat', 'akshat', 'akshat', 'akshat', 'akshat', 'akshat', 'akshat', 'akshat', 'akshat', 'akshat', 'akshat', 'akshat', 'akshat', 'akshat', 'akshat', 'akshat', 'akshat', 'akshat', 'akshat', 'akshat', 'akshat', 'akshat')\n"
     ]
    }
   ],
   "source": [
    "tup_list=[]\n",
    "for i in my_dict.keys():\n",
    "    tup_list.append(my_dict[i])\n",
    "print(\"tuple_list-->\",tuple(tup_list))"
   ]
  },
  {
   "cell_type": "code",
   "execution_count": 230,
   "id": "88e1c8fa-0365-4a8d-8990-9fbb2b8b35a7",
   "metadata": {},
   "outputs": [
    {
     "name": "stdout",
     "output_type": "stream",
     "text": [
      "list keys-->> ['h', 'W', 'H', 'f', '1', 'm', ' ', 'J', 'e', 'n', 'g', 'w', 'S', 'd', 'F', ',', 'i', 's', 'I', 't', 'l', '0', 'x', 'c', '5', '2', 'v', 'u', 'p', 'o', 'r', 'y', 'k', 'a', \"'\", '.', 'b']\n"
     ]
    }
   ],
   "source": [
    "list_keys=[]\n",
    "for i in my_dict.keys():\n",
    "    list_keys.append(i)\n",
    "print(\"list keys-->>\",list_keys)"
   ]
  },
  {
   "cell_type": "code",
   "execution_count": 235,
   "id": "c9ad66f0-d6c1-4df6-962b-eb09023a658b",
   "metadata": {},
   "outputs": [
    {
     "name": "stdin",
     "output_type": "stream",
     "text": [
      "enter the para: Wikipedia's purpose is to benefit readers by presenting information on all branches of knowledge. Hosted by the Wikimedia Foundation, Wikipedia consists of freely editable content, with articles that usually contain numerous links guiding readers to more information.  Written collaboratively by volunteers known as Wikipedians, Wikipedia articles can be edited by anyone with Internet access, except in limited cases in which editing is restricted to prevent disruption or vandalism. Since its creation on January 15, 2001, it has grown into the world's largest reference website, attracting over a billion visitors each month\n"
     ]
    }
   ],
   "source": [
    "paragph=input(\"enter the para:\")\n",
    "lst1=paragph.split(\" \")\n",
    "s1=set(lst1)\n",
    "dic1=dict.fromkeys(s1,'db')\n",
    "t1=tuple(dic1.keys())\n",
    "l2=list(dic1.values())"
   ]
  },
  {
   "cell_type": "code",
   "execution_count": 239,
   "id": "8e5c8c06-ef90-4a6a-bdd9-c0fc4cfca044",
   "metadata": {},
   "outputs": [],
   "source": [
    "lst1=paragph.split(\" \")"
   ]
  },
  {
   "cell_type": "code",
   "execution_count": 241,
   "id": "571f52df-096a-4c30-bb7a-f80d442b3aa2",
   "metadata": {},
   "outputs": [
    {
     "data": {
      "text/plain": [
       "[\"Wikipedia's\",\n",
       " 'purpose',\n",
       " 'is',\n",
       " 'to',\n",
       " 'benefit',\n",
       " 'readers',\n",
       " 'by',\n",
       " 'presenting',\n",
       " 'information',\n",
       " 'on',\n",
       " 'all',\n",
       " 'branches',\n",
       " 'of',\n",
       " 'knowledge.',\n",
       " 'Hosted',\n",
       " 'by',\n",
       " 'the',\n",
       " 'Wikimedia',\n",
       " 'Foundation,',\n",
       " 'Wikipedia',\n",
       " 'consists',\n",
       " 'of',\n",
       " 'freely',\n",
       " 'editable',\n",
       " 'content,',\n",
       " 'with',\n",
       " 'articles',\n",
       " 'that',\n",
       " 'usually',\n",
       " 'contain',\n",
       " 'numerous',\n",
       " 'links',\n",
       " 'guiding',\n",
       " 'readers',\n",
       " 'to',\n",
       " 'more',\n",
       " 'information.',\n",
       " '',\n",
       " 'Written',\n",
       " 'collaboratively',\n",
       " 'by',\n",
       " 'volunteers',\n",
       " 'known',\n",
       " 'as',\n",
       " 'Wikipedians,',\n",
       " 'Wikipedia',\n",
       " 'articles',\n",
       " 'can',\n",
       " 'be',\n",
       " 'edited',\n",
       " 'by',\n",
       " 'anyone',\n",
       " 'with',\n",
       " 'Internet',\n",
       " 'access,',\n",
       " 'except',\n",
       " 'in',\n",
       " 'limited',\n",
       " 'cases',\n",
       " 'in',\n",
       " 'which',\n",
       " 'editing',\n",
       " 'is',\n",
       " 'restricted',\n",
       " 'to',\n",
       " 'prevent',\n",
       " 'disruption',\n",
       " 'or',\n",
       " 'vandalism.',\n",
       " 'Since',\n",
       " 'its',\n",
       " 'creation',\n",
       " 'on',\n",
       " 'January',\n",
       " '15,',\n",
       " '2001,',\n",
       " 'it',\n",
       " 'has',\n",
       " 'grown',\n",
       " 'into',\n",
       " 'the',\n",
       " \"world's\",\n",
       " 'largest',\n",
       " 'reference',\n",
       " 'website,',\n",
       " 'attracting',\n",
       " 'over',\n",
       " 'a',\n",
       " 'billion',\n",
       " 'visitors',\n",
       " 'each',\n",
       " 'month']"
      ]
     },
     "execution_count": 241,
     "metadata": {},
     "output_type": "execute_result"
    }
   ],
   "source": [
    "lst1"
   ]
  },
  {
   "cell_type": "code",
   "execution_count": 243,
   "id": "93f6fef0-8524-437f-adfa-c18990bb1030",
   "metadata": {},
   "outputs": [],
   "source": [
    "s1=set(lst1)"
   ]
  },
  {
   "cell_type": "code",
   "execution_count": 245,
   "id": "aab69244-c683-48a7-8f9b-e8c766839178",
   "metadata": {},
   "outputs": [
    {
     "data": {
      "text/plain": [
       "{'',\n",
       " '15,',\n",
       " '2001,',\n",
       " 'Foundation,',\n",
       " 'Hosted',\n",
       " 'Internet',\n",
       " 'January',\n",
       " 'Since',\n",
       " 'Wikimedia',\n",
       " 'Wikipedia',\n",
       " \"Wikipedia's\",\n",
       " 'Wikipedians,',\n",
       " 'Written',\n",
       " 'a',\n",
       " 'access,',\n",
       " 'all',\n",
       " 'anyone',\n",
       " 'articles',\n",
       " 'as',\n",
       " 'attracting',\n",
       " 'be',\n",
       " 'benefit',\n",
       " 'billion',\n",
       " 'branches',\n",
       " 'by',\n",
       " 'can',\n",
       " 'cases',\n",
       " 'collaboratively',\n",
       " 'consists',\n",
       " 'contain',\n",
       " 'content,',\n",
       " 'creation',\n",
       " 'disruption',\n",
       " 'each',\n",
       " 'editable',\n",
       " 'edited',\n",
       " 'editing',\n",
       " 'except',\n",
       " 'freely',\n",
       " 'grown',\n",
       " 'guiding',\n",
       " 'has',\n",
       " 'in',\n",
       " 'information',\n",
       " 'information.',\n",
       " 'into',\n",
       " 'is',\n",
       " 'it',\n",
       " 'its',\n",
       " 'knowledge.',\n",
       " 'known',\n",
       " 'largest',\n",
       " 'limited',\n",
       " 'links',\n",
       " 'month',\n",
       " 'more',\n",
       " 'numerous',\n",
       " 'of',\n",
       " 'on',\n",
       " 'or',\n",
       " 'over',\n",
       " 'presenting',\n",
       " 'prevent',\n",
       " 'purpose',\n",
       " 'readers',\n",
       " 'reference',\n",
       " 'restricted',\n",
       " 'that',\n",
       " 'the',\n",
       " 'to',\n",
       " 'usually',\n",
       " 'vandalism.',\n",
       " 'visitors',\n",
       " 'volunteers',\n",
       " 'website,',\n",
       " 'which',\n",
       " 'with',\n",
       " \"world's\"}"
      ]
     },
     "execution_count": 245,
     "metadata": {},
     "output_type": "execute_result"
    }
   ],
   "source": [
    "s1"
   ]
  },
  {
   "cell_type": "code",
   "execution_count": 247,
   "id": "ed28f623-20b4-48db-bf95-faf560988afa",
   "metadata": {},
   "outputs": [],
   "source": [
    "dic1=dict.fromkeys(s1,'db')"
   ]
  },
  {
   "cell_type": "code",
   "execution_count": 249,
   "id": "99793b7f-c5de-4b0b-99c7-290197c53067",
   "metadata": {},
   "outputs": [
    {
     "data": {
      "text/plain": [
       "{'': 'db',\n",
       " 'known': 'db',\n",
       " 'largest': 'db',\n",
       " 'contain': 'db',\n",
       " 'the': 'db',\n",
       " 'Hosted': 'db',\n",
       " 'can': 'db',\n",
       " 'to': 'db',\n",
       " 'consists': 'db',\n",
       " 'editable': 'db',\n",
       " 'knowledge.': 'db',\n",
       " 'by': 'db',\n",
       " 'editing': 'db',\n",
       " 'collaboratively': 'db',\n",
       " 'presenting': 'db',\n",
       " 'creation': 'db',\n",
       " 'on': 'db',\n",
       " 'edited': 'db',\n",
       " \"world's\": 'db',\n",
       " 'volunteers': 'db',\n",
       " 'January': 'db',\n",
       " 'vandalism.': 'db',\n",
       " 'Internet': 'db',\n",
       " 'month': 'db',\n",
       " 'purpose': 'db',\n",
       " 'numerous': 'db',\n",
       " 'cases': 'db',\n",
       " 'Written': 'db',\n",
       " 'be': 'db',\n",
       " 'branches': 'db',\n",
       " 'information.': 'db',\n",
       " 'usually': 'db',\n",
       " 'content,': 'db',\n",
       " '15,': 'db',\n",
       " 'website,': 'db',\n",
       " 'articles': 'db',\n",
       " 'that': 'db',\n",
       " 'anyone': 'db',\n",
       " 'prevent': 'db',\n",
       " 'which': 'db',\n",
       " 'Wikipedians,': 'db',\n",
       " 'a': 'db',\n",
       " 'into': 'db',\n",
       " 'visitors': 'db',\n",
       " \"Wikipedia's\": 'db',\n",
       " 'Since': 'db',\n",
       " 'Foundation,': 'db',\n",
       " '2001,': 'db',\n",
       " 'reference': 'db',\n",
       " 'information': 'db',\n",
       " 'attracting': 'db',\n",
       " 'readers': 'db',\n",
       " 'each': 'db',\n",
       " 'has': 'db',\n",
       " 'guiding': 'db',\n",
       " 'Wikipedia': 'db',\n",
       " 'grown': 'db',\n",
       " 'more': 'db',\n",
       " 'disruption': 'db',\n",
       " 'or': 'db',\n",
       " 'is': 'db',\n",
       " 'in': 'db',\n",
       " 'as': 'db',\n",
       " 'with': 'db',\n",
       " 'restricted': 'db',\n",
       " 'its': 'db',\n",
       " 'billion': 'db',\n",
       " 'except': 'db',\n",
       " 'freely': 'db',\n",
       " 'benefit': 'db',\n",
       " 'over': 'db',\n",
       " 'links': 'db',\n",
       " 'of': 'db',\n",
       " 'all': 'db',\n",
       " 'it': 'db',\n",
       " 'access,': 'db',\n",
       " 'limited': 'db',\n",
       " 'Wikimedia': 'db'}"
      ]
     },
     "execution_count": 249,
     "metadata": {},
     "output_type": "execute_result"
    }
   ],
   "source": [
    "dic1"
   ]
  },
  {
   "cell_type": "code",
   "execution_count": 251,
   "id": "257593c3-59a5-415b-9fb5-106eba25a541",
   "metadata": {},
   "outputs": [],
   "source": [
    "t1=tuple(dic1.keys())"
   ]
  },
  {
   "cell_type": "code",
   "execution_count": 255,
   "id": "899740e8-f15c-4289-a433-50d27160bd12",
   "metadata": {},
   "outputs": [
    {
     "data": {
      "text/plain": [
       "('',\n",
       " 'known',\n",
       " 'largest',\n",
       " 'contain',\n",
       " 'the',\n",
       " 'Hosted',\n",
       " 'can',\n",
       " 'to',\n",
       " 'consists',\n",
       " 'editable',\n",
       " 'knowledge.',\n",
       " 'by',\n",
       " 'editing',\n",
       " 'collaboratively',\n",
       " 'presenting',\n",
       " 'creation',\n",
       " 'on',\n",
       " 'edited',\n",
       " \"world's\",\n",
       " 'volunteers',\n",
       " 'January',\n",
       " 'vandalism.',\n",
       " 'Internet',\n",
       " 'month',\n",
       " 'purpose',\n",
       " 'numerous',\n",
       " 'cases',\n",
       " 'Written',\n",
       " 'be',\n",
       " 'branches',\n",
       " 'information.',\n",
       " 'usually',\n",
       " 'content,',\n",
       " '15,',\n",
       " 'website,',\n",
       " 'articles',\n",
       " 'that',\n",
       " 'anyone',\n",
       " 'prevent',\n",
       " 'which',\n",
       " 'Wikipedians,',\n",
       " 'a',\n",
       " 'into',\n",
       " 'visitors',\n",
       " \"Wikipedia's\",\n",
       " 'Since',\n",
       " 'Foundation,',\n",
       " '2001,',\n",
       " 'reference',\n",
       " 'information',\n",
       " 'attracting',\n",
       " 'readers',\n",
       " 'each',\n",
       " 'has',\n",
       " 'guiding',\n",
       " 'Wikipedia',\n",
       " 'grown',\n",
       " 'more',\n",
       " 'disruption',\n",
       " 'or',\n",
       " 'is',\n",
       " 'in',\n",
       " 'as',\n",
       " 'with',\n",
       " 'restricted',\n",
       " 'its',\n",
       " 'billion',\n",
       " 'except',\n",
       " 'freely',\n",
       " 'benefit',\n",
       " 'over',\n",
       " 'links',\n",
       " 'of',\n",
       " 'all',\n",
       " 'it',\n",
       " 'access,',\n",
       " 'limited',\n",
       " 'Wikimedia')"
      ]
     },
     "execution_count": 255,
     "metadata": {},
     "output_type": "execute_result"
    }
   ],
   "source": [
    "t1"
   ]
  },
  {
   "cell_type": "code",
   "execution_count": 257,
   "id": "6e6e9573-b2a1-46ba-87cf-fb24dc150e2b",
   "metadata": {},
   "outputs": [],
   "source": [
    "l2=list(dic1.values())"
   ]
  },
  {
   "cell_type": "code",
   "execution_count": 259,
   "id": "8724d148-bbcd-40cc-8e20-57e430a85069",
   "metadata": {},
   "outputs": [
    {
     "data": {
      "text/plain": [
       "['db',\n",
       " 'db',\n",
       " 'db',\n",
       " 'db',\n",
       " 'db',\n",
       " 'db',\n",
       " 'db',\n",
       " 'db',\n",
       " 'db',\n",
       " 'db',\n",
       " 'db',\n",
       " 'db',\n",
       " 'db',\n",
       " 'db',\n",
       " 'db',\n",
       " 'db',\n",
       " 'db',\n",
       " 'db',\n",
       " 'db',\n",
       " 'db',\n",
       " 'db',\n",
       " 'db',\n",
       " 'db',\n",
       " 'db',\n",
       " 'db',\n",
       " 'db',\n",
       " 'db',\n",
       " 'db',\n",
       " 'db',\n",
       " 'db',\n",
       " 'db',\n",
       " 'db',\n",
       " 'db',\n",
       " 'db',\n",
       " 'db',\n",
       " 'db',\n",
       " 'db',\n",
       " 'db',\n",
       " 'db',\n",
       " 'db',\n",
       " 'db',\n",
       " 'db',\n",
       " 'db',\n",
       " 'db',\n",
       " 'db',\n",
       " 'db',\n",
       " 'db',\n",
       " 'db',\n",
       " 'db',\n",
       " 'db',\n",
       " 'db',\n",
       " 'db',\n",
       " 'db',\n",
       " 'db',\n",
       " 'db',\n",
       " 'db',\n",
       " 'db',\n",
       " 'db',\n",
       " 'db',\n",
       " 'db',\n",
       " 'db',\n",
       " 'db',\n",
       " 'db',\n",
       " 'db',\n",
       " 'db',\n",
       " 'db',\n",
       " 'db',\n",
       " 'db',\n",
       " 'db',\n",
       " 'db',\n",
       " 'db',\n",
       " 'db',\n",
       " 'db',\n",
       " 'db',\n",
       " 'db',\n",
       " 'db',\n",
       " 'db',\n",
       " 'db']"
      ]
     },
     "execution_count": 259,
     "metadata": {},
     "output_type": "execute_result"
    }
   ],
   "source": [
    "l2"
   ]
  },
  {
   "cell_type": "code",
   "execution_count": 261,
   "id": "14cd030d-bab5-4ed3-9aec-b1325da6e0ed",
   "metadata": {},
   "outputs": [],
   "source": [
    "d={\"company\":\"ineuron\" ,\"course\": \"full stack data science\" , \"year\" : 2021}"
   ]
  },
  {
   "cell_type": "code",
   "execution_count": 263,
   "id": "8312fafb-7a11-410f-be15-3ebaaa82eb1a",
   "metadata": {},
   "outputs": [
    {
     "name": "stdout",
     "output_type": "stream",
     "text": [
      " print a key :  company  ;  value wise :  ineuron\n",
      " print a key :  course  ;  value wise :  full stack data science\n",
      " print a key :  year  ;  value wise :  2021\n"
     ]
    }
   ],
   "source": [
    "for i in d:\n",
    "    print(\" print a key : \" ,i , \" ; \", \"value wise : \" , d[i])"
   ]
  },
  {
   "cell_type": "code",
   "execution_count": 265,
   "id": "50122f25-a7d8-4b02-bc9f-bf2ec0efbea9",
   "metadata": {},
   "outputs": [
    {
     "data": {
      "text/plain": [
       "True"
      ]
     },
     "execution_count": 265,
     "metadata": {},
     "output_type": "execute_result"
    }
   ],
   "source": [
    "\"course\" in d"
   ]
  },
  {
   "cell_type": "code",
   "execution_count": 275,
   "id": "7592d7b6-7aab-45c6-8bd0-eaf8f6913cdc",
   "metadata": {},
   "outputs": [
    {
     "name": "stdout",
     "output_type": "stream",
     "text": [
      "year is fine\n"
     ]
    }
   ],
   "source": [
    "for i in d:\n",
    "    if i=='year':\n",
    "        if d[i]>2021:\n",
    "            print(\"year is fine\")\n",
    "        else:\n",
    "            d[i]=2022"
   ]
  },
  {
   "cell_type": "code",
   "execution_count": 277,
   "id": "62b342e1-a13c-40e3-8c25-fc50e85e7c96",
   "metadata": {},
   "outputs": [
    {
     "data": {
      "text/plain": [
       "{'company': 'ineuron', 'course': 'full stack data science', 'year': 2022}"
      ]
     },
     "execution_count": 277,
     "metadata": {},
     "output_type": "execute_result"
    }
   ],
   "source": [
    "d"
   ]
  },
  {
   "cell_type": "code",
   "execution_count": 279,
   "id": "cabe4649-27b1-40b1-ac6f-f5f41fdb52e4",
   "metadata": {},
   "outputs": [],
   "source": [
    "my_dict={}\n",
    "for i in range(10):\n",
    "    my_dict[i] = i*i"
   ]
  },
  {
   "cell_type": "code",
   "execution_count": 281,
   "id": "ee542765-14b5-43a3-96a6-b4c0a040dccb",
   "metadata": {},
   "outputs": [
    {
     "data": {
      "text/plain": [
       "{0: 0, 1: 1, 2: 4, 3: 9, 4: 16, 5: 25, 6: 36, 7: 49, 8: 64, 9: 81}"
      ]
     },
     "execution_count": 281,
     "metadata": {},
     "output_type": "execute_result"
    }
   ],
   "source": [
    "my_dict"
   ]
  },
  {
   "cell_type": "code",
   "execution_count": 283,
   "id": "0ba9d32b-06d4-499d-9f4a-e79e8565f412",
   "metadata": {},
   "outputs": [
    {
     "data": {
      "text/plain": [
       "{0: 0, 1: 1, 2: 4, 3: 9, 4: 16, 5: 25, 6: 36, 7: 49, 8: 64, 9: 81}"
      ]
     },
     "execution_count": 283,
     "metadata": {},
     "output_type": "execute_result"
    }
   ],
   "source": [
    "{i:i*i for i in range(10)}"
   ]
  },
  {
   "cell_type": "code",
   "execution_count": 285,
   "id": "d9f96c5c-afe1-405a-8c36-975f2e855ac8",
   "metadata": {},
   "outputs": [
    {
     "data": {
      "text/plain": [
       "{0: 0, 3: 9, 6: 36, 9: 81}"
      ]
     },
     "execution_count": 285,
     "metadata": {},
     "output_type": "execute_result"
    }
   ],
   "source": [
    "{i:i*i for i in range(0,10,3)}"
   ]
  },
  {
   "cell_type": "code",
   "execution_count": 287,
   "id": "79dc6a77-ad61-446e-b769-5dafd18db2c3",
   "metadata": {},
   "outputs": [],
   "source": [
    "l=([1,2,3],2,\"krish\",(1,4,5))\n",
    " \n"
   ]
  },
  {
   "cell_type": "code",
   "execution_count": 289,
   "id": "b35eb92f-055b-40f2-975e-7f06f4c4dc36",
   "metadata": {},
   "outputs": [
    {
     "name": "stdout",
     "output_type": "stream",
     "text": [
      "0\n",
      "1\n",
      "2\n",
      "3\n"
     ]
    }
   ],
   "source": [
    "for i in range(len(l)):\n",
    "    print(i)"
   ]
  },
  {
   "cell_type": "code",
   "execution_count": 291,
   "id": "457d630b-7864-4227-87d6-9e787ef63912",
   "metadata": {},
   "outputs": [
    {
     "data": {
      "text/plain": [
       "tuple"
      ]
     },
     "execution_count": 291,
     "metadata": {},
     "output_type": "execute_result"
    }
   ],
   "source": [
    "q=(45,)\n",
    "type(q)"
   ]
  },
  {
   "cell_type": "code",
   "execution_count": 293,
   "id": "1ba2b2ac-838e-4456-a42e-ddca3adfc2fe",
   "metadata": {},
   "outputs": [
    {
     "data": {
      "text/plain": [
       "tuple"
      ]
     },
     "execution_count": 293,
     "metadata": {},
     "output_type": "execute_result"
    }
   ],
   "source": [
    "type((45,20))"
   ]
  },
  {
   "cell_type": "code",
   "execution_count": 295,
   "id": "20d22423-216a-453b-83e1-cb1658a646d9",
   "metadata": {},
   "outputs": [
    {
     "data": {
      "text/plain": [
       "tuple"
      ]
     },
     "execution_count": 295,
     "metadata": {},
     "output_type": "execute_result"
    }
   ],
   "source": [
    "q=45,\n",
    "type(q)"
   ]
  },
  {
   "cell_type": "code",
   "execution_count": 297,
   "id": "b64c6176-265b-4cff-a95c-6b66e1ab7736",
   "metadata": {},
   "outputs": [],
   "source": [
    "e={56:{45,78,89}}\n",
    "e\n",
    "l=e[56]"
   ]
  },
  {
   "cell_type": "code",
   "execution_count": 315,
   "id": "07606a7b-e305-4f88-984b-a092b75342d0",
   "metadata": {},
   "outputs": [
    {
     "data": {
      "text/plain": [
       "[89, 45, 78]"
      ]
     },
     "execution_count": 315,
     "metadata": {},
     "output_type": "execute_result"
    }
   ],
   "source": [
    "list(l)\n"
   ]
  },
  {
   "cell_type": "code",
   "execution_count": 317,
   "id": "d14dfab5-d7c9-4d92-955c-34ab22a7196e",
   "metadata": {},
   "outputs": [
    {
     "data": {
      "text/plain": [
       "45"
      ]
     },
     "execution_count": 317,
     "metadata": {},
     "output_type": "execute_result"
    }
   ],
   "source": [
    "list(e[56])[1]\n"
   ]
  },
  {
   "cell_type": "code",
   "execution_count": 319,
   "id": "7823c372-7784-45f5-821c-40c63ba005fe",
   "metadata": {},
   "outputs": [
    {
     "name": "stdout",
     "output_type": "stream",
     "text": [
      "('myname', 'myname', 'myname', 'myname', 'myname')\n"
     ]
    }
   ],
   "source": [
    "dict1={'doing': 'myname', 'from': 'myname', 'course': 'myname', 'python': 'myname', 'i': 'myname'}\n",
    "l=list(dict1[i] for i in dict1)\n",
    "tup=tuple(l)\n",
    "print(tup)\n"
   ]
  },
  {
   "cell_type": "code",
   "execution_count": 321,
   "id": "2f8680eb-ddf0-4c0d-9b38-645595a8c0bd",
   "metadata": {},
   "outputs": [
    {
     "name": "stdout",
     "output_type": "stream",
     "text": [
      "doing\n",
      "from\n",
      "course\n",
      "python\n",
      "i\n"
     ]
    }
   ],
   "source": [
    "lst=[]\n",
    "for i in dict1:\n",
    "    print(i)\n",
    "    lst.append(i)"
   ]
  },
  {
   "cell_type": "code",
   "execution_count": 323,
   "id": "54aae500-21a5-42b5-82c5-40f5c177bbb9",
   "metadata": {},
   "outputs": [
    {
     "name": "stdout",
     "output_type": "stream",
     "text": [
      "doing\n",
      "from\n",
      "course\n",
      "python\n",
      "i\n"
     ]
    }
   ],
   "source": [
    "lst=[]\n",
    "for i in dict1:\n",
    "    print(i)\n",
    "    lst.append(dict1[i])"
   ]
  },
  {
   "cell_type": "code",
   "execution_count": 347,
   "id": "389442a0-acd3-44f0-9bdf-57ded5044d93",
   "metadata": {},
   "outputs": [
    {
     "name": "stdin",
     "output_type": "stream",
     "text": [
      " 1\n"
     ]
    },
    {
     "name": "stdout",
     "output_type": "stream",
     "text": [
      "present\n"
     ]
    }
   ],
   "source": [
    "t=('sdf','xyz','abc',1,2,3)\n",
    "i = input()\n",
    "\n",
    "for i in t:\n",
    "        if i in t:\n",
    "            print('present')\n",
    "            break\n",
    "        else:\n",
    "            print('not present')\n",
    "            break\n"
   ]
  },
  {
   "cell_type": "code",
   "execution_count": 349,
   "id": "69e8cabe-cf1a-45db-97fc-e1314c61fcd3",
   "metadata": {},
   "outputs": [],
   "source": [
    "#function"
   ]
  },
  {
   "cell_type": "code",
   "execution_count": 351,
   "id": "4f22752f-a637-4623-a81b-647ca1e94fd2",
   "metadata": {},
   "outputs": [
    {
     "data": {
      "text/plain": [
       "30"
      ]
     },
     "execution_count": 351,
     "metadata": {},
     "output_type": "execute_result"
    }
   ],
   "source": [
    "a=10\n",
    "b=20\n",
    "a+b"
   ]
  },
  {
   "cell_type": "code",
   "execution_count": 353,
   "id": "9a616a97-0eee-46c1-b684-48667ce6f5f6",
   "metadata": {},
   "outputs": [],
   "source": [
    "def test(x,y):\n",
    "    print(x+y)"
   ]
  },
  {
   "cell_type": "code",
   "execution_count": 367,
   "id": "348268ea-48c9-4e74-8001-a6f34332ac18",
   "metadata": {},
   "outputs": [
    {
     "name": "stdout",
     "output_type": "stream",
     "text": [
      "3\n"
     ]
    },
    {
     "data": {
      "text/plain": [
       "NoneType"
      ]
     },
     "execution_count": 367,
     "metadata": {},
     "output_type": "execute_result"
    }
   ],
   "source": [
    "type(test(1,2))"
   ]
  },
  {
   "cell_type": "code",
   "execution_count": 369,
   "id": "40d855d7-3eaf-48d1-99be-954c1815af4b",
   "metadata": {},
   "outputs": [
    {
     "name": "stdout",
     "output_type": "stream",
     "text": [
      "11\n"
     ]
    }
   ],
   "source": [
    "test(3,8)"
   ]
  },
  {
   "cell_type": "code",
   "execution_count": 371,
   "id": "23010e43-a6b7-41ce-9ca8-c9ffb0aeee89",
   "metadata": {},
   "outputs": [
    {
     "name": "stdout",
     "output_type": "stream",
     "text": [
      "11\n"
     ]
    },
    {
     "ename": "TypeError",
     "evalue": "unsupported operand type(s) for +: 'NoneType' and 'int'",
     "output_type": "error",
     "traceback": [
      "\u001b[0;31m---------------------------------------------------------------------------\u001b[0m",
      "\u001b[0;31mTypeError\u001b[0m                                 Traceback (most recent call last)",
      "Cell \u001b[0;32mIn[371], line 1\u001b[0m\n\u001b[0;32m----> 1\u001b[0m test(\u001b[38;5;241m3\u001b[39m,\u001b[38;5;241m8\u001b[39m)\u001b[38;5;241m+\u001b[39m\u001b[38;5;241m6\u001b[39m\n",
      "\u001b[0;31mTypeError\u001b[0m: unsupported operand type(s) for +: 'NoneType' and 'int'"
     ]
    }
   ],
   "source": [
    "test(3,8)+6"
   ]
  },
  {
   "cell_type": "code",
   "execution_count": 387,
   "id": "0d9853cb-20e5-4d30-9094-e7ad5b11a4a1",
   "metadata": {},
   "outputs": [
    {
     "name": "stdout",
     "output_type": "stream",
     "text": [
      "6\n"
     ]
    }
   ],
   "source": [
    "b=test(3,3)"
   ]
  },
  {
   "cell_type": "code",
   "execution_count": 389,
   "id": "d04d3fc1-7ea5-4417-8af2-5cbcb4b3cbab",
   "metadata": {},
   "outputs": [
    {
     "data": {
      "text/plain": [
       "NoneType"
      ]
     },
     "execution_count": 389,
     "metadata": {},
     "output_type": "execute_result"
    }
   ],
   "source": [
    "type(b)"
   ]
  },
  {
   "cell_type": "code",
   "execution_count": 391,
   "id": "cd520b5e-a93e-40ab-93fa-0cf96c875c5d",
   "metadata": {},
   "outputs": [],
   "source": [
    "def test1(b,m):\n",
    "    return b*m"
   ]
  },
  {
   "cell_type": "code",
   "execution_count": 393,
   "id": "1c65952c-702b-444d-888b-587053beb20f",
   "metadata": {},
   "outputs": [
    {
     "data": {
      "text/plain": [
       "445"
      ]
     },
     "execution_count": 393,
     "metadata": {},
     "output_type": "execute_result"
    }
   ],
   "source": [
    "test1(5,89)\n"
   ]
  },
  {
   "cell_type": "code",
   "execution_count": 395,
   "id": "76f61ed0-861a-42cf-91b4-0169cfda9c89",
   "metadata": {},
   "outputs": [
    {
     "data": {
      "text/plain": [
       "451"
      ]
     },
     "execution_count": 395,
     "metadata": {},
     "output_type": "execute_result"
    }
   ],
   "source": [
    "test1(5,89)+6"
   ]
  },
  {
   "cell_type": "code",
   "execution_count": 397,
   "id": "d0c2f21a-5b99-48a2-9ab5-75fae87836cc",
   "metadata": {},
   "outputs": [
    {
     "data": {
      "text/plain": [
       "int"
      ]
     },
     "execution_count": 397,
     "metadata": {},
     "output_type": "execute_result"
    }
   ],
   "source": [
    "type(test1(2,3))"
   ]
  },
  {
   "cell_type": "code",
   "execution_count": 399,
   "id": "1335b737-d9c1-4f89-ba18-dd396d90130a",
   "metadata": {},
   "outputs": [],
   "source": [
    "a=test1(2,3)"
   ]
  },
  {
   "cell_type": "code",
   "execution_count": 401,
   "id": "1b1ef3b2-d9c1-4d1c-877d-d4d3e819f48f",
   "metadata": {},
   "outputs": [
    {
     "data": {
      "text/plain": [
       "6"
      ]
     },
     "execution_count": 401,
     "metadata": {},
     "output_type": "execute_result"
    }
   ],
   "source": [
    "a"
   ]
  },
  {
   "cell_type": "code",
   "execution_count": 403,
   "id": "2ec9cf6b-756f-4959-98c0-51bfe5be32c1",
   "metadata": {},
   "outputs": [
    {
     "data": {
      "text/plain": [
       "int"
      ]
     },
     "execution_count": 403,
     "metadata": {},
     "output_type": "execute_result"
    }
   ],
   "source": [
    "type(a)"
   ]
  },
  {
   "cell_type": "code",
   "execution_count": 405,
   "id": "dfa7302f-84a4-47a8-a286-06af9dcc0356",
   "metadata": {},
   "outputs": [],
   "source": [
    "def test2(t,n,m):\n",
    "    return t+n"
   ]
  },
  {
   "cell_type": "code",
   "execution_count": 407,
   "id": "a87979c7-2992-47dd-a155-3faf60761422",
   "metadata": {},
   "outputs": [
    {
     "ename": "TypeError",
     "evalue": "test2() missing 1 required positional argument: 'm'",
     "output_type": "error",
     "traceback": [
      "\u001b[0;31m---------------------------------------------------------------------------\u001b[0m",
      "\u001b[0;31mTypeError\u001b[0m                                 Traceback (most recent call last)",
      "Cell \u001b[0;32mIn[407], line 1\u001b[0m\n\u001b[0;32m----> 1\u001b[0m test2(\u001b[38;5;241m2\u001b[39m,\u001b[38;5;241m3\u001b[39m)\n",
      "\u001b[0;31mTypeError\u001b[0m: test2() missing 1 required positional argument: 'm'"
     ]
    }
   ],
   "source": [
    "test2(2,3)"
   ]
  },
  {
   "cell_type": "code",
   "execution_count": 409,
   "id": "ba6b8531-202e-4cdc-be2f-6700b125c233",
   "metadata": {},
   "outputs": [
    {
     "data": {
      "text/plain": [
       "5"
      ]
     },
     "execution_count": 409,
     "metadata": {},
     "output_type": "execute_result"
    }
   ],
   "source": [
    "test2(2,3,4)"
   ]
  },
  {
   "cell_type": "code",
   "execution_count": 411,
   "id": "ad036ea1-fc3c-4de6-ba71-6771f7f9f614",
   "metadata": {},
   "outputs": [],
   "source": [
    "def test3(n,m):\n",
    "    return n*10,m*40,m+n"
   ]
  },
  {
   "cell_type": "code",
   "execution_count": 413,
   "id": "287f7711-bc2d-4118-ae4d-d2c4a6e365cd",
   "metadata": {},
   "outputs": [
    {
     "data": {
      "text/plain": [
       "(20, 280, 9)"
      ]
     },
     "execution_count": 413,
     "metadata": {},
     "output_type": "execute_result"
    }
   ],
   "source": [
    "test3(2,7)"
   ]
  },
  {
   "cell_type": "code",
   "execution_count": 415,
   "id": "1b378a72-29df-4817-8950-c796b331a1ec",
   "metadata": {},
   "outputs": [
    {
     "data": {
      "text/plain": [
       "tuple"
      ]
     },
     "execution_count": 415,
     "metadata": {},
     "output_type": "execute_result"
    }
   ],
   "source": [
    "type(test3(2,2))"
   ]
  },
  {
   "cell_type": "code",
   "execution_count": 417,
   "id": "83142e97-54a6-43f5-82d9-2f9a575db028",
   "metadata": {},
   "outputs": [],
   "source": [
    "c,x,v=test3(2,7)"
   ]
  },
  {
   "cell_type": "code",
   "execution_count": 419,
   "id": "98511e58-8436-4084-acfe-bc0ad0fff67e",
   "metadata": {},
   "outputs": [
    {
     "data": {
      "text/plain": [
       "20"
      ]
     },
     "execution_count": 419,
     "metadata": {},
     "output_type": "execute_result"
    }
   ],
   "source": [
    "c"
   ]
  },
  {
   "cell_type": "code",
   "execution_count": 421,
   "id": "e2c0bbff-e576-43d9-ac2d-0ea1563053bd",
   "metadata": {},
   "outputs": [
    {
     "data": {
      "text/plain": [
       "280"
      ]
     },
     "execution_count": 421,
     "metadata": {},
     "output_type": "execute_result"
    }
   ],
   "source": [
    "x"
   ]
  },
  {
   "cell_type": "code",
   "execution_count": 423,
   "id": "70644fe6-25d6-4bd0-8bd9-923d7c0ae09b",
   "metadata": {},
   "outputs": [
    {
     "data": {
      "text/plain": [
       "9"
      ]
     },
     "execution_count": 423,
     "metadata": {},
     "output_type": "execute_result"
    }
   ],
   "source": [
    "v"
   ]
  },
  {
   "cell_type": "code",
   "execution_count": 454,
   "id": "2ffb2237-1d74-4934-8854-d9e780b4184c",
   "metadata": {},
   "outputs": [],
   "source": [
    "c,x, _ =test3(2,7)#under score is place holder and it will help in avoiding any output"
   ]
  },
  {
   "cell_type": "code",
   "execution_count": 456,
   "id": "02925982-b250-4a6a-bf41-26b7551e3be1",
   "metadata": {},
   "outputs": [
    {
     "data": {
      "text/plain": [
       "20"
      ]
     },
     "execution_count": 456,
     "metadata": {},
     "output_type": "execute_result"
    }
   ],
   "source": [
    "c"
   ]
  },
  {
   "cell_type": "code",
   "execution_count": 458,
   "id": "0586fe1b-ade2-447b-8266-292f66532da9",
   "metadata": {},
   "outputs": [
    {
     "data": {
      "text/plain": [
       "280"
      ]
     },
     "execution_count": 458,
     "metadata": {},
     "output_type": "execute_result"
    }
   ],
   "source": [
    "x"
   ]
  },
  {
   "cell_type": "code",
   "execution_count": 460,
   "id": "50afa971-9e35-49c3-9307-e1b640d57aed",
   "metadata": {},
   "outputs": [
    {
     "data": {
      "text/plain": [
       "9"
      ]
     },
     "execution_count": 460,
     "metadata": {},
     "output_type": "execute_result"
    }
   ],
   "source": [
    "_"
   ]
  },
  {
   "cell_type": "code",
   "execution_count": 466,
   "id": "a26db9ea-771b-4ee1-b432-5709f7e70614",
   "metadata": {},
   "outputs": [],
   "source": [
    "def test():\n",
    "    print(\"this is my first function\")"
   ]
  },
  {
   "cell_type": "code",
   "execution_count": 468,
   "id": "ef0ecd4c-9fde-4871-bb49-78454708b4a1",
   "metadata": {},
   "outputs": [
    {
     "name": "stdout",
     "output_type": "stream",
     "text": [
      "this is my first function\n"
     ]
    }
   ],
   "source": [
    "m=test()"
   ]
  },
  {
   "cell_type": "code",
   "execution_count": 470,
   "id": "82cfcd7e-745e-4dd2-8407-9829cf8593ca",
   "metadata": {},
   "outputs": [
    {
     "ename": "TypeError",
     "evalue": "unsupported operand type(s) for +: 'NoneType' and 'str'",
     "output_type": "error",
     "traceback": [
      "\u001b[0;31m---------------------------------------------------------------------------\u001b[0m",
      "\u001b[0;31mTypeError\u001b[0m                                 Traceback (most recent call last)",
      "Cell \u001b[0;32mIn[470], line 1\u001b[0m\n\u001b[0;32m----> 1\u001b[0m m\u001b[38;5;241m+\u001b[39m\u001b[38;5;124m\"\u001b[39m\u001b[38;5;124mrhhiurh\u001b[39m\u001b[38;5;124m\"\u001b[39m\n",
      "\u001b[0;31mTypeError\u001b[0m: unsupported operand type(s) for +: 'NoneType' and 'str'"
     ]
    }
   ],
   "source": [
    "m+\"rhhiurh\""
   ]
  },
  {
   "cell_type": "code",
   "execution_count": 472,
   "id": "6eaa36f9-ceab-4a5c-a232-05139395b6b4",
   "metadata": {},
   "outputs": [],
   "source": [
    "def test7():\n",
    "    return \"this is my first class\""
   ]
  },
  {
   "cell_type": "code",
   "execution_count": 474,
   "id": "3156d648-bdd1-4fa6-b44f-14583da7230a",
   "metadata": {},
   "outputs": [],
   "source": [
    "n=test7()"
   ]
  },
  {
   "cell_type": "code",
   "execution_count": 478,
   "id": "b7f9de77-4c87-487b-af2c-1f4c15d89fa3",
   "metadata": {},
   "outputs": [
    {
     "data": {
      "text/plain": [
       "'this is my first class gygygh'"
      ]
     },
     "execution_count": 478,
     "metadata": {},
     "output_type": "execute_result"
    }
   ],
   "source": [
    "n+\" gygygh\""
   ]
  },
  {
   "cell_type": "code",
   "execution_count": 480,
   "id": "b99cac39-d4f3-466d-a3e4-ea675b685081",
   "metadata": {},
   "outputs": [],
   "source": [
    "def test8(n):\n",
    "    return n*2"
   ]
  },
  {
   "cell_type": "code",
   "execution_count": 482,
   "id": "b121a408-4420-49e3-877b-9022b0420ffd",
   "metadata": {},
   "outputs": [
    {
     "data": {
      "text/plain": [
       "[3, 4, 5, 6, 7, 3, 4, 5, 6, 7]"
      ]
     },
     "execution_count": 482,
     "metadata": {},
     "output_type": "execute_result"
    }
   ],
   "source": [
    "test8([3,4,5,6,7])"
   ]
  },
  {
   "cell_type": "code",
   "execution_count": 484,
   "id": "90191fb9-e060-4a95-b5f5-adf3cc4d5dab",
   "metadata": {},
   "outputs": [
    {
     "data": {
      "text/plain": [
       "134"
      ]
     },
     "execution_count": 484,
     "metadata": {},
     "output_type": "execute_result"
    }
   ],
   "source": [
    "test8(67)"
   ]
  },
  {
   "cell_type": "code",
   "execution_count": 490,
   "id": "49e24ef9-4efe-4bc6-86c2-3a3f16416ff0",
   "metadata": {},
   "outputs": [],
   "source": [
    "def test9(n):\n",
    "    return n,n*7"
   ]
  },
  {
   "cell_type": "code",
   "execution_count": 492,
   "id": "dd0630a1-283f-47ca-9a7a-7d6fede43ffc",
   "metadata": {},
   "outputs": [
    {
     "data": {
      "text/plain": [
       "([3, 45, 6, 7, 8],\n",
       " [3,\n",
       "  45,\n",
       "  6,\n",
       "  7,\n",
       "  8,\n",
       "  3,\n",
       "  45,\n",
       "  6,\n",
       "  7,\n",
       "  8,\n",
       "  3,\n",
       "  45,\n",
       "  6,\n",
       "  7,\n",
       "  8,\n",
       "  3,\n",
       "  45,\n",
       "  6,\n",
       "  7,\n",
       "  8,\n",
       "  3,\n",
       "  45,\n",
       "  6,\n",
       "  7,\n",
       "  8,\n",
       "  3,\n",
       "  45,\n",
       "  6,\n",
       "  7,\n",
       "  8,\n",
       "  3,\n",
       "  45,\n",
       "  6,\n",
       "  7,\n",
       "  8])"
      ]
     },
     "execution_count": 492,
     "metadata": {},
     "output_type": "execute_result"
    }
   ],
   "source": [
    "test9([3,45,6,7,8])"
   ]
  },
  {
   "cell_type": "code",
   "execution_count": 497,
   "id": "636e8f07-f587-4d38-8b2e-b26cd147edb2",
   "metadata": {},
   "outputs": [],
   "source": [
    "b=test9([4,5,6,6,7])"
   ]
  },
  {
   "cell_type": "code",
   "execution_count": 499,
   "id": "f0b965a2-9b96-4a65-9fb5-cbf4dcdffa50",
   "metadata": {},
   "outputs": [
    {
     "data": {
      "text/plain": [
       "([4, 5, 6, 6, 7],\n",
       " [4,\n",
       "  5,\n",
       "  6,\n",
       "  6,\n",
       "  7,\n",
       "  4,\n",
       "  5,\n",
       "  6,\n",
       "  6,\n",
       "  7,\n",
       "  4,\n",
       "  5,\n",
       "  6,\n",
       "  6,\n",
       "  7,\n",
       "  4,\n",
       "  5,\n",
       "  6,\n",
       "  6,\n",
       "  7,\n",
       "  4,\n",
       "  5,\n",
       "  6,\n",
       "  6,\n",
       "  7,\n",
       "  4,\n",
       "  5,\n",
       "  6,\n",
       "  6,\n",
       "  7,\n",
       "  4,\n",
       "  5,\n",
       "  6,\n",
       "  6,\n",
       "  7])"
      ]
     },
     "execution_count": 499,
     "metadata": {},
     "output_type": "execute_result"
    }
   ],
   "source": [
    "b"
   ]
  },
  {
   "cell_type": "code",
   "execution_count": 501,
   "id": "9b36e904-5cea-490d-b4b5-7563899215fe",
   "metadata": {},
   "outputs": [
    {
     "data": {
      "text/plain": [
       "[4, 5, 6, 6, 7]"
      ]
     },
     "execution_count": 501,
     "metadata": {},
     "output_type": "execute_result"
    }
   ],
   "source": [
    "b[0]"
   ]
  },
  {
   "cell_type": "code",
   "execution_count": 503,
   "id": "8f49fbc6-f7b7-44d0-94ed-686f868896db",
   "metadata": {},
   "outputs": [
    {
     "data": {
      "text/plain": [
       "[4,\n",
       " 5,\n",
       " 6,\n",
       " 6,\n",
       " 7,\n",
       " 4,\n",
       " 5,\n",
       " 6,\n",
       " 6,\n",
       " 7,\n",
       " 4,\n",
       " 5,\n",
       " 6,\n",
       " 6,\n",
       " 7,\n",
       " 4,\n",
       " 5,\n",
       " 6,\n",
       " 6,\n",
       " 7,\n",
       " 4,\n",
       " 5,\n",
       " 6,\n",
       " 6,\n",
       " 7,\n",
       " 4,\n",
       " 5,\n",
       " 6,\n",
       " 6,\n",
       " 7,\n",
       " 4,\n",
       " 5,\n",
       " 6,\n",
       " 6,\n",
       " 7]"
      ]
     },
     "execution_count": 503,
     "metadata": {},
     "output_type": "execute_result"
    }
   ],
   "source": [
    "b[1]"
   ]
  },
  {
   "cell_type": "code",
   "execution_count": 505,
   "id": "82c7f95e-ebcf-4b9b-8d27-ff6ab5438329",
   "metadata": {},
   "outputs": [],
   "source": [
    "def test10(n,m=90):\n",
    "    return n+m"
   ]
  },
  {
   "cell_type": "code",
   "execution_count": 507,
   "id": "9166e563-0b5b-45af-88bf-7c5fe13d3f9d",
   "metadata": {},
   "outputs": [
    {
     "data": {
      "text/plain": [
       "150"
      ]
     },
     "execution_count": 507,
     "metadata": {},
     "output_type": "execute_result"
    }
   ],
   "source": [
    "test10(60)"
   ]
  },
  {
   "cell_type": "code",
   "execution_count": 511,
   "id": "d65f896e-646a-4f46-bac0-b1c5d5442341",
   "metadata": {},
   "outputs": [
    {
     "data": {
      "text/plain": [
       "90"
      ]
     },
     "execution_count": 511,
     "metadata": {},
     "output_type": "execute_result"
    }
   ],
   "source": [
    "test10(60,30)"
   ]
  },
  {
   "cell_type": "code",
   "execution_count": 513,
   "id": "c77e10a7-39dd-4c9d-ab61-4a6092d7aec2",
   "metadata": {},
   "outputs": [
    {
     "name": "stdout",
     "output_type": "stream",
     "text": [
      "\n"
     ]
    }
   ],
   "source": [
    "print()"
   ]
  },
  {
   "cell_type": "code",
   "execution_count": 533,
   "id": "da91e8af-98a7-4051-a841-f3bddd44f89c",
   "metadata": {},
   "outputs": [],
   "source": [
    "def boolx(x=True,y=False):\n",
    "    return x+y"
   ]
  },
  {
   "cell_type": "code",
   "execution_count": 517,
   "id": "7fd9a2de-c028-45dc-ba82-011c264b48f6",
   "metadata": {},
   "outputs": [
    {
     "data": {
      "text/plain": [
       "1"
      ]
     },
     "execution_count": 517,
     "metadata": {},
     "output_type": "execute_result"
    }
   ],
   "source": [
    "boolx()"
   ]
  },
  {
   "cell_type": "code",
   "execution_count": 519,
   "id": "89ce4c65-ade0-4b8e-b92b-9a0c720ecfca",
   "metadata": {},
   "outputs": [
    {
     "data": {
      "text/plain": [
       "0"
      ]
     },
     "execution_count": 519,
     "metadata": {},
     "output_type": "execute_result"
    }
   ],
   "source": [
    "boolx(False)"
   ]
  },
  {
   "cell_type": "code",
   "execution_count": 521,
   "id": "4d44bf71-65d9-4975-af11-9dab7b0fe3e3",
   "metadata": {},
   "outputs": [
    {
     "data": {
      "text/plain": [
       "8"
      ]
     },
     "execution_count": 521,
     "metadata": {},
     "output_type": "execute_result"
    }
   ],
   "source": [
    "boolx(False,8)"
   ]
  },
  {
   "cell_type": "code",
   "execution_count": 523,
   "id": "2e50c9f5-8142-4e2b-a921-3e5824cad47f",
   "metadata": {},
   "outputs": [
    {
     "data": {
      "text/plain": [
       "1"
      ]
     },
     "execution_count": 523,
     "metadata": {},
     "output_type": "execute_result"
    }
   ],
   "source": [
    "True+False"
   ]
  },
  {
   "cell_type": "code",
   "execution_count": 525,
   "id": "eb29a6a9-755c-4c30-9554-c2090f780fae",
   "metadata": {},
   "outputs": [],
   "source": [
    "def travel(bike=True,car=False):\n",
    "    plan_travel=bike or car\n",
    "    return bike,car,plan_travel"
   ]
  },
  {
   "cell_type": "code",
   "execution_count": 527,
   "id": "6c4a7296-7614-4dc5-8cd5-d27751295dd2",
   "metadata": {},
   "outputs": [
    {
     "data": {
      "text/plain": [
       "(True, False, True)"
      ]
     },
     "execution_count": 527,
     "metadata": {},
     "output_type": "execute_result"
    }
   ],
   "source": [
    "travel()"
   ]
  },
  {
   "cell_type": "code",
   "execution_count": 529,
   "id": "437557ef-5f84-4862-ab8b-7bc3a38ad928",
   "metadata": {},
   "outputs": [
    {
     "data": {
      "text/plain": [
       "(False, False, False)"
      ]
     },
     "execution_count": 529,
     "metadata": {},
     "output_type": "execute_result"
    }
   ],
   "source": [
    "travel(False)"
   ]
  },
  {
   "cell_type": "code",
   "execution_count": 531,
   "id": "42f9c196-d7db-400a-b700-616b1c74ea7e",
   "metadata": {},
   "outputs": [],
   "source": [
    "def test11(*args):\n",
    "    return args"
   ]
  },
  {
   "cell_type": "code",
   "execution_count": 535,
   "id": "e50f0118-5510-4e3a-9f8d-443b0313c9eb",
   "metadata": {},
   "outputs": [
    {
     "data": {
      "text/plain": [
       "('yuerr', 56, 766, 43, 5, [6, 8, 65, 3])"
      ]
     },
     "execution_count": 535,
     "metadata": {},
     "output_type": "execute_result"
    }
   ],
   "source": [
    "test11(\"yuerr\",56,766,43,5,[6,8,65,3])"
   ]
  },
  {
   "cell_type": "code",
   "execution_count": 537,
   "id": "d8eb15c9-01cb-4837-a89e-6d1ce69e5978",
   "metadata": {},
   "outputs": [],
   "source": [
    "def test12(*args):\n",
    "    return args"
   ]
  },
  {
   "cell_type": "code",
   "execution_count": 543,
   "id": "173fc542-0cfe-49e2-9e98-0bfff0804c78",
   "metadata": {},
   "outputs": [],
   "source": [
    "def test12(a,b,c):\n",
    "    return a+b+c"
   ]
  },
  {
   "cell_type": "code",
   "execution_count": 545,
   "id": "961913f6-406b-4dac-8b30-91e9a6965fb3",
   "metadata": {},
   "outputs": [
    {
     "data": {
      "text/plain": [
       "[1, 2, 3, 4, 4, 5, 6, 7, 4, 5, 6, 78]"
      ]
     },
     "execution_count": 545,
     "metadata": {},
     "output_type": "execute_result"
    }
   ],
   "source": [
    "test12([1,2,3,4],[4,5,6,7],[4,5,6,78])"
   ]
  },
  {
   "cell_type": "code",
   "execution_count": 547,
   "id": "535f3107-b77d-4b70-8e23-768d8e993a16",
   "metadata": {},
   "outputs": [],
   "source": [
    "def test13(*args):\n",
    "    l=[]\n",
    "    for i in args:\n",
    "        l.append(i)\n",
    "    return l"
   ]
  },
  {
   "cell_type": "code",
   "execution_count": 551,
   "id": "aa01a7b3-3a8a-4adc-bee0-2bf85828bffc",
   "metadata": {},
   "outputs": [
    {
     "data": {
      "text/plain": [
       "[[1, 2, 3, 4], [4, 5, 6, 7], [4, 5, 6, 78]]"
      ]
     },
     "execution_count": 551,
     "metadata": {},
     "output_type": "execute_result"
    }
   ],
   "source": [
    "test13([1,2,3,4],[4,5,6,7],[4,5,6,78])"
   ]
  },
  {
   "cell_type": "code",
   "execution_count": 553,
   "id": "7b2624a8-1343-477d-9be5-86997a69e9b3",
   "metadata": {},
   "outputs": [],
   "source": [
    "def test13(*args):\n",
    "    l=[]\n",
    "    for i in args:\n",
    "        l=l+i\n",
    "               \n",
    "    return l"
   ]
  },
  {
   "cell_type": "code",
   "execution_count": 555,
   "id": "ca6bd183-b8b3-4955-a8d2-3ee98e959d77",
   "metadata": {},
   "outputs": [
    {
     "data": {
      "text/plain": [
       "[1, 2, 3, 4, 4, 5, 6, 7, 4, 5, 6, 78]"
      ]
     },
     "execution_count": 555,
     "metadata": {},
     "output_type": "execute_result"
    }
   ],
   "source": [
    "test13([1,2,3,4],[4,5,6,7],[4,5,6,78])"
   ]
  },
  {
   "cell_type": "code",
   "execution_count": 560,
   "id": "8c1f00ea-6244-40d5-a8ec-1c976cd57e3c",
   "metadata": {},
   "outputs": [],
   "source": [
    "def test15(*args):\n",
    "    l=[]\n",
    "    for i in args:\n",
    "        if type(i)==list:\n",
    "            l=l+i\n",
    "    return l"
   ]
  },
  {
   "cell_type": "code",
   "execution_count": 562,
   "id": "c33eae8d-03f4-4c2e-8d49-9100af20b3a4",
   "metadata": {},
   "outputs": [
    {
     "data": {
      "text/plain": [
       "[1, 2, 3, 4, 4, 5, 6, 7, 4, 5, 6, 78]"
      ]
     },
     "execution_count": 562,
     "metadata": {},
     "output_type": "execute_result"
    }
   ],
   "source": [
    "test15([1,2,3,4],[4,5,6,7],[4,5,6,78],\"guyg\",\"hig\")"
   ]
  },
  {
   "cell_type": "code",
   "execution_count": 564,
   "id": "1b85b156-2a75-4437-8593-d118922ab1f9",
   "metadata": {},
   "outputs": [],
   "source": [
    "def test16(**kwargs):\n",
    "    return kwargs"
   ]
  },
  {
   "cell_type": "code",
   "execution_count": 566,
   "id": "73dad917-3e10-4cfc-8237-cdb4a0762997",
   "metadata": {},
   "outputs": [
    {
     "ename": "TypeError",
     "evalue": "test16() takes 0 positional arguments but 3 were given",
     "output_type": "error",
     "traceback": [
      "\u001b[0;31m---------------------------------------------------------------------------\u001b[0m",
      "\u001b[0;31mTypeError\u001b[0m                                 Traceback (most recent call last)",
      "Cell \u001b[0;32mIn[566], line 1\u001b[0m\n\u001b[0;32m----> 1\u001b[0m test16(\u001b[38;5;241m4\u001b[39m,\u001b[38;5;241m56\u001b[39m,\u001b[38;5;241m56\u001b[39m)\n",
      "\u001b[0;31mTypeError\u001b[0m: test16() takes 0 positional arguments but 3 were given"
     ]
    }
   ],
   "source": [
    "test16(4,56,56)"
   ]
  },
  {
   "cell_type": "code",
   "execution_count": 568,
   "id": "62b0fd1a-d2a7-4896-9e2b-403d5618239e",
   "metadata": {},
   "outputs": [
    {
     "data": {
      "text/plain": [
       "{'a': 8, 'b': True, 'c': [4, 5, 6, 6, 'kumar'], 'd': 'sudh'}"
      ]
     },
     "execution_count": 568,
     "metadata": {},
     "output_type": "execute_result"
    }
   ],
   "source": [
    "test16(a=8,b=True,c=[4,5,6,6,\"kumar\"],d=\"sudh\")"
   ]
  },
  {
   "cell_type": "code",
   "execution_count": 574,
   "id": "ef7722c9-5845-44bb-9e8b-b3f175274d37",
   "metadata": {},
   "outputs": [],
   "source": [
    "def test17(*args):\n",
    "    return args\n"
   ]
  },
  {
   "cell_type": "code",
   "execution_count": 578,
   "id": "b160e852-d9ab-4012-90d3-e8a2f3b9b25d",
   "metadata": {},
   "outputs": [
    {
     "data": {
      "text/plain": [
       "(4, 5, 6, 7, 'sudh', [4, 5, 6, 7, 8])"
      ]
     },
     "execution_count": 578,
     "metadata": {},
     "output_type": "execute_result"
    }
   ],
   "source": [
    "test17(4,5,6,7, \"sudh\" , [4,5,6,7,8])"
   ]
  },
  {
   "cell_type": "code",
   "execution_count": 580,
   "id": "8ed71dbc-3a4a-49c8-ae2c-dc7d52155015",
   "metadata": {},
   "outputs": [],
   "source": [
    "def fun1(*args):\n",
    "    a=[]\n",
    "    b=[]\n",
    "    c=[]\n",
    "    d=[]\n",
    "    e=[]\n",
    "    f=[]\n",
    "    g=[]\n",
    "    for i in args:\n",
    "        if type(i)==int:\n",
    "            a.append(i)\n",
    "        if type(i)==float:\n",
    "            b.append(i)\n",
    "        if type(i)==str:\n",
    "            c.append(i)\n",
    "        if type(i)==tuple:\n",
    "            d.append(i)\n",
    "        if type(i)==list:\n",
    "            e.append(i)\n",
    "        if type(i)==dict:\n",
    "            f.append(i)\n",
    "        if type(i)==bool:\n",
    "            g.append(i)\n",
    "    return a,b,c,d,e,f,g"
   ]
  },
  {
   "cell_type": "code",
   "execution_count": 584,
   "id": "ed7c86dd-8b25-4064-8d08-2a8dbf57cd58",
   "metadata": {},
   "outputs": [
    {
     "data": {
      "text/plain": [
       "([3, 4, 5, 6],\n",
       " [7.45],\n",
       " [],\n",
       " [],\n",
       " [[4, 5, 6, 7, 8, 9], [4, 5, 6, 7, 8, 90]],\n",
       " [],\n",
       " [True, False])"
      ]
     },
     "execution_count": 584,
     "metadata": {},
     "output_type": "execute_result"
    }
   ],
   "source": [
    "fun1(3,4,5,6,7.45,True,False,[4,5,6,7,8,9],[4,5,6,7,8,90],4+5j)"
   ]
  },
  {
   "cell_type": "code",
   "execution_count": 586,
   "id": "a355274a-9fb8-4f40-8b90-0c840f6c0919",
   "metadata": {},
   "outputs": [],
   "source": [
    "def fun2(*args,**kwargs):\n",
    "    l=[i for i in args if type(i)==list]\n",
    "    d=[i[1] for i in kwargs.items() if type(i[1])==list]\n",
    "    return l,d"
   ]
  },
  {
   "cell_type": "code",
   "execution_count": 588,
   "id": "0e95f568-aaa0-4768-9c67-1c1502ba432e",
   "metadata": {},
   "outputs": [
    {
     "data": {
      "text/plain": [
       "([[4, 5, 6, 7, 8], [5, 6, 7, 8, 9, 0]], [[4, 5, 6, 7]])"
      ]
     },
     "execution_count": 588,
     "metadata": {},
     "output_type": "execute_result"
    }
   ],
   "source": [
    "fun2([4,5,6,7,8],[5,6,7,8,9,0], 5,5,6,7, a=5, b=\"fsdfs\", m=[4,5,6,7])"
   ]
  },
  {
   "cell_type": "code",
   "execution_count": 590,
   "id": "662aa831-7b88-4f00-8e74-6cda4992cb4f",
   "metadata": {},
   "outputs": [],
   "source": [
    "def test18(**kwargs):\n",
    "    return kwargs"
   ]
  },
  {
   "cell_type": "code",
   "execution_count": 592,
   "id": "2cc031cb-782b-4880-aa57-02efb1c2abe2",
   "metadata": {},
   "outputs": [
    {
     "data": {
      "text/plain": [
       "{'b': 16, 'c': [4, 5, 6, 7], 'd': ['sudh', 'kumar', 5.67], 'n': (6+7j)}"
      ]
     },
     "execution_count": 592,
     "metadata": {},
     "output_type": "execute_result"
    }
   ],
   "source": [
    "test18(b=16,c=[4,5,6,7],d=[\"sudh\", \"kumar\", 5.67], n=6+7j)"
   ]
  },
  {
   "cell_type": "code",
   "execution_count": 596,
   "id": "08d208aa-703d-4bae-8c39-28fffbe81c2a",
   "metadata": {},
   "outputs": [],
   "source": [
    "def test19(**kwargs):\n",
    "    for i in kwargs.items():\n",
    "        if type(i[1])==list:\n",
    "            if \"sudh\" in i[1]:\n",
    "                print(\"i am able to find your name in input data\")"
   ]
  },
  {
   "cell_type": "code",
   "execution_count": 600,
   "id": "1f103177-088c-4971-8ac0-d9558adba4b7",
   "metadata": {},
   "outputs": [
    {
     "name": "stdout",
     "output_type": "stream",
     "text": [
      "i am able to find your name in input data\n"
     ]
    }
   ],
   "source": [
    "test19(b=16,c=[4,5,6,7],d=[\"sudh\", \"kumar\", 5.67], n=6+7j)"
   ]
  },
  {
   "cell_type": "code",
   "execution_count": 2,
   "id": "60a53eb4-383f-4c02-acb2-c207080c5089",
   "metadata": {},
   "outputs": [
    {
     "data": {
      "text/plain": [
       "{int: [1, 2, 3],\n",
       " list: [[5, 6, 7]],\n",
       " str: ['hi', 'io'],\n",
       " complex: [(6+7j), (6+7j)]}"
      ]
     },
     "execution_count": 2,
     "metadata": {},
     "output_type": "execute_result"
    }
   ],
   "source": [
    "def func1(*args):\n",
    "    dt={}\n",
    "    for i in args:\n",
    "        if type(i) in dt:\n",
    "            dt[type(i)].append(i)\n",
    "        else:\n",
    "            dt[type(i)]=[i]\n",
    "    return dt\n",
    "func1(1,2,3,[5,6,7],'hi','io',6+7j,6+7j)"
   ]
  },
  {
   "cell_type": "code",
   "execution_count": 605,
   "id": "5ed9dac3-788f-4eae-889c-24b17f9ca8db",
   "metadata": {},
   "outputs": [],
   "source": [
    "# args is positional arguments,kwargs is keyword arguments"
   ]
  },
  {
   "cell_type": "code",
   "execution_count": 607,
   "id": "8fd5aa07-e831-4c7e-b234-f8a55a5ae060",
   "metadata": {},
   "outputs": [],
   "source": [
    "def con_list(*args):\n",
    "    a=[]\n",
    "    [[a.append(j) for j in i ]for i in args]\n",
    "    print(a)"
   ]
  },
  {
   "cell_type": "code",
   "execution_count": 609,
   "id": "868a82d4-11e0-486c-aa8f-ad76d650c5e4",
   "metadata": {},
   "outputs": [
    {
     "name": "stdout",
     "output_type": "stream",
     "text": [
      "[1, 2, 3, 4, 2, 3, 4, 5]\n"
     ]
    }
   ],
   "source": [
    "con_list([1,2,3,4],[2,3,4,5])"
   ]
  },
  {
   "cell_type": "code",
   "execution_count": 611,
   "id": "3fe68995-d4ca-41a9-a7c5-7ae6f04a27cc",
   "metadata": {},
   "outputs": [],
   "source": [
    "def func(a=2):\n",
    "    print(a)"
   ]
  },
  {
   "cell_type": "code",
   "execution_count": 613,
   "id": "decfb0c7-6155-43db-8dac-d047c06b9303",
   "metadata": {},
   "outputs": [
    {
     "name": "stdout",
     "output_type": "stream",
     "text": [
      "2\n"
     ]
    }
   ],
   "source": [
    "func()"
   ]
  },
  {
   "cell_type": "code",
   "execution_count": 615,
   "id": "f1dd7a95-4f84-4451-b748-85355716adbd",
   "metadata": {},
   "outputs": [
    {
     "name": "stdout",
     "output_type": "stream",
     "text": [
      "3\n"
     ]
    }
   ],
   "source": [
    "func(3)"
   ]
  },
  {
   "cell_type": "code",
   "execution_count": 617,
   "id": "cf89cdba-4b31-46a9-abc6-24883ada45fd",
   "metadata": {},
   "outputs": [],
   "source": [
    "lst=[1,2,3,4]\n"
   ]
  },
  {
   "cell_type": "code",
   "execution_count": 619,
   "id": "e1727f60-b430-4e5f-8de8-a4bc14492b17",
   "metadata": {},
   "outputs": [],
   "source": [
    "lst[1:]=[3,4,5]\n"
   ]
  },
  {
   "cell_type": "code",
   "execution_count": 621,
   "id": "e5f88201-4a44-4467-8694-e1f691520563",
   "metadata": {},
   "outputs": [
    {
     "data": {
      "text/plain": [
       "[1, 3, 4, 5]"
      ]
     },
     "execution_count": 621,
     "metadata": {},
     "output_type": "execute_result"
    }
   ],
   "source": [
    "lst"
   ]
  },
  {
   "cell_type": "code",
   "execution_count": 623,
   "id": "40a244ca-a29d-40a7-88c1-bec54e29ecb2",
   "metadata": {},
   "outputs": [],
   "source": [
    "def test(x=5,y=10):\n",
    "    return x+y"
   ]
  },
  {
   "cell_type": "code",
   "execution_count": 625,
   "id": "0112b364-0871-40c6-a232-6f0ab098d424",
   "metadata": {},
   "outputs": [
    {
     "data": {
      "text/plain": [
       "5"
      ]
     },
     "execution_count": 625,
     "metadata": {},
     "output_type": "execute_result"
    }
   ],
   "source": [
    "test(2,3)"
   ]
  },
  {
   "cell_type": "code",
   "execution_count": 627,
   "id": "bef6792b-e9c3-4cc3-a480-a59535e870f9",
   "metadata": {},
   "outputs": [
    {
     "ename": "SyntaxError",
     "evalue": "parameter without a default follows parameter with a default (1099121323.py, line 1)",
     "output_type": "error",
     "traceback": [
      "\u001b[0;36m  Cell \u001b[0;32mIn[627], line 1\u001b[0;36m\u001b[0m\n\u001b[0;31m    def test(x=5,y):\u001b[0m\n\u001b[0m                 ^\u001b[0m\n\u001b[0;31mSyntaxError\u001b[0m\u001b[0;31m:\u001b[0m parameter without a default follows parameter with a default\n"
     ]
    }
   ],
   "source": [
    "def test(x=5,y):\n",
    "    return x+y"
   ]
  },
  {
   "cell_type": "code",
   "execution_count": 640,
   "id": "6050f6ce-748d-4149-9fae-31a2bc3b0b9f",
   "metadata": {},
   "outputs": [],
   "source": [
    "def test(y,x=5):\n",
    "    return x+y \n",
    "# we have to give argument before keyword argument\n",
    "    "
   ]
  },
  {
   "cell_type": "code",
   "execution_count": 642,
   "id": "8bb814c3-9dd0-44f7-8a6e-e7e3308631d5",
   "metadata": {},
   "outputs": [],
   "source": [
    "def test(**kwargs):\n",
    "    print(\"this is my args element \",kwargs.items())"
   ]
  },
  {
   "cell_type": "code",
   "execution_count": 644,
   "id": "36dd00ce-79f5-4b43-86c2-86ee05c542bb",
   "metadata": {},
   "outputs": [
    {
     "name": "stdout",
     "output_type": "stream",
     "text": [
      "this is my args element  dict_items([('x', 'sudh'), ('y', 56), ('z', [3, 4, 5, 6])])\n"
     ]
    }
   ],
   "source": [
    "test(x=\"sudh\",y=56,z=[3,4,5,6])"
   ]
  },
  {
   "cell_type": "code",
   "execution_count": 646,
   "id": "a12bd72d-9623-4bb7-9c84-2f4d3b9165e2",
   "metadata": {},
   "outputs": [],
   "source": [
    "def test(name,mail_id):\n",
    "    con=name+mail_id\n",
    "    return mail_id ,name ,con"
   ]
  },
  {
   "cell_type": "code",
   "execution_count": 650,
   "id": "d992c09c-5216-40dc-82e8-c0acca4f28ad",
   "metadata": {},
   "outputs": [
    {
     "data": {
      "text/plain": [
       "('sudhanshu@.com', 'sudh', 'sudhsudhanshu@.com')"
      ]
     },
     "execution_count": 650,
     "metadata": {},
     "output_type": "execute_result"
    }
   ],
   "source": [
    "test(\"sudh\" , \"sudhanshu@.com\")"
   ]
  },
  {
   "cell_type": "code",
   "execution_count": 652,
   "id": "4ad2f9fe-38d9-46b4-82c9-46bebe8ed7f5",
   "metadata": {},
   "outputs": [],
   "source": [
    "a=10\n",
    "b=20\n",
    "def test1(x,y):\n",
    "    return x+y"
   ]
  },
  {
   "cell_type": "code",
   "execution_count": 654,
   "id": "8d5e6bd0-97c8-4a13-bfe9-d9c52a4bea74",
   "metadata": {},
   "outputs": [
    {
     "data": {
      "text/plain": [
       "30"
      ]
     },
     "execution_count": 654,
     "metadata": {},
     "output_type": "execute_result"
    }
   ],
   "source": [
    "test1(a,b)"
   ]
  },
  {
   "cell_type": "code",
   "execution_count": 656,
   "id": "d6cb6a40-e1c0-4b28-b5e8-78da89ecc77b",
   "metadata": {},
   "outputs": [],
   "source": [
    "m=lambda x,y:x+y"
   ]
  },
  {
   "cell_type": "code",
   "execution_count": 658,
   "id": "b658a5e3-3179-45c1-b470-1b80b76b6f46",
   "metadata": {},
   "outputs": [
    {
     "data": {
      "text/plain": [
       "30"
      ]
     },
     "execution_count": 658,
     "metadata": {},
     "output_type": "execute_result"
    }
   ],
   "source": [
    "m(a,b)\n"
   ]
  },
  {
   "cell_type": "code",
   "execution_count": 660,
   "id": "314e04c3-a044-41f6-ac19-d2208a7b1a1d",
   "metadata": {},
   "outputs": [
    {
     "data": {
      "text/plain": [
       "'sudhsudhanshu@.com'"
      ]
     },
     "execution_count": 660,
     "metadata": {},
     "output_type": "execute_result"
    }
   ],
   "source": [
    "m(\"sudh\",\"sudhanshu@.com\")"
   ]
  },
  {
   "cell_type": "code",
   "execution_count": 662,
   "id": "8069e713-774c-40de-b2bf-ddbbf936a206",
   "metadata": {},
   "outputs": [],
   "source": [
    "b=\"sudh\"\n",
    "c=\"test\"\n",
    "n=lambda arg1,arg2:print(arg1,arg2)"
   ]
  },
  {
   "cell_type": "code",
   "execution_count": 664,
   "id": "16181d2c-aff1-44ed-bc45-b91347f4e621",
   "metadata": {},
   "outputs": [
    {
     "name": "stdout",
     "output_type": "stream",
     "text": [
      "sudh test\n"
     ]
    }
   ],
   "source": [
    "n(b,c)"
   ]
  },
  {
   "cell_type": "code",
   "execution_count": 670,
   "id": "9bd4aef3-0fbe-4738-9fdc-8aeed0cc664a",
   "metadata": {},
   "outputs": [],
   "source": [
    "r=10  # global variable\n",
    "def test3(a,b):\n",
    "    r=a/b   #local variable\n",
    "    print(r)"
   ]
  },
  {
   "cell_type": "code",
   "execution_count": 672,
   "id": "4ab64ce6-bda1-4a9f-8548-fa493558bcbf",
   "metadata": {},
   "outputs": [
    {
     "name": "stdout",
     "output_type": "stream",
     "text": [
      "1.0\n"
     ]
    }
   ],
   "source": [
    "test3(10,10)"
   ]
  },
  {
   "cell_type": "code",
   "execution_count": 674,
   "id": "d72858d1-ee4c-4fd6-b7bf-4a1695c10c63",
   "metadata": {},
   "outputs": [
    {
     "name": "stdout",
     "output_type": "stream",
     "text": [
      "\n"
     ]
    }
   ],
   "source": [
    "print()"
   ]
  },
  {
   "cell_type": "code",
   "execution_count": 678,
   "id": "4cc0b4ad-3ac2-43b7-a1d2-5c408da5bb6a",
   "metadata": {},
   "outputs": [],
   "source": [
    "def test4():\n",
    "    \"\"\"\n",
    "    this is my test function with the help of this function you will be able to learn a basic of fun\"\"\"\n",
    "    print(\"my name is xyz\")"
   ]
  },
  {
   "cell_type": "code",
   "execution_count": 681,
   "id": "d9e24265-980d-4de9-bd3d-1b30298b9438",
   "metadata": {},
   "outputs": [
    {
     "name": "stdout",
     "output_type": "stream",
     "text": [
      "my name is xyz\n"
     ]
    }
   ],
   "source": [
    "test4()"
   ]
  },
  {
   "cell_type": "code",
   "execution_count": 687,
   "id": "a9a1e889-be70-4445-825f-fd39039b5a4b",
   "metadata": {},
   "outputs": [],
   "source": [
    "def test4(a,b):\n",
    "    \"\"\"\n",
    "    test4()\n",
    "    a=this is going to do this\n",
    "    b=is going to do that\n",
    "    this is my test function with the help of this function you will be able to learn a basic of fun\"\"\"\n",
    "    print(\"my name is xyz\")"
   ]
  },
  {
   "cell_type": "code",
   "execution_count": 689,
   "id": "3836cd1c-aff4-4f1e-9dd9-f7117ef07227",
   "metadata": {},
   "outputs": [
    {
     "name": "stdout",
     "output_type": "stream",
     "text": [
      "my name is xyz\n"
     ]
    }
   ],
   "source": [
    "test4(34,56)"
   ]
  },
  {
   "cell_type": "code",
   "execution_count": 691,
   "id": "2a2a1cf7-8147-4af7-802b-8da7be10cd57",
   "metadata": {},
   "outputs": [
    {
     "name": "stdout",
     "output_type": "stream",
     "text": [
      "Help on built-in function print in module builtins:\n",
      "\n",
      "print(*args, sep=' ', end='\\n', file=None, flush=False)\n",
      "    Prints the values to a stream, or to sys.stdout by default.\n",
      "\n",
      "    sep\n",
      "      string inserted between values, default a space.\n",
      "    end\n",
      "      string appended after the last value, default a newline.\n",
      "    file\n",
      "      a file-like object (stream); defaults to the current sys.stdout.\n",
      "    flush\n",
      "      whether to forcibly flush the stream.\n",
      "\n"
     ]
    }
   ],
   "source": [
    "help(print)"
   ]
  },
  {
   "cell_type": "code",
   "execution_count": 693,
   "id": "3006f788-1e9a-434b-bc94-d215b249a332",
   "metadata": {},
   "outputs": [
    {
     "name": "stdout",
     "output_type": "stream",
     "text": [
      "Help on function test4 in module __main__:\n",
      "\n",
      "test4(a, b)\n",
      "    test4()\n",
      "    a=this is going to do this\n",
      "    b=is going to do that\n",
      "    this is my test function with the help of this function you will be able to learn a basic of fun\n",
      "\n"
     ]
    }
   ],
   "source": [
    "help(test4)"
   ]
  },
  {
   "cell_type": "code",
   "execution_count": 695,
   "id": "dfddfe4a-dc87-49c7-ac5d-9e6ae6e54efb",
   "metadata": {},
   "outputs": [],
   "source": [
    "a=10"
   ]
  },
  {
   "cell_type": "code",
   "execution_count": 697,
   "id": "ce4c7d33-e359-4d6d-ac19-d56d71f0005a",
   "metadata": {},
   "outputs": [
    {
     "ename": "TypeError",
     "evalue": "'int' object is not iterable",
     "output_type": "error",
     "traceback": [
      "\u001b[0;31m---------------------------------------------------------------------------\u001b[0m",
      "\u001b[0;31mTypeError\u001b[0m                                 Traceback (most recent call last)",
      "Cell \u001b[0;32mIn[697], line 1\u001b[0m\n\u001b[0;32m----> 1\u001b[0m \u001b[38;5;28;01mfor\u001b[39;00m i \u001b[38;5;129;01min\u001b[39;00m a:\n\u001b[1;32m      2\u001b[0m     \u001b[38;5;28mprint\u001b[39m(i)\n",
      "\u001b[0;31mTypeError\u001b[0m: 'int' object is not iterable"
     ]
    }
   ],
   "source": [
    "for i in a:\n",
    "    print(i)"
   ]
  },
  {
   "cell_type": "code",
   "execution_count": 699,
   "id": "b4a8a862-51a0-45ae-bdb8-d0d5c36ab449",
   "metadata": {},
   "outputs": [
    {
     "name": "stdout",
     "output_type": "stream",
     "text": [
      "s\n",
      "u\n",
      "d\n",
      "h\n"
     ]
    }
   ],
   "source": [
    "for i in \"sudh\":\n",
    "    print(i)"
   ]
  },
  {
   "cell_type": "code",
   "execution_count": 701,
   "id": "54cec1ab-b580-45dd-ac95-ddf3470961bd",
   "metadata": {},
   "outputs": [
    {
     "ename": "TypeError",
     "evalue": "'str' object is not an iterator",
     "output_type": "error",
     "traceback": [
      "\u001b[0;31m---------------------------------------------------------------------------\u001b[0m",
      "\u001b[0;31mTypeError\u001b[0m                                 Traceback (most recent call last)",
      "Cell \u001b[0;32mIn[701], line 2\u001b[0m\n\u001b[1;32m      1\u001b[0m s\u001b[38;5;241m=\u001b[39m\u001b[38;5;124m\"\u001b[39m\u001b[38;5;124msudh\u001b[39m\u001b[38;5;124m\"\u001b[39m\n\u001b[0;32m----> 2\u001b[0m \u001b[38;5;28mnext\u001b[39m(s)\n",
      "\u001b[0;31mTypeError\u001b[0m: 'str' object is not an iterator"
     ]
    }
   ],
   "source": [
    "s=\"sudh\"\n",
    "next(s)"
   ]
  },
  {
   "cell_type": "code",
   "execution_count": 708,
   "id": "0ed04584-4d44-4708-8f21-1797ec6a5ab7",
   "metadata": {},
   "outputs": [],
   "source": [
    "s=iter(s)#iter convert data to iterator if it by default iterable"
   ]
  },
  {
   "cell_type": "code",
   "execution_count": 710,
   "id": "009da648-5320-4cb6-a62e-4e82dde39bd5",
   "metadata": {},
   "outputs": [
    {
     "data": {
      "text/plain": [
       "'u'"
      ]
     },
     "execution_count": 710,
     "metadata": {},
     "output_type": "execute_result"
    }
   ],
   "source": [
    "next(s)"
   ]
  },
  {
   "cell_type": "code",
   "execution_count": 712,
   "id": "919aa9e1-ea6f-476e-a1dc-a7c6c0232579",
   "metadata": {},
   "outputs": [
    {
     "data": {
      "text/plain": [
       "'d'"
      ]
     },
     "execution_count": 712,
     "metadata": {},
     "output_type": "execute_result"
    }
   ],
   "source": [
    "next(s)"
   ]
  },
  {
   "cell_type": "code",
   "execution_count": 714,
   "id": "fa1dc85b-3096-45b3-8e15-7cbce3eeaffb",
   "metadata": {},
   "outputs": [
    {
     "data": {
      "text/plain": [
       "'h'"
      ]
     },
     "execution_count": 714,
     "metadata": {},
     "output_type": "execute_result"
    }
   ],
   "source": [
    "next(s)"
   ]
  },
  {
   "cell_type": "code",
   "execution_count": 716,
   "id": "69799e63-1be9-4c13-9dda-3ccac17941f2",
   "metadata": {},
   "outputs": [],
   "source": [
    "l=[1,2,3,4,5]\n",
    "# list is iterable but not iterator"
   ]
  },
  {
   "cell_type": "code",
   "execution_count": 718,
   "id": "969d017e-9443-43f1-a782-80ff8570ead6",
   "metadata": {},
   "outputs": [
    {
     "ename": "TypeError",
     "evalue": "'list' object is not an iterator",
     "output_type": "error",
     "traceback": [
      "\u001b[0;31m---------------------------------------------------------------------------\u001b[0m",
      "\u001b[0;31mTypeError\u001b[0m                                 Traceback (most recent call last)",
      "Cell \u001b[0;32mIn[718], line 1\u001b[0m\n\u001b[0;32m----> 1\u001b[0m \u001b[38;5;28mnext\u001b[39m(l)\n",
      "\u001b[0;31mTypeError\u001b[0m: 'list' object is not an iterator"
     ]
    }
   ],
   "source": [
    "next(l)"
   ]
  },
  {
   "cell_type": "code",
   "execution_count": 720,
   "id": "fa6cb13d-5c27-473a-bed2-4fef175cdbe8",
   "metadata": {},
   "outputs": [],
   "source": [
    "l=iter(l)"
   ]
  },
  {
   "cell_type": "code",
   "execution_count": 722,
   "id": "529bebb7-582e-4a81-837f-821ff64ecc4a",
   "metadata": {},
   "outputs": [
    {
     "data": {
      "text/plain": [
       "1"
      ]
     },
     "execution_count": 722,
     "metadata": {},
     "output_type": "execute_result"
    }
   ],
   "source": [
    "next(l)"
   ]
  },
  {
   "cell_type": "code",
   "execution_count": 724,
   "id": "0f8450b9-4bd1-4317-826e-2380d785af66",
   "metadata": {},
   "outputs": [
    {
     "data": {
      "text/plain": [
       "2"
      ]
     },
     "execution_count": 724,
     "metadata": {},
     "output_type": "execute_result"
    }
   ],
   "source": [
    "next(l)"
   ]
  },
  {
   "cell_type": "code",
   "execution_count": 726,
   "id": "3cff47df-f645-468a-a9a7-1bd44901b49f",
   "metadata": {},
   "outputs": [
    {
     "data": {
      "text/plain": [
       "3"
      ]
     },
     "execution_count": 726,
     "metadata": {},
     "output_type": "execute_result"
    }
   ],
   "source": [
    "next(l)"
   ]
  },
  {
   "cell_type": "code",
   "execution_count": 728,
   "id": "0dd381e0-da1d-44d2-b05c-2e2ca6315877",
   "metadata": {},
   "outputs": [
    {
     "data": {
      "text/plain": [
       "4"
      ]
     },
     "execution_count": 728,
     "metadata": {},
     "output_type": "execute_result"
    }
   ],
   "source": [
    "next(l)"
   ]
  },
  {
   "cell_type": "code",
   "execution_count": 730,
   "id": "75f66343-90f7-4426-b9db-bd29eb1dea61",
   "metadata": {},
   "outputs": [
    {
     "data": {
      "text/plain": [
       "5"
      ]
     },
     "execution_count": 730,
     "metadata": {},
     "output_type": "execute_result"
    }
   ],
   "source": [
    "next(l)"
   ]
  },
  {
   "cell_type": "code",
   "execution_count": 732,
   "id": "3f5f2d69-58e5-45a4-b125-11ea661a099d",
   "metadata": {},
   "outputs": [
    {
     "ename": "StopIteration",
     "evalue": "",
     "output_type": "error",
     "traceback": [
      "\u001b[0;31m---------------------------------------------------------------------------\u001b[0m",
      "\u001b[0;31mStopIteration\u001b[0m                             Traceback (most recent call last)",
      "Cell \u001b[0;32mIn[732], line 1\u001b[0m\n\u001b[0;32m----> 1\u001b[0m \u001b[38;5;28mnext\u001b[39m(l)\n",
      "\u001b[0;31mStopIteration\u001b[0m: "
     ]
    }
   ],
   "source": [
    "next(l)"
   ]
  },
  {
   "cell_type": "code",
   "execution_count": 734,
   "id": "480df39d-364c-4ad6-808b-69685bd21117",
   "metadata": {},
   "outputs": [],
   "source": [
    "t=(4,5,6,7)\n",
    "t=iter(t)"
   ]
  },
  {
   "cell_type": "code",
   "execution_count": 736,
   "id": "d4bda44d-2fce-48ea-a3d7-ed049e3d1699",
   "metadata": {},
   "outputs": [
    {
     "data": {
      "text/plain": [
       "4"
      ]
     },
     "execution_count": 736,
     "metadata": {},
     "output_type": "execute_result"
    }
   ],
   "source": [
    "next(t)"
   ]
  },
  {
   "cell_type": "code",
   "execution_count": 738,
   "id": "d431bac5-6cd6-4a93-b437-e505dcf6763b",
   "metadata": {},
   "outputs": [
    {
     "data": {
      "text/plain": [
       "5"
      ]
     },
     "execution_count": 738,
     "metadata": {},
     "output_type": "execute_result"
    }
   ],
   "source": [
    "next(t)"
   ]
  },
  {
   "cell_type": "code",
   "execution_count": 740,
   "id": "f39ef6bd-9ce0-4d8d-ba4b-49f2b851d242",
   "metadata": {},
   "outputs": [
    {
     "data": {
      "text/plain": [
       "6"
      ]
     },
     "execution_count": 740,
     "metadata": {},
     "output_type": "execute_result"
    }
   ],
   "source": [
    "next(t)"
   ]
  },
  {
   "cell_type": "code",
   "execution_count": 742,
   "id": "85857429-a577-4201-8064-e61b5487d329",
   "metadata": {},
   "outputs": [
    {
     "data": {
      "text/plain": [
       "7"
      ]
     },
     "execution_count": 742,
     "metadata": {},
     "output_type": "execute_result"
    }
   ],
   "source": [
    "next(t)"
   ]
  },
  {
   "cell_type": "code",
   "execution_count": 744,
   "id": "1752f3f6-8673-4b5a-9829-23301084d4ae",
   "metadata": {},
   "outputs": [],
   "source": [
    "def test4(n):\n",
    "    l=[]\n",
    "    for i in range(n):\n",
    "        l.append(i)\n",
    "    return l"
   ]
  },
  {
   "cell_type": "code",
   "execution_count": 746,
   "id": "3c4aa4b4-08b3-4bb1-84e3-89313ac99917",
   "metadata": {},
   "outputs": [
    {
     "data": {
      "text/plain": [
       "[0, 1, 2, 3, 4, 5]"
      ]
     },
     "execution_count": 746,
     "metadata": {},
     "output_type": "execute_result"
    }
   ],
   "source": [
    "test4(6)\n"
   ]
  },
  {
   "cell_type": "code",
   "execution_count": null,
   "id": "3b540c7b-2d61-411e-8f21-20109328c9e0",
   "metadata": {},
   "outputs": [],
   "source": [
    "def test4(n):\n",
    "    l=[]\n",
    "    for i in range(n):\n",
    "        l.append(i**3)\n",
    "    return l"
   ]
  },
  {
   "cell_type": "code",
   "execution_count": null,
   "id": "53b90824-ec65-4d50-b979-322bb519ab44",
   "metadata": {},
   "outputs": [],
   "source": [
    "test4(6)"
   ]
  },
  {
   "cell_type": "code",
   "execution_count": null,
   "id": "a8648f6d-e4e7-4d54-8f52-a850d3d83daa",
   "metadata": {},
   "outputs": [],
   "source": [
    "a=10\n",
    "b=10\n",
    "t=a+b"
   ]
  },
  {
   "cell_type": "code",
   "execution_count": null,
   "id": "a8f8b7ba-e2e5-4cc9-aacf-fab93d538fbd",
   "metadata": {},
   "outputs": [],
   "source": [
    "print()"
   ]
  },
  {
   "cell_type": "code",
   "execution_count": 1,
   "id": "04915386-9a4f-4b6c-8a90-31fadd986e2a",
   "metadata": {},
   "outputs": [],
   "source": [
    "def test5(n):\n",
    "    for i in range(n):\n",
    "        yield i**3"
   ]
  },
  {
   "cell_type": "code",
   "execution_count": 3,
   "id": "962eb163-f58c-4ea3-b94a-d580b4740551",
   "metadata": {},
   "outputs": [
    {
     "data": {
      "text/plain": [
       "<generator object test5 at 0x111606400>"
      ]
     },
     "execution_count": 3,
     "metadata": {},
     "output_type": "execute_result"
    }
   ],
   "source": [
    "test5(30)"
   ]
  },
  {
   "cell_type": "code",
   "execution_count": 5,
   "id": "0d2e1988-4ca5-4fe3-affb-dc020745dab6",
   "metadata": {},
   "outputs": [
    {
     "data": {
      "text/plain": [
       "range(0, 20)"
      ]
     },
     "execution_count": 5,
     "metadata": {},
     "output_type": "execute_result"
    }
   ],
   "source": [
    "range(20)"
   ]
  },
  {
   "cell_type": "code",
   "execution_count": 7,
   "id": "d1823972-b63e-4211-8d4f-576013d50db4",
   "metadata": {},
   "outputs": [
    {
     "data": {
      "text/plain": [
       "[0, 1, 2, 3, 4, 5, 6, 7, 8, 9, 10, 11, 12, 13, 14, 15, 16, 17, 18, 19]"
      ]
     },
     "execution_count": 7,
     "metadata": {},
     "output_type": "execute_result"
    }
   ],
   "source": [
    "list(range(20))"
   ]
  },
  {
   "cell_type": "code",
   "execution_count": 9,
   "id": "e3d85fc4-ba57-44fd-abde-9621fe6bf960",
   "metadata": {},
   "outputs": [
    {
     "name": "stdout",
     "output_type": "stream",
     "text": [
      "0\n",
      "1\n",
      "2\n",
      "3\n",
      "4\n",
      "5\n",
      "6\n",
      "7\n",
      "8\n",
      "9\n",
      "10\n",
      "11\n",
      "12\n",
      "13\n",
      "14\n",
      "15\n",
      "16\n",
      "17\n",
      "18\n",
      "19\n"
     ]
    }
   ],
   "source": [
    "for i in range(20):\n",
    "    print(i)"
   ]
  },
  {
   "cell_type": "code",
   "execution_count": null,
   "id": "18b28fa1-2bd5-4078-aea4-cd480467e623",
   "metadata": {},
   "outputs": [],
   "source": []
  }
 ],
 "metadata": {
  "kernelspec": {
   "display_name": "Python 3 (ipykernel)",
   "language": "python",
   "name": "python3"
  },
  "language_info": {
   "codemirror_mode": {
    "name": "ipython",
    "version": 3
   },
   "file_extension": ".py",
   "mimetype": "text/x-python",
   "name": "python",
   "nbconvert_exporter": "python",
   "pygments_lexer": "ipython3",
   "version": "3.12.4"
  }
 },
 "nbformat": 4,
 "nbformat_minor": 5
}
