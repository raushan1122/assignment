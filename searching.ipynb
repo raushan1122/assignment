{
 "cells": [
  {
   "cell_type": "code",
   "execution_count": 1,
   "id": "3b3ed8d9-dae5-4ea1-b0a5-6dcad00d01bc",
   "metadata": {},
   "outputs": [
    {
     "name": "stdout",
     "output_type": "stream",
     "text": [
      "Searching element is present at index: 5\n"
     ]
    }
   ],
   "source": [
    "#linear search\n",
    "#funtion definition\n",
    "##time complexity:o(n)\n",
    "##space complexity:o(1)\n",
    "def linearSearch(arr,x):\n",
    "    for i in range(len(arr)):\n",
    "        if arr[i]==x:\n",
    "            return i\n",
    "    return -1\n",
    "#driver code\n",
    "arr=[20,45,27,47,55,67,75,88,90]\n",
    "x=67\n",
    "#function calling\n",
    "result=linearSearch(arr,x)\n",
    "print(\"Searching element is present at index:\",result)"
   ]
  },
  {
   "cell_type": "code",
   "execution_count": 25,
   "id": "eabcd847-4967-4437-95a9-f95819a5bf9b",
   "metadata": {},
   "outputs": [
    {
     "name": "stdout",
     "output_type": "stream",
     "text": [
      "searching element is present at the location:  6\n"
     ]
    }
   ],
   "source": [
    "def binarySearch(arr,x,i,j):\n",
    "    while i<=j:\n",
    "       mid=i+(j-i)//2\n",
    "        ##to optimize the space utilization\n",
    "       if arr[mid]==x:\n",
    "            return mid\n",
    "       elif arr[mid]<x:\n",
    "            ##right side of the mid\n",
    "            ##search space- mid+1 to j\n",
    "            ## recursion- calling same function again inside the function definition\n",
    "            return binarySearch(arr,x,mid+1,j)\n",
    "       else:\n",
    "            ##left side of mid\n",
    "            ##search space- i to mid-1\n",
    "            return binarySearch(arr,x,i,mid-1)\n",
    "    ## searching element is not present in array\n",
    "    return -1\n",
    "           \n",
    "#driver code\n",
    "arr=[20,30,40,50,60,70,80,90]\n",
    "x=80\n",
    "i=0\n",
    "j=len(arr)-1\n",
    "result=binarySearch(arr,x,i,j)\n",
    "print(\"searching element is present at the location: \",result)\n",
    "            \n",
    "        "
   ]
  },
  {
   "cell_type": "code",
   "execution_count": 27,
   "id": "1f5c2575-7799-43d9-8eed-bb6bba81287a",
   "metadata": {},
   "outputs": [
    {
     "name": "stdout",
     "output_type": "stream",
     "text": [
      "searching element is present at the location:  6\n"
     ]
    }
   ],
   "source": [
    "## without recursion\n",
    "def binarySearch(arr,x,i,j):\n",
    "    while i<=j:\n",
    "        ## lower bound of while division\n",
    "       mid=i+(j-i)//2\n",
    "       if arr[mid]==x:\n",
    "            return mid\n",
    "       elif arr[mid]<x:\n",
    "            ##right side of the mid\n",
    "            ##search space- mid+1 to j\n",
    "            \n",
    "           i=mid + 1\n",
    "       else:\n",
    "            ##arr[mid]>x:\n",
    "            ##left side of mid\n",
    "            ##search space- i to mid-1\n",
    "            j=mid - 1\n",
    "    ## searching element is not present in array\n",
    "    return -1\n",
    "           \n",
    "#driver code\n",
    "arr=[20,30,40,50,60,70,80,90]\n",
    "x=80\n",
    "i=0\n",
    "j=len(arr)-1\n",
    "result=binarySearch(arr,x,i,j)\n",
    "print(\"searching element is present at the location: \",result)\n",
    "            \n",
    "        "
   ]
  },
  {
   "cell_type": "code",
   "execution_count": 41,
   "id": "a55cc5ec-c63f-4c98-b037-6741747966da",
   "metadata": {},
   "outputs": [
    {
     "name": "stdout",
     "output_type": "stream",
     "text": [
      "element is present at: (4, 5)\n"
     ]
    }
   ],
   "source": [
    "##time complexity:o(n)\n",
    "##greedy algorithm\n",
    "def pointer(arr,sum_value,l,r):\n",
    "    while l<=r:\n",
    "        if arr[l]+arr[r]==sum_value:\n",
    "            return l,r\n",
    "        elif arr[l]+arr[r]>sum_value:\n",
    "            return pointer(arr,sum_value,l,r-1)\n",
    "        else:\n",
    "            return pointer(arr,sum_value,l+1,r)\n",
    "    return -1\n",
    "##driver code\n",
    "arr=[20,40,60,80,90,120,240]\n",
    "sum_value=210\n",
    "l=0\n",
    "r=len(arr)-1\n",
    "result=pointer(arr,sum_value,l,r)\n",
    "print(\"element is present at:\",result)\n",
    "            \n",
    "            "
   ]
  },
  {
   "cell_type": "code",
   "execution_count": 49,
   "id": "ccafe111-d659-4350-94e7-fee693b22b77",
   "metadata": {},
   "outputs": [
    {
     "name": "stdout",
     "output_type": "stream",
     "text": [
      "the maximum profit of buying and selling the stocks is: 5\n"
     ]
    }
   ],
   "source": [
    "#best time to buy and sell stocks\n",
    "##doubt\n",
    "##function definition\n",
    "##time complexity:o(n)\n",
    "def findmaxprofit(price):\n",
    "    ##initialization\n",
    "    minprice = float('inf')\n",
    "    maxprofit = 0\n",
    "    for i in range(len(price)):\n",
    "        if price[i]<minprice:\n",
    "            minprice=price[i]\n",
    "        elif price[i]-minprice>maxprofit:\n",
    "            maxprofit=price[i]-minprice\n",
    "    return maxprofit\n",
    "\n",
    "##driver code\n",
    "price=[7,1,5,3,6,4]\n",
    "maxprofit_value=findmaxprofit(price)\n",
    "print(\"the maximum profit of buying and selling the stocks is:\",maxprofit_value)"
   ]
  },
  {
   "cell_type": "code",
   "execution_count": 53,
   "id": "9156281b-1007-4c5b-a97d-054f7883f76b",
   "metadata": {},
   "outputs": [],
   "source": [
    "def isPalindrome(x: int) -> bool:\n",
    "    if x < 0:\n",
    "        return False\n",
    "    return str(x) == str(x)[::-1]"
   ]
  },
  {
   "cell_type": "code",
   "execution_count": null,
   "id": "47a909a3-cb70-48bf-a86a-b382b0826c05",
   "metadata": {},
   "outputs": [],
   "source": []
  }
 ],
 "metadata": {
  "kernelspec": {
   "display_name": "Python 3 (ipykernel)",
   "language": "python",
   "name": "python3"
  },
  "language_info": {
   "codemirror_mode": {
    "name": "ipython",
    "version": 3
   },
   "file_extension": ".py",
   "mimetype": "text/x-python",
   "name": "python",
   "nbconvert_exporter": "python",
   "pygments_lexer": "ipython3",
   "version": "3.12.4"
  }
 },
 "nbformat": 4,
 "nbformat_minor": 5
}
