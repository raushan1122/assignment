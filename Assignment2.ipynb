{
 "cells": [
  {
   "cell_type": "code",
   "execution_count": 1,
   "id": "dc608626-d91f-40b7-9a7f-d2e87b31a828",
   "metadata": {},
   "outputs": [],
   "source": [
    "l = [\"sudh\",234,45.56,[45,56,6,\"c\"],True]"
   ]
  },
  {
   "cell_type": "code",
   "execution_count": 3,
   "id": "4840abf6-f2c6-4ad1-a3af-fb9da782e8ae",
   "metadata": {},
   "outputs": [
    {
     "name": "stdout",
     "output_type": "stream",
     "text": [
      "['sudh', 234, 45.56, [45, 56, 6, 'c'], True]\n",
      "['sudh', 234, 45.56, [45, 56, 6, 'c'], True]\n",
      "['sudh', 234, 45.56, [45, 56, 6, 'c'], True]\n",
      "['sudh', 234, 45.56, [45, 56, 6, 'c'], True]\n",
      "['sudh', 234, 45.56, [45, 56, 6, 'c'], True]\n"
     ]
    }
   ],
   "source": [
    "for i in l:\n",
    "    print(l)"
   ]
  },
  {
   "cell_type": "code",
   "execution_count": 5,
   "id": "9f935188-55bd-45bc-8074-3a2ff3207544",
   "metadata": {},
   "outputs": [
    {
     "data": {
      "text/plain": [
       "'sudh'"
      ]
     },
     "execution_count": 5,
     "metadata": {},
     "output_type": "execute_result"
    }
   ],
   "source": [
    "l[0]"
   ]
  },
  {
   "cell_type": "code",
   "execution_count": 7,
   "id": "d6299a5d-2ccf-4df5-8c8c-635be0eb9cb8",
   "metadata": {},
   "outputs": [
    {
     "data": {
      "text/plain": [
       "[True, [45, 56, 6, 'c'], 45.56, 234, 'sudh']"
      ]
     },
     "execution_count": 7,
     "metadata": {},
     "output_type": "execute_result"
    }
   ],
   "source": [
    "l[::-1]"
   ]
  },
  {
   "cell_type": "code",
   "execution_count": 11,
   "id": "54a291da-7457-4969-acb2-28745b76bd13",
   "metadata": {},
   "outputs": [
    {
     "name": "stdout",
     "output_type": "stream",
     "text": [
      "no element is not a list sudh\n",
      "no element is not a list 234\n",
      "no element is not a list 45.56\n",
      "this is a list [45, 56, 6, 'c']\n",
      "no element is not a list True\n"
     ]
    }
   ],
   "source": [
    "for i in l:\n",
    "    if type(i)==list:\n",
    "        print(\"this is a list\",i)\n",
    "    else:\n",
    "        print(\"no element is not a list\",i)"
   ]
  },
  {
   "cell_type": "code",
   "execution_count": 13,
   "id": "5b9d6bce-9b31-4c2b-b148-908a868d00a0",
   "metadata": {},
   "outputs": [
    {
     "data": {
      "text/plain": [
       "['sudh',\n",
       " 234,\n",
       " 45.56,\n",
       " [45, 56, 6, 'c'],\n",
       " True,\n",
       " 'sudh',\n",
       " 234,\n",
       " 45.56,\n",
       " [45, 56, 6, 'c'],\n",
       " True]"
      ]
     },
     "execution_count": 13,
     "metadata": {},
     "output_type": "execute_result"
    }
   ],
   "source": [
    "l*2"
   ]
  },
  {
   "cell_type": "code",
   "execution_count": 15,
   "id": "af7ffb45-2a03-4981-a268-b7dd4855e715",
   "metadata": {},
   "outputs": [
    {
     "data": {
      "text/plain": [
       "5"
      ]
     },
     "execution_count": 15,
     "metadata": {},
     "output_type": "execute_result"
    }
   ],
   "source": [
    "len(l)"
   ]
  },
  {
   "cell_type": "raw",
   "id": "f9cf21d8-fe39-4a04-bb26-816152de9ae8",
   "metadata": {},
   "source": [
    "234 in l"
   ]
  },
  {
   "cell_type": "code",
   "execution_count": 20,
   "id": "a985cc75-f3de-4075-8346-13f4423d2153",
   "metadata": {},
   "outputs": [
    {
     "name": "stdout",
     "output_type": "stream",
     "text": [
      "5\n"
     ]
    }
   ],
   "source": [
    "print(max([2,3,4,5]))"
   ]
  },
  {
   "cell_type": "code",
   "execution_count": 24,
   "id": "a959933b-3531-4dcb-bcfa-116d715229c6",
   "metadata": {},
   "outputs": [
    {
     "data": {
      "text/plain": [
       "'z'"
      ]
     },
     "execution_count": 24,
     "metadata": {},
     "output_type": "execute_result"
    }
   ],
   "source": [
    "max([\"sudh\",\"ineuron\",\"ai\",\"z\"])"
   ]
  },
  {
   "cell_type": "code",
   "execution_count": 22,
   "id": "e90fd408-28c4-4e2b-b642-a3637b33fa33",
   "metadata": {},
   "outputs": [
    {
     "ename": "TypeError",
     "evalue": "'>' not supported between instances of 'int' and 'str'",
     "output_type": "error",
     "traceback": [
      "\u001b[0;31m---------------------------------------------------------------------------\u001b[0m",
      "\u001b[0;31mTypeError\u001b[0m                                 Traceback (most recent call last)",
      "Cell \u001b[0;32mIn[22], line 1\u001b[0m\n\u001b[0;32m----> 1\u001b[0m \u001b[38;5;28mmax\u001b[39m([\u001b[38;5;124m\"\u001b[39m\u001b[38;5;124msfguyg\u001b[39m\u001b[38;5;124m\"\u001b[39m,\u001b[38;5;124m\"\u001b[39m\u001b[38;5;124muhfh\u001b[39m\u001b[38;5;124m\"\u001b[39m,\u001b[38;5;241m343\u001b[39m])\n",
      "\u001b[0;31mTypeError\u001b[0m: '>' not supported between instances of 'int' and 'str'"
     ]
    }
   ],
   "source": [
    "max([\"sfguyg\",\"uhfh\",343])"
   ]
  },
  {
   "cell_type": "code",
   "execution_count": null,
   "id": "aa855f2e-abd7-442e-9048-ddecc338ef7f",
   "metadata": {},
   "outputs": [],
   "source": [
    "\n",
    "num = int(input(\"Enter a number: \"))\n",
    "original_num = num\n",
    "reverse = 0\n",
    "sum_digits = 0\n",
    "\n",
    "while num > 0:\n",
    "    digit = num % 10\n",
    "    reverse = reverse * 10 + digit\n",
    "    sum_digits += digit\n",
    "    num //= 10\n",
    "\n",
    "print(f\"Original Number: {original_num}\")\n",
    "print(f\"Reversed Number: {reverse}\")\n",
    "print(f\"Sum of Digits: {sum_digits}\")\n"
   ]
  },
  {
   "cell_type": "code",
   "execution_count": null,
   "id": "6ae4d7bf-6f9e-4dbf-9cca-5f99288130a4",
   "metadata": {},
   "outputs": [],
   "source": [
    "# Input a number\n",
    "num = int(input(\"Enter a number: \"))  # Example Input: 1234\n",
    "original_num = num\n",
    "reverse = 0\n",
    "sum_digits = 0\n",
    "\n",
    "while num > 0:\n",
    "    digit = num % 10\n",
    "    reverse = reverse * 10 + digit\n",
    "    sum_digits += digit\n",
    "    num //= 10\n",
    "\n",
    "print(f\"Original Number: {original_num}\")\n",
    "print(f\"Reversed Number: {reverse}\")\n",
    "print(f\"Sum of Digits: {sum_digits}\")\n"
   ]
  },
  {
   "cell_type": "code",
   "execution_count": null,
   "id": "ee59d29d-0c0a-4788-a7cc-0437a8c513e4",
   "metadata": {},
   "outputs": [],
   "source": []
  },
  {
   "cell_type": "code",
   "execution_count": null,
   "id": "607b1fc5-ac6b-47d0-b277-a8d932c4c8d0",
   "metadata": {},
   "outputs": [],
   "source": []
  }
 ],
 "metadata": {
  "kernelspec": {
   "display_name": "Python 3 (ipykernel)",
   "language": "python",
   "name": "python3"
  },
  "language_info": {
   "codemirror_mode": {
    "name": "ipython",
    "version": 3
   },
   "file_extension": ".py",
   "mimetype": "text/x-python",
   "name": "python",
   "nbconvert_exporter": "python",
   "pygments_lexer": "ipython3",
   "version": "3.12.4"
  }
 },
 "nbformat": 4,
 "nbformat_minor": 5
}
